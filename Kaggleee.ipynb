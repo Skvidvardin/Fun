{
 "cells": [
  {
   "cell_type": "code",
   "execution_count": 43,
   "metadata": {
    "collapsed": true
   },
   "outputs": [],
   "source": [
    "import pandas as pd\n",
    "import numpy as np"
   ]
  },
  {
   "cell_type": "code",
   "execution_count": 103,
   "metadata": {
    "collapsed": false
   },
   "outputs": [],
   "source": [
    "data=pd.read_csv('train_data.csv',sep=',')\n",
    "target=pd.read_csv('train_target.csv')"
   ]
  },
  {
   "cell_type": "code",
   "execution_count": 104,
   "metadata": {
    "collapsed": false
   },
   "outputs": [
    {
     "data": {
      "text/plain": [
       "93.994    5171\n",
       "93.918    4443\n",
       "92.893    3810\n",
       "93.444    3487\n",
       "94.465    2976\n",
       "93.200    2491\n",
       "93.075    1646\n",
       "92.201     503\n",
       "92.963     482\n",
       "92.431     298\n",
       "92.649     242\n",
       "94.199     205\n",
       "94.215     201\n",
       "92.843     201\n",
       "93.369     183\n",
       "92.379     174\n",
       "94.055     164\n",
       "94.027     156\n",
       "93.876     145\n",
       "94.601     136\n",
       "92.713     122\n",
       "92.469     113\n",
       "93.749     104\n",
       "94.767      87\n",
       "93.798      47\n",
       "92.756       8\n",
       "Name: cons.price.idx, dtype: int64"
      ]
     },
     "execution_count": 104,
     "metadata": {},
     "output_type": "execute_result"
    }
   ],
   "source": [
    "data['cons.price.idx'].value_counts()"
   ]
  },
  {
   "cell_type": "code",
   "execution_count": 105,
   "metadata": {
    "collapsed": false
   },
   "outputs": [],
   "source": [
    "dummi=pd.get_dummies(data)"
   ]
  },
  {
   "cell_type": "code",
   "execution_count": null,
   "metadata": {
    "collapsed": false
   },
   "outputs": [],
   "source": [
    "mm=target.values.reshape(-1,1)\n",
    "www=mm.ravel()\n",
    "www"
   ]
  },
  {
   "cell_type": "code",
   "execution_count": 114,
   "metadata": {
    "collapsed": false
   },
   "outputs": [],
   "source": [
    "from sklearn.cross_validation import train_test_split\n",
    "X_train, X_test, y_train, y_test = train_test_split(\n",
    "    dummi, www, test_size=0.3, random_state=4445)"
   ]
  },
  {
   "cell_type": "code",
   "execution_count": 118,
   "metadata": {
    "collapsed": false
   },
   "outputs": [],
   "source": [
    "from sklearn.ensemble import RandomForestClassifier\n",
    "from sklearn.metrics import accuracy_score\n",
    "from sklearn.metrics import roc_auc_score\n",
    "import pylab as pl\n",
    "import scipy\n",
    "import matplotlib.pyplot as plt\n",
    "%matplotlib inline"
   ]
  },
  {
   "cell_type": "code",
   "execution_count": 121,
   "metadata": {
    "collapsed": false
   },
   "outputs": [
    {
     "name": "stdout",
     "output_type": "stream",
     "text": [
      "Accuracy_score: 0.890928856142\n",
      "Accuracy_score: 0.900229496316\n"
     ]
    },
    {
     "data": {
      "image/png": "[encoded data removed]",
      "text/plain": [
       "<matplotlib.figure.Figure at 0x1925a981828>"
      ]
     },
     "metadata": {},
     "output_type": "display_data"
    },
    {
     "data": {
      "image/png": "[encoded data removed]",
      "text/plain": [
       "<matplotlib.figure.Figure at 0x1925a981208>"
      ]
     },
     "metadata": {},
     "output_type": "display_data"
    }
   ],
   "source": [
    "def RNDF(d,n_estimators):\n",
    "    dtest_mas = []\n",
    "    dtrain_mas = []\n",
    "    for n in n_estimators:\n",
    "        clsf=RandomForestClassifier(n_estimators=n,max_depth=d)\n",
    "        clsf.fit(X_train,y_train)\n",
    "        dtest_mas.append(accuracy_score(y_test, clsf.predict(X_test)))\n",
    "        dtrain_mas.append(accuracy_score(y_train, clsf.predict(X_train)))\n",
    "        \n",
    "    plt.figure()\n",
    "    plt.plot(n_estimators, dtest_mas)\n",
    "    print(\"Accuracy_score:\", max(dtest_mas))\n",
    "    \n",
    "RNDF(2,np.arange(100, 1000, 100))    \n",
    "RNDF(3,np.arange(100, 1000, 100))"
   ]
  },
  {
   "cell_type": "code",
   "execution_count": null,
   "metadata": {
    "collapsed": true
   },
   "outputs": [],
   "source": []
  }
 ],
 "metadata": {
  "kernelspec": {
   "display_name": "Python 3",
   "language": "python",
   "name": "python3"
  },
  "language_info": {
   "codemirror_mode": {
    "name": "ipython",
    "version": 3
   },
   "file_extension": ".py",
   "mimetype": "text/x-python",
   "name": "python",
   "nbconvert_exporter": "python",
   "pygments_lexer": "ipython3",
   "version": "3.5.1"
  }
 },
 "nbformat": 4,
 "nbformat_minor": 0
}

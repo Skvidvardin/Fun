{
 "cells": [
  {
   "cell_type": "markdown",
   "metadata": {},
   "source": [
    "# Домашнее задание 2"
   ]
  },
  {
   "cell_type": "markdown",
   "metadata": {},
   "source": [
    "Используя датасет [STUDENT ALCOHOL CONSUMPTION](https://archive.ics.uci.edu/ml/datasets/STUDENT+ALCOHOL+CONSUMPTION#) и статью \"USING\tDATA\tMINING\tTO\tPREDICT\tSECONDARY SCHOOL\tSTUDENT\tALCOHOL\tCONSUMPTION\" выполните следующие задания:"
   ]
  },
  {
   "cell_type": "markdown",
   "metadata": {},
   "source": [
    "### Предобработка (Max 2)\n",
    "- Приведите описание признаков датасета на русском языке с указанием типа данных (0.3 балла)\n",
    "- Предобработка данных (1.7)\n",
    "    - Проверьте наличие пропусков. В случае наличия пропусков заполните их медианными значениями (0.4)\n",
    "    - Подсчитайте количество людей, у которых матери с образованием \"0\" (0.4)\n",
    "    - Преобразуйте все номинальные признаки в несколько признаков с бинарным значение (0.4)\n",
    "    - Используя объект [SelectKBest](http://scikit-learn.org/stable/modules/generated/sklearn.feature_selection.SelectKBest.html#sklearn.feature_selection.SelectKBest) с параметром [f_regression](http://scikit-learn.org/stable/modules/generated/sklearn.feature_selection.f_regression.html#sklearn.feature_selection.f_regression)  выберите два признака, которые наиболее сильно связаны с признаком G3 (0.5)"
   ]
  },
  {
   "cell_type": "markdown",
   "metadata": {},
   "source": [
    "• school - тип школы (GP - Gabriel Pereira или MS - Mousinho da Silveira)\n",
    "Категориальный признак \n",
    "\n",
    "• sex - пол (F - женский или M - мужской) \n",
    "Можно представить в виде бинарного, но в данном случае множество ограничено, поэтому это категориальный признка\n",
    "\n",
    "• age - возраст (от 15 до 22)\n",
    "Числовой признак\n",
    "\n",
    "• address - среда обитания студента (U - город или R - пригород) \n",
    "Категориальный признак( если перевсти в (0,1) будет бинарный)\n",
    "\n",
    "• famsize - размер семьи (LE3 - меньше или равно 3 или GT3 - больше 3)\n",
    "категориальный признак\n",
    "\n",
    "• Pstatus - в каких отношениях состоят родители студента (T - живут вместе A - раздельно)\n",
    "Можно в принципе казать что данный признак бинарный (T,A), но более правильный будет назвать данный признак категориальным\n",
    "\n",
    "• Medu - образование матери (0 - никакого, 1 - начальное образование (4 класса), 2 – от 5 до 9 классов, 3 – среднеспециальное или 4 – высшее)\n",
    "На самом деле категориальный, но промежуточные значения никакой информации не несут, для удобтва расчётов мы его отразили как количественный \n",
    "\n",
    "• Fedu - образование отца (0 - никакого, 1 - начальное образование (4 класса), 2 – от 5 до 9 классов, 3 – среднеспециальное или 4 – высшее) \n",
    "На самом деле категориальный, но промежуточные значения никакой информации не несут, для удобтва расчётов мы его отразили как количественный \n",
    "\n",
    "• Mjob - работа матери (учитель, занята в здравоохранении, городские службы, домработница или другое) Категориальный признак\n",
    "\n",
    "• Fjob - работа отца (учитель, занят в здравоохранении, городские службы, домработник или другое)\n",
    "Категориальный признак\n",
    "\n",
    "• reason - причина выбора школы (близко к дому — home, репутация школы — reputation, course - предпочтение некоторым предметам или other) \n",
    "Категориальный признак\n",
    "\n",
    "• guardian - опекун (мать, отец или другое)\n",
    "Категориальный признак\n",
    "\n",
    "• traveltime - время от дома до школы (1 - меньше 15 мин., 2 - 15 до 30 мин., 3 - 30 мин. до 1 часа, или 4 - больше 1 часа) \n",
    "Количественный признак\n",
    "\n",
    "• studytime - количество часов обучения в неделю (1 - меньше 2 часов, 2 - от 2 до 5 часов, 3 - от 5 до 10 часов, или 4 - больше 10 часов) \n",
    "На самом деле - это категориальный признак, но мы его отразили для удобства расчётов в количественный\n",
    "\n",
    "• failures - количество ранее не сданных предметов (n if 1 <= n < 3, иначе 4) \n",
    "Количественный признак\n",
    "\n",
    "• schoolsup - дополнительные занятия (да или нет)\n",
    "Категориальный признак (если перевести в количественную шкалу, то получится бинарный признак)\n",
    "\n",
    "• famsup - помощь от семьи при выполнении заданий (да или нет) \n",
    "Категориальный признак (если перевести в количественную шкалу, то получится бинарный признак)\n",
    "\n",
    "• paid - дополнительные платные занятия (да или нет) \n",
    "Категориальный признак (если перевести в количественную шкалу, то получится бинарный признак)\n",
    "\n",
    "• activities - внеклассная деятельность (да или нет)\n",
    "Категориальный признак (если перевести в количественную шкалу, то получится бинарный признак)\n",
    "\n",
    "• nursery - посещал детский сад (да или нет)\n",
    "Категориальный признак (если перевести в количественную шкалу, то получится бинарный признак)\n",
    "\n",
    "• higher - желание высшего образования (да или нет)\n",
    "Категориальный признак (если перевести в количественную шкалу, то получится бинарный признак)\n",
    "\n",
    "• internet - домашний интернет (да или нет)\n",
    "Категориальный признак (если перевести в количественную шкалу, то получится бинарный признак)\n",
    "\n",
    "• romantic - состоит в романтических отношениях (да или нет) \n",
    "Категориальный признак (если перевести в количественную шкалу, то получится бинарный признак)\n",
    "\n",
    "• famrel - насколько хорошие отношения в семье (от 1 - очень плохие до 5 - превосходные)\n",
    "В данном случае - это категориальный признак, но мы его конвертировали в вещественный для удобства расчётов и наглядности\n",
    "\n",
    "• freetime - наличие свободного времени после школы (от 1 - очень мало до 5 - очень много)\n",
    "В данном случае - это категориальный признак, но мы его конвертировали в вещественный для удобства расчётов и наглядности\n",
    "\n",
    "• goout - гуляет с друзьями (от 1 - редко до 5 - очень часто)\n",
    "В данном случае - это категориальный признак, но мы его конвертировали в вещественный для удобства расчётов и наглядности\n",
    "\n",
    "• Dalc - употребление алкоголя в будние дни (от 1 - очень редко до 5 - очень часто)\n",
    "В данном случае - это категориальный признак, но мы его конвертировали в вещественный для удобства расчётов и наглядности\n",
    "\n",
    "• Walc - употребление алкоголя в выходные (от 1 - очень редко до 5 - очень часто)\n",
    "В данном случае - это категориальный признак, но мы его конвертировали в вещественный для удобства расчётов и наглядности\n",
    "\n",
    "• health - текущее состояние здоровья (от 1 - очень плохое до 5 очень хорошее)\n",
    "В данном случае - это категориальный признак, но мы его конвертировали в вещественный для удобства расчётов и наглядности\n",
    "\n",
    "• absences - количество школьных пропусков (от 0 до 93)\n",
    "Признаки ниже связаны с курсом (математика/португальский) Количественный признак\n",
    "\n",
    "• G1 - оценка за первый семестр (от 0 до 20)  Количественный признак\n",
    "\n",
    "• G2 - оценка за второй семестр (от 0 до 20) Количественный признак\n",
    "\n",
    "• G3 - итоговая оценка (от 0 до 20) Целевая переменная"
   ]
  },
  {
   "cell_type": "code",
   "execution_count": 197,
   "metadata": {
    "collapsed": true
   },
   "outputs": [],
   "source": [
    "import numpy as np\n",
    "import pandas as pnd\n",
    "import pylab as pl\n",
    "import scipy\n",
    "%matplotlib inline"
   ]
  },
  {
   "cell_type": "code",
   "execution_count": 198,
   "metadata": {
    "collapsed": false
   },
   "outputs": [],
   "source": [
    "df1=pnd.read_csv('student-mat.csv',sep=\";\")\n",
    "df2=pnd.read_csv('student-por.csv',sep=\";\")"
   ]
  },
  {
   "cell_type": "code",
   "execution_count": 199,
   "metadata": {
    "collapsed": false
   },
   "outputs": [
    {
     "data": {
      "text/plain": [
       "school        0\n",
       "sex           0\n",
       "age           0\n",
       "address       0\n",
       "famsize       0\n",
       "Pstatus       0\n",
       "Medu          0\n",
       "Fedu          0\n",
       "Mjob          0\n",
       "Fjob          0\n",
       "reason        0\n",
       "guardian      0\n",
       "traveltime    0\n",
       "studytime     0\n",
       "failures      0\n",
       "schoolsup     0\n",
       "famsup        0\n",
       "paid          0\n",
       "activities    0\n",
       "nursery       0\n",
       "higher        0\n",
       "internet      0\n",
       "romantic      0\n",
       "famrel        0\n",
       "freetime      0\n",
       "goout         0\n",
       "Dalc          0\n",
       "Walc          0\n",
       "health        0\n",
       "absences      0\n",
       "G1            0\n",
       "G2            0\n",
       "G3            0\n",
       "dtype: int64"
      ]
     },
     "execution_count": 199,
     "metadata": {},
     "output_type": "execute_result"
    }
   ],
   "source": [
    "df1.isnull().sum() "
   ]
  },
  {
   "cell_type": "code",
   "execution_count": 200,
   "metadata": {
    "collapsed": false
   },
   "outputs": [
    {
     "data": {
      "text/plain": [
       "school        0\n",
       "sex           0\n",
       "age           0\n",
       "address       0\n",
       "famsize       0\n",
       "Pstatus       0\n",
       "Medu          0\n",
       "Fedu          0\n",
       "Mjob          0\n",
       "Fjob          0\n",
       "reason        0\n",
       "guardian      0\n",
       "traveltime    0\n",
       "studytime     0\n",
       "failures      0\n",
       "schoolsup     0\n",
       "famsup        0\n",
       "paid          0\n",
       "activities    0\n",
       "nursery       0\n",
       "higher        0\n",
       "internet      0\n",
       "romantic      0\n",
       "famrel        0\n",
       "freetime      0\n",
       "goout         0\n",
       "Dalc          0\n",
       "Walc          0\n",
       "health        0\n",
       "absences      0\n",
       "G1            0\n",
       "G2            0\n",
       "G3            0\n",
       "dtype: int64"
      ]
     },
     "execution_count": 200,
     "metadata": {},
     "output_type": "execute_result"
    }
   ],
   "source": [
    "df2.isnull().sum()"
   ]
  },
  {
   "cell_type": "markdown",
   "metadata": {},
   "source": [
    "Пропусков в данных нет"
   ]
  },
  {
   "cell_type": "code",
   "execution_count": 201,
   "metadata": {
    "collapsed": false
   },
   "outputs": [
    {
     "name": "stdout",
     "output_type": "stream",
     "text": [
      "количество людей, у которых матери с образованием 0 для первого датасета = 3\n",
      "количество людей, у которых матери с образованием 0 для второго датасета = 6\n"
     ]
    }
   ],
   "source": [
    "print(\"количество людей, у которых матери с образованием 0 для первого датасета =\", len(df1.loc[df1['Medu']==0]))\n",
    "print(\"количество людей, у которых матери с образованием 0 для второго датасета =\", len(df2.loc[df2['Medu']==0]))"
   ]
  },
  {
   "cell_type": "code",
   "execution_count": 202,
   "metadata": {
    "collapsed": false
   },
   "outputs": [
    {
     "data": {
      "text/html": [
       "<div>\n",
       "<table border=\"1\" class=\"dataframe\">\n",
       "  <thead>\n",
       "    <tr style=\"text-align: right;\">\n",
       "      <th></th>\n",
       "      <th>age</th>\n",
       "      <th>Medu</th>\n",
       "      <th>Fedu</th>\n",
       "      <th>traveltime</th>\n",
       "      <th>studytime</th>\n",
       "      <th>failures</th>\n",
       "      <th>famrel</th>\n",
       "      <th>freetime</th>\n",
       "      <th>goout</th>\n",
       "      <th>Dalc</th>\n",
       "      <th>...</th>\n",
       "      <th>activities_no</th>\n",
       "      <th>activities_yes</th>\n",
       "      <th>nursery_no</th>\n",
       "      <th>nursery_yes</th>\n",
       "      <th>higher_no</th>\n",
       "      <th>higher_yes</th>\n",
       "      <th>internet_no</th>\n",
       "      <th>internet_yes</th>\n",
       "      <th>romantic_no</th>\n",
       "      <th>romantic_yes</th>\n",
       "    </tr>\n",
       "  </thead>\n",
       "  <tbody>\n",
       "    <tr>\n",
       "      <th>0</th>\n",
       "      <td>18</td>\n",
       "      <td>4</td>\n",
       "      <td>4</td>\n",
       "      <td>2</td>\n",
       "      <td>2</td>\n",
       "      <td>0</td>\n",
       "      <td>4</td>\n",
       "      <td>3</td>\n",
       "      <td>4</td>\n",
       "      <td>1</td>\n",
       "      <td>...</td>\n",
       "      <td>1</td>\n",
       "      <td>0</td>\n",
       "      <td>0</td>\n",
       "      <td>1</td>\n",
       "      <td>0</td>\n",
       "      <td>1</td>\n",
       "      <td>1</td>\n",
       "      <td>0</td>\n",
       "      <td>1</td>\n",
       "      <td>0</td>\n",
       "    </tr>\n",
       "    <tr>\n",
       "      <th>1</th>\n",
       "      <td>17</td>\n",
       "      <td>1</td>\n",
       "      <td>1</td>\n",
       "      <td>1</td>\n",
       "      <td>2</td>\n",
       "      <td>0</td>\n",
       "      <td>5</td>\n",
       "      <td>3</td>\n",
       "      <td>3</td>\n",
       "      <td>1</td>\n",
       "      <td>...</td>\n",
       "      <td>1</td>\n",
       "      <td>0</td>\n",
       "      <td>1</td>\n",
       "      <td>0</td>\n",
       "      <td>0</td>\n",
       "      <td>1</td>\n",
       "      <td>0</td>\n",
       "      <td>1</td>\n",
       "      <td>1</td>\n",
       "      <td>0</td>\n",
       "    </tr>\n",
       "    <tr>\n",
       "      <th>2</th>\n",
       "      <td>15</td>\n",
       "      <td>1</td>\n",
       "      <td>1</td>\n",
       "      <td>1</td>\n",
       "      <td>2</td>\n",
       "      <td>3</td>\n",
       "      <td>4</td>\n",
       "      <td>3</td>\n",
       "      <td>2</td>\n",
       "      <td>2</td>\n",
       "      <td>...</td>\n",
       "      <td>1</td>\n",
       "      <td>0</td>\n",
       "      <td>0</td>\n",
       "      <td>1</td>\n",
       "      <td>0</td>\n",
       "      <td>1</td>\n",
       "      <td>0</td>\n",
       "      <td>1</td>\n",
       "      <td>1</td>\n",
       "      <td>0</td>\n",
       "    </tr>\n",
       "    <tr>\n",
       "      <th>3</th>\n",
       "      <td>15</td>\n",
       "      <td>4</td>\n",
       "      <td>2</td>\n",
       "      <td>1</td>\n",
       "      <td>3</td>\n",
       "      <td>0</td>\n",
       "      <td>3</td>\n",
       "      <td>2</td>\n",
       "      <td>2</td>\n",
       "      <td>1</td>\n",
       "      <td>...</td>\n",
       "      <td>0</td>\n",
       "      <td>1</td>\n",
       "      <td>0</td>\n",
       "      <td>1</td>\n",
       "      <td>0</td>\n",
       "      <td>1</td>\n",
       "      <td>0</td>\n",
       "      <td>1</td>\n",
       "      <td>0</td>\n",
       "      <td>1</td>\n",
       "    </tr>\n",
       "    <tr>\n",
       "      <th>4</th>\n",
       "      <td>16</td>\n",
       "      <td>3</td>\n",
       "      <td>3</td>\n",
       "      <td>1</td>\n",
       "      <td>2</td>\n",
       "      <td>0</td>\n",
       "      <td>4</td>\n",
       "      <td>3</td>\n",
       "      <td>2</td>\n",
       "      <td>1</td>\n",
       "      <td>...</td>\n",
       "      <td>1</td>\n",
       "      <td>0</td>\n",
       "      <td>0</td>\n",
       "      <td>1</td>\n",
       "      <td>0</td>\n",
       "      <td>1</td>\n",
       "      <td>1</td>\n",
       "      <td>0</td>\n",
       "      <td>1</td>\n",
       "      <td>0</td>\n",
       "    </tr>\n",
       "  </tbody>\n",
       "</table>\n",
       "<p>5 rows × 59 columns</p>\n",
       "</div>"
      ],
      "text/plain": [
       "   age  Medu  Fedu  traveltime  studytime  failures  famrel  freetime  goout  \\\n",
       "0   18     4     4           2          2         0       4         3      4   \n",
       "1   17     1     1           1          2         0       5         3      3   \n",
       "2   15     1     1           1          2         3       4         3      2   \n",
       "3   15     4     2           1          3         0       3         2      2   \n",
       "4   16     3     3           1          2         0       4         3      2   \n",
       "\n",
       "   Dalc      ...       activities_no  activities_yes  nursery_no  nursery_yes  \\\n",
       "0     1      ...                   1               0           0            1   \n",
       "1     1      ...                   1               0           1            0   \n",
       "2     2      ...                   1               0           0            1   \n",
       "3     1      ...                   0               1           0            1   \n",
       "4     1      ...                   1               0           0            1   \n",
       "\n",
       "   higher_no  higher_yes  internet_no  internet_yes  romantic_no  romantic_yes  \n",
       "0          0           1            1             0            1             0  \n",
       "1          0           1            0             1            1             0  \n",
       "2          0           1            0             1            1             0  \n",
       "3          0           1            0             1            0             1  \n",
       "4          0           1            1             0            1             0  \n",
       "\n",
       "[5 rows x 59 columns]"
      ]
     },
     "execution_count": 202,
     "metadata": {},
     "output_type": "execute_result"
    }
   ],
   "source": [
    "df3 = pnd.get_dummies(df1)\n",
    "df3.head()"
   ]
  },
  {
   "cell_type": "code",
   "execution_count": 203,
   "metadata": {
    "collapsed": false
   },
   "outputs": [],
   "source": [
    "del df3['G3']"
   ]
  },
  {
   "cell_type": "code",
   "execution_count": 204,
   "metadata": {
    "collapsed": true
   },
   "outputs": [],
   "source": [
    "from sklearn.feature_selection import SelectKBest\n",
    "from sklearn.feature_selection import f_regression"
   ]
  },
  {
   "cell_type": "code",
   "execution_count": 205,
   "metadata": {
    "collapsed": false
   },
   "outputs": [
    {
     "data": {
      "text/plain": [
       "array([13, 14], dtype=int64)"
      ]
     },
     "execution_count": 205,
     "metadata": {},
     "output_type": "execute_result"
    }
   ],
   "source": [
    "target = df1['G3']\n",
    "K_best=SelectKBest(score_func=f_regression, k=2).fit(df3, target).get_support(True)\n",
    "K_best"
   ]
  },
  {
   "cell_type": "code",
   "execution_count": 206,
   "metadata": {
    "collapsed": false
   },
   "outputs": [
    {
     "name": "stdout",
     "output_type": "stream",
     "text": [
      "G1 G2\n"
     ]
    }
   ],
   "source": [
    "print(df3.columns[13], df3.columns[14])"
   ]
  },
  {
   "cell_type": "code",
   "execution_count": 207,
   "metadata": {
    "collapsed": true
   },
   "outputs": [],
   "source": [
    "del df3['G2'], df3['G1']"
   ]
  },
  {
   "cell_type": "code",
   "execution_count": 208,
   "metadata": {
    "collapsed": false
   },
   "outputs": [
    {
     "data": {
      "text/plain": [
       "array([1, 5], dtype=int64)"
      ]
     },
     "execution_count": 208,
     "metadata": {},
     "output_type": "execute_result"
    }
   ],
   "source": [
    "target = df1['G3']\n",
    "K_best1=SelectKBest(score_func=f_regression,k=2).fit(df3, target).get_support(True)\n",
    "K_best1"
   ]
  },
  {
   "cell_type": "code",
   "execution_count": 209,
   "metadata": {
    "collapsed": false
   },
   "outputs": [
    {
     "name": "stdout",
     "output_type": "stream",
     "text": [
      "Medu failures\n"
     ]
    }
   ],
   "source": [
    "print(df3.columns[1], df3.columns[5])"
   ]
  },
  {
   "cell_type": "markdown",
   "metadata": {},
   "source": [
    "Наиболее сильно с G3 связаны признаки G1 и G2, однако это тоже оценки, поэтому, если выбирать не из очевидно линейно-зависимых признаков, то наиболее коррелирующими будут \"образование матери\" и \"незачеты\"."
   ]
  },
  {
   "cell_type": "markdown",
   "metadata": {},
   "source": [
    "### Регрессия (Max 4)\n",
    "Выберите один признак, который наиболее влияет на признак G3 и используя кросс-валидацию (cross-validation) выполните следующее:"
   ]
  },
  {
   "cell_type": "markdown",
   "metadata": {},
   "source": [
    "- На обучающей выборке обучите объект [RidgeСV](http://scikit-learn.org/stable/modules/generated/sklearn.linear_model.RidgeCV.html#sklearn.linear_model.RidgeCV) для различных alpha (0.2)\n",
    "- Выберите alpha при котором RidgeCV лучше всего предсказывает значения (0.1)\n",
    "- Подсчитайте метрику mean absolute error, mean squared error, median absolute error,r2 score(0.2)\n",
    "- Max (0.5)\n",
    "- ------------------------------------\n",
    "- Создайте объекты [SGDRegressor](http://scikit-learn.org/stable/modules/generated/sklearn.linear_model.SGDRegressor.html#sklearn.linear_model.SGDRegressor), используя все возможных варианты аргумента penalty (0.2)\n",
    "- Обучите все полученных объекты на обучающей выборке (0.1)\n",
    "- Подсчитайте метрику r2 score для всех объектов (0.2)\n",
    "- Max (0.5)\n",
    "- ------------------------------------\n",
    "- Создайте объекты с параметрами max_depth = 1,3, 10 [GradientBoostingRegressor](http://scikit-learn.org/stable/modules/generated/sklearn.ensemble.GradientBoostingRegressor.html#sklearn.ensemble.GradientBoostingRegressor) и для каждого объекта изменяйте количество n_estimators  от 100 до 1000 с шагом 100 (0.2)\n",
    "- Подсчитайте метрику r2 score для всех объектов (0.1)\n",
    "- Визуализируйте зависимость R2 oт n_estimators на графике (0.2)\n",
    "- Max (0.5)\n",
    "- -----------------------------------\n",
    "- Используя все доступные регрессоры в библиотеке sklearn, найдите самый лучший регрессор. (2.5)"
   ]
  },
  {
   "cell_type": "markdown",
   "metadata": {},
   "source": [
    "№1"
   ]
  },
  {
   "cell_type": "code",
   "execution_count": 210,
   "metadata": {
    "collapsed": true
   },
   "outputs": [],
   "source": [
    "from sklearn import metrics\n",
    "from sklearn.linear_model import RidgeClassifier\n",
    "from sklearn.cross_validation import train_test_split\n",
    "from sklearn import linear_model\n",
    "from sklearn.metrics import mean_absolute_error\n",
    "from sklearn.metrics import mean_squared_error\n",
    "from sklearn.metrics import median_absolute_error\n",
    "from sklearn.metrics import r2_score\n",
    "from sklearn.ensemble import GradientBoostingRegressor\n",
    "import matplotlib.pyplot as plt"
   ]
  },
  {
   "cell_type": "code",
   "execution_count": 211,
   "metadata": {
    "collapsed": false
   },
   "outputs": [
    {
     "data": {
      "text/plain": [
       "6"
      ]
     },
     "execution_count": 211,
     "metadata": {},
     "output_type": "execute_result"
    }
   ],
   "source": [
    "X1=df1['G1'].values.reshape(-1,1)\n",
    "X_train, X_test, y_train, y_test = train_test_split(X1, target, test_size=0.3, random_state=1)\n",
    "reg = linear_model.RidgeCV(alphas = [1, 2, 3, 4, 5, 6, 7, 8, 9, 10], fit_intercept=True)\n",
    "reg.fit(X_train, y_train)\n",
    "reg.alpha_"
   ]
  },
  {
   "cell_type": "code",
   "execution_count": 212,
   "metadata": {
    "collapsed": false
   },
   "outputs": [
    {
     "name": "stdout",
     "output_type": "stream",
     "text": [
      "MAE_test: 1.69614649021\n",
      "MAE_train: 1.9999457757\n",
      "MSE_test: 5.95777972908\n",
      "MSE_train: 8.15865482757\n",
      "MedAE_test: 1.14973814182\n",
      "MedAE_train: 1.19726799908\n",
      "R1_train: 0.646269203454\n",
      "R1_test: 0.627586169823\n"
     ]
    }
   ],
   "source": [
    "y_pred1=reg.predict(X_train)\n",
    "y_pred2=reg.predict(X_test)\n",
    "MAE_test=mean_absolute_error(y_test, y_pred2)\n",
    "MSE_test=mean_squared_error(y_test, y_pred2)\n",
    "MSE_train=mean_squared_error(y_train,y_pred1)\n",
    "MAE_train=mean_absolute_error(y_train,y_pred1)\n",
    "MedAE_test=median_absolute_error(y_test, y_pred2)\n",
    "MedAE_train=median_absolute_error(y_train, y_pred1)\n",
    "R1_test=r2_score(y_test, y_pred2)\n",
    "R1_train=r2_score(y_train, y_pred1)\n",
    "print(\"MAE_test:\",MAE_test)\n",
    "print(\"MAE_train:\",MAE_train)\n",
    "print(\"MSE_test:\",MSE_test)\n",
    "print(\"MSE_train:\",MSE_train)\n",
    "print(\"MedAE_test:\",MedAE_test)\n",
    "print(\"MedAE_train:\",MedAE_train)\n",
    "print(\"R1_train:\",R1_train)\n",
    "print(\"R1_test:\",R1_test)"
   ]
  },
  {
   "cell_type": "markdown",
   "metadata": {},
   "source": [
    "№2"
   ]
  },
  {
   "cell_type": "code",
   "execution_count": 213,
   "metadata": {
    "collapsed": false
   },
   "outputs": [
    {
     "name": "stdout",
     "output_type": "stream",
     "text": [
      "R2_test: 0.604004908239\n",
      "R3_test: 0.633458433887\n",
      "R4_test: 0.633444656497\n"
     ]
    }
   ],
   "source": [
    "F1 = linear_model.SGDRegressor(penalty='l2').fit(X_train, y_train)\n",
    "F2 = linear_model.SGDRegressor(penalty='l1').fit(X_train, y_train)\n",
    "F3 = linear_model.SGDRegressor(penalty='elasticnet').fit(X_train, y_train)\n",
    "y_pred1=F1.predict(X_test)\n",
    "y_pred2=F2.predict(X_test)\n",
    "y_pred3=F3.predict(X_test)\n",
    "R2_test=r2_score(y_test, y_pred1)\n",
    "R3_test=r2_score(y_test, y_pred2)\n",
    "R4_test=r2_score(y_test, y_pred3)\n",
    "print(\"R2_test:\",R2_test)\n",
    "print(\"R3_test:\",R3_test)\n",
    "print(\"R4_test:\",R4_test)"
   ]
  },
  {
   "cell_type": "markdown",
   "metadata": {},
   "source": [
    "№3"
   ]
  },
  {
   "cell_type": "code",
   "execution_count": 214,
   "metadata": {
    "collapsed": false
   },
   "outputs": [
    {
     "name": "stdout",
     "output_type": "stream",
     "text": [
      "Test R2: 0.621226528358\n",
      "Test R2: 0.61706561304\n",
      "Test R2: 0.616944275586\n"
     ]
    },
    {
     "data": {
      "image/png": "[encoded data removed]",
      "text/plain": [
       "<matplotlib.figure.Figure at 0x865c4a9940>"
      ]
     },
     "metadata": {},
     "output_type": "display_data"
    },
    {
     "data": {
      "image/png": "[encoded data removed]",
      "text/plain": [
       "<matplotlib.figure.Figure at 0x86592d1c18>"
      ]
     },
     "metadata": {},
     "output_type": "display_data"
    },
    {
     "data": {
      "image/png": "[encoded data removed]",
      "text/plain": [
       "<matplotlib.figure.Figure at 0x8659220cc0>"
      ]
     },
     "metadata": {},
     "output_type": "display_data"
    }
   ],
   "source": [
    "def R2(k,n_values):\n",
    "    train_R2 = []\n",
    "    test_R2 = []\n",
    "    for n in n_values:\n",
    "        grad = GradientBoostingRegressor(max_depth=k,n_estimators=n)\n",
    "        grad.fit(X_train, y_train)\n",
    "        \n",
    "        train_R2.append(r2_score(y_train, grad.predict(X_train)))\n",
    "        test_R2.append(r2_score(y_test, grad.predict(X_test)))\n",
    "    \n",
    "    plt.figure()\n",
    "    plt.plot(n_values, test_R2)\n",
    "    print(\"Test R2:\", max(test_R2))\n",
    "\n",
    "R2(1, np.arange(100, 1000, 100))\n",
    "R2(3, np.arange(100, 1000, 100))\n",
    "R2(10, np.arange(100, 1000, 100))"
   ]
  },
  {
   "cell_type": "markdown",
   "metadata": {},
   "source": [
    "№4"
   ]
  },
  {
   "cell_type": "code",
   "execution_count": 215,
   "metadata": {
    "collapsed": true
   },
   "outputs": [],
   "source": [
    "from sklearn.linear_model import Ridge, Lasso, ARDRegression, BayesianRidge, ElasticNet, Lars, LassoLars, LassoLarsIC,\\\n",
    "LinearRegression, LogisticRegression, MultiTaskLasso, MultiTaskElasticNet, OrthogonalMatchingPursuit, PassiveAggressiveRegressor,\\\n",
    "Perceptron, RandomizedLasso,RandomizedLogisticRegression, RANSACRegressor, TheilSenRegressor,lars_path, lasso_path,\\\n",
    "lasso_stability_path,logistic_regression_path,orthogonal_mp,orthogonal_mp_gram\n",
    "from sklearn.ensemble import AdaBoostRegressor, BaggingRegressor, GradientBoostingRegressor,RandomForestRegressor,\\\n",
    "RandomTreesEmbedding, ExtraTreesRegressor\n",
    "from sklearn.neighbors import KNeighborsRegressor, RadiusNeighborsRegressor\n",
    "from sklearn.svm import SVR, LinearSVR, NuSVR\n",
    "from sklearn.tree import DecisionTreeRegressor, ExtraTreeRegressor"
   ]
  },
  {
   "cell_type": "code",
   "execution_count": 216,
   "metadata": {
    "collapsed": false
   },
   "outputs": [
    {
     "name": "stdout",
     "output_type": "stream",
     "text": [
      "[1.698203812850829] <class 'sklearn.linear_model.base.LinearRegression'>\n",
      "[1.6641720806499603] <class 'sklearn.linear_model.coordinate_descent.Lasso'>\n",
      "[1.6960149601757901] <class 'sklearn.linear_model.bayes.ARDRegression'>\n",
      "[1.6960149601515335] <class 'sklearn.linear_model.bayes.BayesianRidge'>\n",
      "[1.6640512027666743] <class 'sklearn.linear_model.coordinate_descent.ElasticNet'>\n",
      "[1.6982038128508288] <class 'sklearn.linear_model.least_angle.Lars'>\n",
      "[2.8534892217756669] <class 'sklearn.linear_model.least_angle.LassoLars'>\n",
      "[1.6982038128508288] <class 'sklearn.linear_model.least_angle.LassoLarsIC'>\n",
      "[2.5798319327731094] <class 'sklearn.linear_model.logistic.LogisticRegression'>\n",
      "[1.6982038128508288] <class 'sklearn.linear_model.omp.OrthogonalMatchingPursuit'>\n",
      "[1.806564816249115] <class 'sklearn.linear_model.passive_aggressive.PassiveAggressiveRegressor'>\n",
      "[2.8571428571428572] <class 'sklearn.linear_model.perceptron.Perceptron'>\n",
      "[1.7102689146673804] <class 'sklearn.linear_model.ransac.RANSACRegressor'>\n",
      "[1.6082293768696938] <class 'sklearn.linear_model.theil_sen.TheilSenRegressor'>\n",
      "[2.0732223503935647] <class 'sklearn.ensemble.weight_boosting.AdaBoostRegressor'>\n",
      "[1.7209705699618005] <class 'sklearn.ensemble.bagging.BaggingRegressor'>\n",
      "[1.7590887226947798] <class 'sklearn.ensemble.gradient_boosting.GradientBoostingRegressor'>\n",
      "[1.8046033160984134] <class 'sklearn.ensemble.forest.RandomForestRegressor'>\n",
      "[1.7594142201675336] <class 'sklearn.ensemble.forest.ExtraTreesRegressor'>\n",
      "[2.1764705882352939] <class 'sklearn.neighbors.regression.KNeighborsRegressor'>\n",
      "[1.7160207518789969] <class 'sklearn.neighbors.regression.RadiusNeighborsRegressor'>\n",
      "[1.6701424040106863] <class 'sklearn.svm.classes.SVR'>\n",
      "[1.6050998128777763] <class 'sklearn.svm.classes.LinearSVR'>\n",
      "[1.6167482919942757] <class 'sklearn.svm.classes.NuSVR'>\n",
      "[1.7590887226947798] <class 'sklearn.ensemble.gradient_boosting.GradientBoostingRegressor'>\n",
      "[1.7594142201675336] <class 'sklearn.tree.tree.DecisionTreeRegressor'>\n",
      "[1.7594142201675336] <class 'sklearn.tree.tree.ExtraTreeRegressor'>\n"
     ]
    }
   ],
   "source": [
    "def MAE(reg_name):\n",
    "    MAE_k=[]\n",
    "    reggr=reg_name()\n",
    "    reggr.fit(X_train,y_train)\n",
    "    MAE_k.append(mean_absolute_error(y_test, reggr.predict(X_test)))\n",
    "    print(MAE_k, reg_name)\n",
    "    \n",
    "MAE(LinearRegression) \n",
    "MAE(Lasso)\n",
    "MAE(ARDRegression)\n",
    "MAE(BayesianRidge)\n",
    "MAE(ElasticNet)\n",
    "MAE(Lars)\n",
    "MAE(LassoLars)\n",
    "MAE(LassoLarsIC)\n",
    "MAE(LogisticRegression)\n",
    "MAE(OrthogonalMatchingPursuit)\n",
    "MAE(PassiveAggressiveRegressor)\n",
    "MAE(Perceptron)\n",
    "MAE(RANSACRegressor)\n",
    "MAE(TheilSenRegressor)\n",
    "MAE(AdaBoostRegressor)\n",
    "MAE(BaggingRegressor)\n",
    "MAE(GradientBoostingRegressor)\n",
    "MAE(RandomForestRegressor)\n",
    "MAE(ExtraTreesRegressor)\n",
    "MAE(KNeighborsRegressor)\n",
    "MAE(RadiusNeighborsRegressor)\n",
    "MAE(SVR)\n",
    "MAE(LinearSVR)\n",
    "MAE(NuSVR)\n",
    "MAE(GradientBoostingRegressor)\n",
    "MAE(DecisionTreeRegressor)\n",
    "MAE(ExtraTreeRegressor)"
   ]
  },
  {
   "cell_type": "markdown",
   "metadata": {},
   "source": [
    "Наименьшую ошибку выдаёт регрессор LinearSVR c показателем качества 1.6052200741922225"
   ]
  },
  {
   "cell_type": "markdown",
   "metadata": {},
   "source": [
    "### Классификация (Max 4)\n",
    "- В статье описано использование Random Forest для предсказания важности факторов, влияющих на потребление алкоголя. Повторите эксперимент с использование объекта [RandomForest](http://scikit-learn.org/stable/modules/generated/sklearn.ensemble.RandomForestClassifier.html#sklearn.ensemble.RandomForestClassifier) и найдите наилучшие параметры. Укажите accuracy для наилучших параметров (0.5)\n",
    "- Обучите объект [GradientBoostingClassifier](http://scikit-learn.org/stable/modules/generated/sklearn.ensemble.GradientBoostingClassifier.html#sklearn.ensemble.GradientBoostingClassifier)  и найдите для него наилучшие параметры. Укажите accuracy для наилучших параметров (0.5)\n",
    "- Обучите объект [AdaBoostClassifier](http://scikit-learn.org/stable/modules/generated/sklearn.ensemble.AdaBoostClassifier.html)  и найдите для него наилучшие параметры. Укажите accuracy для наилучших параметров (0.5)\n",
    "- Найдите наилучший классификатор. Укажите accuracy для наилучших параметров (2.5)"
   ]
  },
  {
   "cell_type": "code",
   "execution_count": 217,
   "metadata": {
    "collapsed": true
   },
   "outputs": [],
   "source": [
    "from sklearn.ensemble import RandomForestClassifier\n",
    "from sklearn.metrics import accuracy_score\n",
    "from sklearn.ensemble import GradientBoostingClassifier\n",
    "from sklearn.ensemble import AdaBoostClassifier\n",
    "from sklearn.ensemble import BaggingClassifier\n",
    "from sklearn.ensemble import GradientBoostingClassifier\n",
    "from sklearn.ensemble import ExtraTreesClassifier\n",
    "from sklearn.ensemble import RandomForestClassifier"
   ]
  },
  {
   "cell_type": "code",
   "execution_count": 218,
   "metadata": {
    "collapsed": false
   },
   "outputs": [],
   "source": [
    "d1=pd.read_csv('student-mat.csv',sep=\";\")\n",
    "d2=pd.read_csv('student-por.csv',sep=\";\")\n",
    "d3=d1.merge(d2, how='outer')\n",
    "data_f_con = pd.get_dummies(d3)\n",
    "ALCO=(2*data_f_con['Walc']+5*data_f_con['Dalc'])/7\n",
    "for i in range(1044):\n",
    "    if ALCO[i] < 3:\n",
    "        ALCO[i]=0\n",
    "    else:\n",
    "        ALCO[i]=1  "
   ]
  },
  {
   "cell_type": "code",
   "execution_count": 219,
   "metadata": {
    "collapsed": true
   },
   "outputs": [],
   "source": [
    "X_train, X_test, y_train, y_test = train_test_split(\n",
    "    data_f_con, ALCO, test_size=0.3, random_state=4445)"
   ]
  },
  {
   "cell_type": "code",
   "execution_count": 220,
   "metadata": {
    "collapsed": false
   },
   "outputs": [
    {
     "name": "stdout",
     "output_type": "stream",
     "text": [
      "Accuracy_score: 0.888535031847\n",
      "Accuracy_score: 0.894904458599\n",
      "Accuracy_score: 0.933121019108\n",
      "Accuracy_score: 0.968152866242\n"
     ]
    },
    {
     "data": {
      "image/png": "[encoded data removed]",
      "text/plain": [
       "<matplotlib.figure.Figure at 0x86592d0c50>"
      ]
     },
     "metadata": {},
     "output_type": "display_data"
    },
    {
     "data": {
      "image/png": "[encoded data removed]",
      "text/plain": [
       "<matplotlib.figure.Figure at 0x865c478be0>"
      ]
     },
     "metadata": {},
     "output_type": "display_data"
    },
    {
     "data": {
      "image/png": "[encoded data removed]",
      "text/plain": [
       "<matplotlib.figure.Figure at 0x865b3bd4e0>"
      ]
     },
     "metadata": {},
     "output_type": "display_data"
    },
    {
     "data": {
      "image/png": "[encoded data removed]",
      "text/plain": [
       "<matplotlib.figure.Figure at 0x865c478978>"
      ]
     },
     "metadata": {},
     "output_type": "display_data"
    }
   ],
   "source": [
    "from sklearn.ensemble import RandomForestClassifier\n",
    "from sklearn.metrics import accuracy_score\n",
    "    \n",
    "def RNDF(d,n_estimators):\n",
    "    dtest_mas = []\n",
    "    dtrain_mas = []\n",
    "    for n in n_estimators:\n",
    "        clsf=RandomForestClassifier(n_estimators=n,max_depth=d)\n",
    "        clsf.fit(X_train,y_train)\n",
    "        dtest_mas.append(accuracy_score(y_test, clsf.predict(X_test)))\n",
    "        dtrain_mas.append(accuracy_score(y_train, clsf.predict(X_train)))\n",
    "        \n",
    "    plt.figure()\n",
    "    plt.plot(n_estimators, dtest_mas)\n",
    "    print(\"Accuracy_score:\", max(dtest_mas))\n",
    "    \n",
    "    \n",
    "RNDF(1,np.arange(100, 1000, 100))\n",
    "RNDF(2,np.arange(100, 1000, 100))\n",
    "RNDF(3,np.arange(100, 1000, 100))\n",
    "RNDF(4,np.arange(100, 1000, 100)) "
   ]
  },
  {
   "cell_type": "markdown",
   "metadata": {},
   "source": [
    "График зависимости Mean_accuracy от количества estimatorov для деревьев разичной глубины (1,2,3,4) как видно из графиков наибольшей accuracy_score алгоритм достигает при исользовании композиции деревьев глубиной 4"
   ]
  },
  {
   "cell_type": "code",
   "execution_count": 221,
   "metadata": {
    "collapsed": false
   },
   "outputs": [
    {
     "name": "stdout",
     "output_type": "stream",
     "text": [
      "Accuracy_score: 0.996815286624\n",
      "Accuracy_score: 0.996815286624\n",
      "Accuracy_score: 0.993630573248\n"
     ]
    },
    {
     "data": {
      "image/png": "[encoded data removed]",
      "text/plain": [
       "<matplotlib.figure.Figure at 0x86592d04e0>"
      ]
     },
     "metadata": {},
     "output_type": "display_data"
    },
    {
     "data": {
      "image/png": "[encoded data removed]",
      "text/plain": [
       "<matplotlib.figure.Figure at 0x865942f9b0>"
      ]
     },
     "metadata": {},
     "output_type": "display_data"
    },
    {
     "data": {
      "image/png": "[encoded data removed]",
      "text/plain": [
       "<matplotlib.figure.Figure at 0x86592fec18>"
      ]
     },
     "metadata": {},
     "output_type": "display_data"
    }
   ],
   "source": [
    "def GBC(d, n_estimators):\n",
    "    dtest_mas = []\n",
    "    dtrain_mas=[]\n",
    "    for n in n_estimators:\n",
    "        clsf1= GradientBoostingClassifier(n_estimators=n, max_depth=d)\n",
    "        clsf1.fit(X_train,y_train)\n",
    "        dtest_mas.append(accuracy_score(y_test, clsf1.predict(X_test)))\n",
    "        dtrain_mas.append(accuracy_score(y_train, clsf1.predict(X_train)))\n",
    "        \n",
    "        \n",
    "    plt.figure()\n",
    "    plt.plot(n_estimators, dtest_mas)\n",
    "    plt.plot(n_estimators, dtrain_mas)\n",
    "    print(\"Accuracy_score:\", max(dtest_mas))\n",
    "\n",
    "GBC(3,np.arange(100, 1000, 100))\n",
    "GBC(4,np.arange(100, 1000, 100))\n",
    "GBC(5,np.arange(100, 1000, 100))"
   ]
  },
  {
   "cell_type": "markdown",
   "metadata": {},
   "source": [
    "Наилучший параметр для max_depth это 3 и 4, для n_estimators 100 и 400, соответственно, но значения не постоянны"
   ]
  },
  {
   "cell_type": "code",
   "execution_count": 222,
   "metadata": {
    "collapsed": false
   },
   "outputs": [
    {
     "name": "stdout",
     "output_type": "stream",
     "text": [
      "Accuracy_score: 1.0\n",
      "Accuracy_score: 1.0\n",
      "Accuracy_score: 1.0\n",
      "Accuracy_score: 0.990445859873\n",
      "Accuracy_score: 0.990445859873\n",
      "Accuracy_score: 0.888535031847\n"
     ]
    },
    {
     "data": {
      "image/png": "[encoded data removed]",
      "text/plain": [
       "<matplotlib.figure.Figure at 0x865a274f98>"
      ]
     },
     "metadata": {},
     "output_type": "display_data"
    },
    {
     "data": {
      "image/png": "[encoded data removed]",
      "text/plain": [
       "<matplotlib.figure.Figure at 0x865b2ab6a0>"
      ]
     },
     "metadata": {},
     "output_type": "display_data"
    },
    {
     "data": {
      "image/png": "[encoded data removed]",
      "text/plain": [
       "<matplotlib.figure.Figure at 0x865b2abe80>"
      ]
     },
     "metadata": {},
     "output_type": "display_data"
    },
    {
     "data": {
      "image/png": "[encoded data removed]",
      "text/plain": [
       "<matplotlib.figure.Figure at 0x86592d12e8>"
      ]
     },
     "metadata": {},
     "output_type": "display_data"
    },
    {
     "data": {
      "image/png": "[encoded data removed]",
      "text/plain": [
       "<matplotlib.figure.Figure at 0x865b34ac50>"
      ]
     },
     "metadata": {},
     "output_type": "display_data"
    },
    {
     "data": {
      "image/png": "[encoded data removed]",
      "text/plain": [
       "<matplotlib.figure.Figure at 0x865a2227f0>"
      ]
     },
     "metadata": {},
     "output_type": "display_data"
    }
   ],
   "source": [
    "def ADAB(n_estimators,l):\n",
    "    dtest1_mas = []\n",
    "    for n in n_estimators:\n",
    "        clsf2= AdaBoostClassifier(n_estimators=n,learning_rate=l)\n",
    "        clsf2.fit(X_train,y_train)\n",
    "        dtest1_mas.append(accuracy_score(y_test, clsf2.predict(X_test)))\n",
    "        \n",
    "        \n",
    "    plt.figure()\n",
    "    plt.plot(n_estimators, dtest1_mas)\n",
    "    \n",
    "    print(\"Accuracy_score:\", max(dtest1_mas))\n",
    "\n",
    "ADAB(np.arange(100, 1000, 100),1)\n",
    "ADAB(np.arange(100, 1000, 100),2)\n",
    "ADAB(np.arange(100, 1000, 100),3)\n",
    "ADAB(np.arange(100, 1000, 100),5)\n",
    "ADAB(np.arange(100, 1000, 100),6)\n",
    "ADAB(np.arange(100, 1000, 100),10)"
   ]
  },
  {
   "cell_type": "markdown",
   "metadata": {},
   "source": [
    "Скорость обучения не должна превышать 3"
   ]
  },
  {
   "cell_type": "code",
   "execution_count": 223,
   "metadata": {
    "collapsed": false
   },
   "outputs": [
    {
     "name": "stdout",
     "output_type": "stream",
     "text": [
      "Accuracy_score: 1.0 <class 'sklearn.ensemble.bagging.BaggingClassifier'>\n",
      "Accuracy_score: 0.993630573248 <class 'sklearn.ensemble.gradient_boosting.GradientBoostingClassifier'>\n",
      "Accuracy_score: 0.977707006369 <class 'sklearn.ensemble.forest.ExtraTreesClassifier'>\n",
      "Accuracy_score: 0.996815286624 <class 'sklearn.ensemble.forest.RandomForestClassifier'>\n"
     ]
    },
    {
     "data": {
      "image/png": "[encoded data removed]",
      "text/plain": [
       "<matplotlib.figure.Figure at 0x86593a1278>"
      ]
     },
     "metadata": {},
     "output_type": "display_data"
    },
    {
     "data": {
      "image/png": "[encoded data removed]",
      "text/plain": [
       "<matplotlib.figure.Figure at 0x865b2a5eb8>"
      ]
     },
     "metadata": {},
     "output_type": "display_data"
    },
    {
     "data": {
      "image/png": "[encoded data removed]",
      "text/plain": [
       "<matplotlib.figure.Figure at 0x865b2e44e0>"
      ]
     },
     "metadata": {},
     "output_type": "display_data"
    },
    {
     "data": {
      "image/png": "[encoded data removed]",
      "text/plain": [
       "<matplotlib.figure.Figure at 0x865b2ece48>"
      ]
     },
     "metadata": {},
     "output_type": "display_data"
    }
   ],
   "source": [
    "from sklearn.ensemble import BaggingClassifier\n",
    "from sklearn.ensemble import GradientBoostingClassifier\n",
    "from sklearn.ensemble import ExtraTreesClassifier\n",
    "from sklearn.ensemble import RandomForestClassifier\n",
    "\n",
    "\n",
    "def ADAB_on_clsf(clsf_name,n_estimators):\n",
    "    dtest5_mas = []\n",
    "    for n in n_estimators:\n",
    "        clsff= clsf_name(n_estimators=n)\n",
    "        clsff.fit(X_train,y_train)\n",
    "        dtest5_mas.append(accuracy_score(y_test, clsff.predict(X_test)))\n",
    "        \n",
    "        \n",
    "    plt.figure()\n",
    "    plt.plot(n_estimators, dtest5_mas)\n",
    "    \n",
    "    print(\"Accuracy_score:\", max(dtest5_mas),clsf_name)\n",
    "ADAB_on_clsf(BaggingClassifier,np.arange(100, 1000, 100))\n",
    "ADAB_on_clsf(GradientBoostingClassifier,np.arange(100, 1000, 100))\n",
    "ADAB_on_clsf(ExtraTreesClassifier,np.arange(100, 1000, 100))\n",
    "ADAB_on_clsf(RandomForestClassifier,np.arange(100, 1000, 100))"
   ]
  },
  {
   "cell_type": "markdown",
   "metadata": {},
   "source": [
    "=> bagging показал лучший результат"
   ]
  },
  {
   "cell_type": "markdown",
   "metadata": {},
   "source": [
    "# Замечания\n",
    "\n",
    "- В работе следует использовать библиотеку scikit-learn версии 0.18 и scipy версии 0.18.1"
   ]
  }
 ],
 "metadata": {
  "kernelspec": {
   "display_name": "Python 3",
   "language": "python",
   "name": "python3"
  },
  "language_info": {
   "codemirror_mode": {
    "name": "ipython",
    "version": 3
   },
   "file_extension": ".py",
   "mimetype": "text/x-python",
   "name": "python",
   "nbconvert_exporter": "python",
   "pygments_lexer": "ipython3",
   "version": "3.5.1"
  }
 },
 "nbformat": 4,
 "nbformat_minor": 0
}

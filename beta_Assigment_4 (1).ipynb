{
 "cells": [
  {
   "cell_type": "markdown",
   "metadata": {},
   "source": [
    "<div style=\"font-size:18pt; padding-top:20px; text-align:center\">ЗАДАНИЕ 4. <b>Статистика и </b> <span style=\"font-weight:bold; color:green\">NumPy/SciPy</span></div><hr>\n",
    "<div style=\"text-align:right;\">Папулин С.Ю. <span style=\"font-style: italic;font-weight: bold;\">(papulin_hse@mail.ru)</span></div>"
   ]
  },
  {
   "cell_type": "markdown",
   "metadata": {},
   "source": [
    "<a name=\"0\"></a>\n",
    "<div><span style=\"font-size:14pt; font-weight:bold\">Содержание</span>\n",
    "    <ol>\n",
    "        <li><a href=\"#1\">Варианты</a></li>\n",
    "        <li><a href=\"#2\">Задание</a></li>\n",
    "    </ol>\n",
    "</div>"
   ]
  },
  {
   "cell_type": "markdown",
   "metadata": {},
   "source": [
    "<a name=\"1\"></a>\n",
    "<div style=\"display:table; width:100%; padding-top:10px; padding-bottom:10px; border-bottom:1px solid lightgrey\">\n",
    "    <div style=\"display:table-row\">\n",
    "        <div style=\"display:table-cell; width:80%; font-size:14pt; font-weight:bold\">1. Варианты</div>\n",
    "    \t<div style=\"display:table-cell; width:20%; text-align:center; background-color:whitesmoke; border:1px solid lightgrey\"><a href=\"#0\">К содержанию</a></div>\n",
    "    </div>\n",
    "</div>"
   ]
  },
  {
   "cell_type": "markdown",
   "metadata": {},
   "source": [
    "<p><span style=\"color:red; font-weight:bold\">ВНИМАНИЕ!</span> Варианты могут не совпадать с предыдущими ДЗ</p>"
   ]
  },
  {
   "cell_type": "markdown",
   "metadata": {},
   "source": [
    "<p>Чтобы узнать свой вариант, введите Вашу фамилию в соответвующее поле ниже и запустите ячейку:</p>"
   ]
  },
  {
   "cell_type": "code",
   "execution_count": 1,
   "metadata": {
    "collapsed": false
   },
   "outputs": [
    {
     "name": "stdout",
     "output_type": "stream",
     "text": [
      "Ваш вариант -  3\n"
     ]
    }
   ],
   "source": [
    "surname = \"Абдуллаев\" #Ваша фамилия\n",
    "\n",
    "alp = 'абвгдеёжзийклмнопрстуфхцчшщъыьэюя'\n",
    "w = [1, 42, 21, 21, 34,  6, 44, 26, 18, 44, 38, 26, 14, 43,  4, 49, 45,\n",
    "        7, 42, 29,  4,  9, 36, 34, 31, 29,  5, 30,  4, 19, 28, 25, 33]\n",
    "d = dict(zip(alp, w))\n",
    "variant =  sum([d[el] for el in surname.lower()]) % 3 + 1\n",
    "print(\"Ваш вариант - \", variant)"
   ]
  },
  {
   "cell_type": "markdown",
   "metadata": {},
   "source": [
    "<a name=\"2\"></a>\n",
    "<div style=\"display:table; width:100%; padding-top:10px; padding-bottom:10px; border-bottom:1px solid lightgrey\">\n",
    "    <div style=\"display:table-row\">\n",
    "        <div style=\"display:table-cell; width:80%; font-size:14pt; font-weight:bold\">2. Задание</div>\n",
    "    \t<div style=\"display:table-cell; width:20%; text-align:center; background-color:whitesmoke; border:1px solid lightgrey\"><a href=\"#0\">К содержанию</a></div>\n",
    "    </div>\n",
    "</div>"
   ]
  },
  {
   "cell_type": "markdown",
   "metadata": {},
   "source": [
    "<p><b>Задача 1.</b> Доверительный интервал</p>"
   ]
  },
  {
   "cell_type": "markdown",
   "metadata": {},
   "source": [
    "<p>После присоединения Криптона было решено оценить в рублях среднюю стоимость бензина в его административном центре. Для этого случайно выбрали 50 заправок (далее - АЗС) из 1000 (значения приведены в файле oil_price_Krypton.csv). Определить с уверенностью в 95% границы, в которых заключено среднее значение стоимости бензина в административном центре, т.е. построить 95% доверительный интерал для средней цены на бензин? Постройте график по данным выборки с доверительным интервалом.</p>"
   ]
  },
  {
   "cell_type": "code",
   "execution_count": null,
   "metadata": {
    "collapsed": true
   },
   "outputs": [],
   "source": [
    "#Ваш код"
   ]
  },
  {
   "cell_type": "markdown",
   "metadata": {},
   "source": [
    "<p><b>Задача 2.</b> Гипотеза</p>"
   ]
  },
  {
   "cell_type": "markdown",
   "metadata": {},
   "source": [
    "<p>Решить двумя способами, как показано в Class_6_Examples_CI_Hyp.ipnb, т.е. самостоятельно по формулам и с использованием stats.ttest</p>"
   ]
  },
  {
   "cell_type": "markdown",
   "metadata": {},
   "source": [
    "<p><b><i>Вариант 1</i></b></p>"
   ]
  },
  {
   "cell_type": "markdown",
   "metadata": {},
   "source": [
    "<p>До присоединения Криптона в его административном центре средняя цена бензина в переводе на рубли была 90 рублей. Используя данные предыдущей выборки (значения приведены в файле oil_price_Krypton.csv), изменилась ли средняя цена после, т.е. постройте и оцените нулевую гипотезу при уровне значимости 0.05? Постройте график по данным выборки с указанием p-value и уровня значимости.</p>"
   ]
  },
  {
   "cell_type": "code",
   "execution_count": null,
   "metadata": {
    "collapsed": true
   },
   "outputs": [],
   "source": [
    "#Ваш код"
   ]
  },
  {
   "cell_type": "markdown",
   "metadata": {},
   "source": [
    "<p><b><i>Вариант 2</i></b></p>"
   ]
  },
  {
   "cell_type": "markdown",
   "metadata": {},
   "source": [
    "<p>В административном центре Криптона функционируют АЗС двух компнаний. Было решено оценить отличаются ли средние цены на бензин у этих компаний. Для этого случайно выбраны 50 территориальных единиц из 500, в которых присутвуют АЗС двух компаний (значения приведены в файле oil_price_two_companies.csv). Используя данные выборок, постройте и оцените нулевую гипотезу при уровне значимости 0.05? Постройте график по данным выборки с указанием p-value и уровня значимости.</p>   "
   ]
  },
  {
   "cell_type": "code",
   "execution_count": null,
   "metadata": {
    "collapsed": true
   },
   "outputs": [],
   "source": [
    "#Ваш код"
   ]
  },
  {
   "cell_type": "markdown",
   "metadata": {},
   "source": [
    "<p><b><i>Вариант 3</i></b></p>"
   ]
  },
  {
   "cell_type": "markdown",
   "metadata": {},
   "source": [
    "<p>После присоединения Криптона было решено сравнить среднюю стоимость бензина в его административном центре и в центральном федеральном округе (далее - ЦФО). Для этого случайно выбрали 50 заправок на Криптоне и 60 в ЦФО (значения приведены в файле oil_price_two_districts.csv). Используя данные выборок, отличается ли средняя цена на Криптоне и в ЦФО при уровне значимости 0.05, т.е. постройте и оцените нулевую гипотезу? Постройте график по данным выборки с указанием p-value и уровня значимости.</p>"
   ]
  },
  {
   "cell_type": "code",
   "execution_count": 3,
   "metadata": {
    "collapsed": true
   },
   "outputs": [],
   "source": [
    "#Ваш код\n",
    "\n",
    "import pandas as pnd\n",
    "import numpy as np\n",
    "from scipy import stats\n",
    "import matplotlib.pyplot as plt\n",
    "%matplotlib inline"
   ]
  },
  {
   "cell_type": "code",
   "execution_count": 4,
   "metadata": {
    "collapsed": true
   },
   "outputs": [],
   "source": [
    "def getSE(sigma, n):\n",
    "    return sigma / np.sqrt(n)\n",
    "\n",
    "def getSE2(sigma1, n1, sigma2, n2):\n",
    "    return np.sqrt(sigma1**2 / n1 + sigma2**2 / n2)\n",
    "\n",
    "def getZ(x, mu, se):\n",
    "    return (x - mu) / se\n",
    "\n",
    "def getPrByX(x, mu, se):\n",
    "    return stats.norm.cdf(x, loc=mu, scale=se)\n",
    "\n",
    "def getPrByZ(z):\n",
    "    return stats.norm.cdf(z, loc=0, scale=1)\n",
    "\n",
    "def getZbyPr2Tail(pr):\n",
    "    return stats.norm.ppf((1-pr)/2, loc=0, scale=1)\n",
    "\n",
    "def getZbyPr1Tail(pr):\n",
    "    return stats.norm.ppf(1-pr, loc=0, scale=1)\n",
    "\n",
    "def getPValue1Tail_Norm(z):\n",
    "    return 1 - stats.norm.cdf(z, loc=0, scale=1)\n",
    "\n",
    "def getPValue2Tail_Norm(z):\n",
    "    return 2 * (stats.norm.cdf(-abs(z), loc=0, scale=1))\n",
    "\n",
    "def getPValue2Tail_T(t, df):\n",
    "    return 2 * stats.t.cdf(-abs(t), df=df)\n",
    "\n",
    "def getPValue1Tail_T(t, df):\n",
    "    return 1 - stats.t.cdf(t, df=df)"
   ]
  },
  {
   "cell_type": "code",
   "execution_count": 6,
   "metadata": {
    "collapsed": false
   },
   "outputs": [
    {
     "name": "stdout",
     "output_type": "stream",
     "text": [
      "OilPrice_Krypton    109.952\n",
      "OilPrice_CFD        115.895\n",
      "dtype: float64\n",
      "OilPrice_Krypton     85.663363\n",
      "OilPrice_CFD        121.496415\n",
      "dtype: float64\n",
      "OilPrice_Krypton     9.255450\n",
      "OilPrice_CFD        11.022541\n",
      "dtype: float64\n"
     ]
    }
   ],
   "source": [
    "\n",
    "df = pnd.read_csv(\"oil_price_two_districts.csv\")\n",
    "\n",
    "#Среднее значение\n",
    "x = df.mean()\n",
    "print(x)\n",
    "\n",
    "#Выборочная дисперсия\n",
    "var = df.var(ddof=1)\n",
    "print(var)\n",
    "\n",
    "#Стандартное отклонение (несмещенное)\n",
    "s = df.std(ddof=1)\n",
    "print(s)"
   ]
  },
  {
   "cell_type": "code",
   "execution_count": 9,
   "metadata": {
    "collapsed": true
   },
   "outputs": [],
   "source": [
    "#Уровни доверия: 95%\n",
    "prs = np.array([0.95])\n"
   ]
  },
  {
   "cell_type": "code",
   "execution_count": 32,
   "metadata": {
    "collapsed": false
   },
   "outputs": [
    {
     "data": {
      "text/plain": [
       "OilPrice_Krypton    1.204957\n",
       "OilPrice_CFD        1.435013\n",
       "dtype: float64"
      ]
     },
     "execution_count": 32,
     "metadata": {},
     "output_type": "execute_result"
    }
   ],
   "source": [
    "#Стандартная ошибка\n",
    "se = getSE(s, 59)\n",
    "se"
   ]
  },
  {
   "cell_type": "code",
   "execution_count": 13,
   "metadata": {
    "collapsed": false
   },
   "outputs": [
    {
     "name": "stdout",
     "output_type": "stream",
     "text": [
      "Уровень доверия 95%: (107.386567, 112.517433)\n"
     ]
    }
   ],
   "source": [
    "#Доверителный интервал\n",
    "lowers, uppers = stats.norm.interval(prs, loc=x, scale=se)\n",
    "for i in range(len(prs)):\n",
    "    print(\"Уровень доверия %i%%: (%f, %f)\" % (prs[i]*100, lowers[i], uppers[i]))"
   ]
  },
  {
   "cell_type": "code",
   "execution_count": 21,
   "metadata": {
    "collapsed": true
   },
   "outputs": [],
   "source": [
    "#Проверка гипотезы по двум выборкам\n",
    "alpha = 0.05 #уровень значимости\n"
   ]
  },
  {
   "cell_type": "code",
   "execution_count": 28,
   "metadata": {
    "collapsed": true
   },
   "outputs": [],
   "source": [
    "n_Krypton = 59\n",
    "sample_Krypton = df.OilPrice_Krypton\n"
   ]
  },
  {
   "cell_type": "code",
   "execution_count": 29,
   "metadata": {
    "collapsed": true
   },
   "outputs": [],
   "source": [
    "n_CFD = 59\n",
    "\n",
    "sample_CFD = df.OilPrice_CFD\n"
   ]
  },
  {
   "cell_type": "code",
   "execution_count": 33,
   "metadata": {
    "collapsed": false
   },
   "outputs": [
    {
     "name": "stdout",
     "output_type": "stream",
     "text": [
      "x_bar_Krypron = 109.95200000000003\n",
      "x_bar_CFD = 115.895\n",
      "s_Krypton = 9.255450462581827\n",
      "s_CFD = 9.255450462581827\n",
      "se_Krypton_CFD = 1.70406655461\n"
     ]
    }
   ],
   "source": [
    "#Среднее значение\n",
    "x_bar_Krypron = sample_Krypton.mean()\n",
    "x_bar_CFD = sample_CFD.mean()\n",
    "print(\"x_bar_Krypron =\", x_bar_Krypron)\n",
    "print(\"x_bar_CFD =\", x_bar_CFD)\n",
    "\n",
    "\n",
    "#Стандартное отклонение (несмещенное)\n",
    "s_Krypton = sample_Krypton.std(ddof=1)\n",
    "s_CFD = sample_Krypton.std(ddof=1)\n",
    "print(\"s_Krypton =\", s_Krypton)\n",
    "print(\"s_CFD =\", s_CFD)\n",
    "\n",
    "#Стандартная ошибка\n",
    "se_Krypton_CFD = getSE2(s_Krypton, n_Krypton, s_CFD, n_CFD)\n",
    "print(\"se_Krypton_CFD =\", se_Krypton_CFD)\n"
   ]
  },
  {
   "cell_type": "markdown",
   "metadata": {},
   "source": [
    "<p><b>Проверка гипотезы</b></p>"
   ]
  },
  {
   "cell_type": "code",
   "execution_count": 36,
   "metadata": {
    "collapsed": false
   },
   "outputs": [
    {
     "data": {
      "text/plain": [
       "-3.4875398404538651"
      ]
     },
     "execution_count": 36,
     "metadata": {},
     "output_type": "execute_result"
    }
   ],
   "source": [
    "#Z-score\n",
    "z = getZ(x_bar_Krypron-x_bar_CFD, 0, se_Krypton_CFD)\n",
    "z"
   ]
  },
  {
   "cell_type": "code",
   "execution_count": 37,
   "metadata": {
    "collapsed": false
   },
   "outputs": [
    {
     "data": {
      "text/plain": [
       "0.00048748628818678544"
      ]
     },
     "execution_count": 37,
     "metadata": {},
     "output_type": "execute_result"
    }
   ],
   "source": [
    "#P-Value \n",
    "pvalue = getPValue2Tail_Norm(z)\n",
    "pvalue"
   ]
  },
  {
   "cell_type": "code",
   "execution_count": 38,
   "metadata": {
    "collapsed": false
   },
   "outputs": [
    {
     "name": "stdout",
     "output_type": "stream",
     "text": [
      "alpha > p-value\n",
      "Отказываемся от нулевую гипотезы в пользу альтернативной\n"
     ]
    }
   ],
   "source": [
    "if alpha > pvalue:\n",
    "    print(\"alpha > p-value\")\n",
    "    print(\"Отказываемся от нулевую гипотезы в пользу альтернативной\")\n",
    "else:\n",
    "    print(\"alpha <= p-value\")\n",
    "    print(\"Принимаем нулевую гипотезу (не отказываемся от нулевой гипотезы)\")"
   ]
  },
  {
   "cell_type": "markdown",
   "metadata": {},
   "source": [
    "<p><b>График</b></p>"
   ]
  },
  {
   "cell_type": "code",
   "execution_count": null,
   "metadata": {
    "collapsed": true
   },
   "outputs": [],
   "source": [
    "график не доделан"
   ]
  },
  {
   "cell_type": "code",
   "execution_count": null,
   "metadata": {
    "collapsed": true
   },
   "outputs": [],
   "source": []
  },
  {
   "cell_type": "code",
   "execution_count": 39,
   "metadata": {
    "collapsed": true
   },
   "outputs": [],
   "source": [
    "def getGraphOne(xran, x_cr, typefunc=0, df=5, lm=0):\n",
    "    x = np.linspace(xran[0], xran[1], 1000)\n",
    "    y = []\n",
    "    \n",
    "    if typefunc == 1:\n",
    "        y = stats.t.pdf(x, df=df)\n",
    "        pr = np.around(stats.t.cdf(x_cr, df=df), decimals=3)\n",
    "        \n",
    "        if lm == 1:\n",
    "            plt.axvspan(x_cr, xran[1], color=\"g\", alpha=0.1)\n",
    "            plt.plot(x, y, lw=2, color=\"green\")\n",
    "            plt.title(\"t-distribution\")\n",
    "            plt.fill_between(x, 0, y, where=x>x_cr, facecolor='green', alpha=0.5)\n",
    "            plt.axvline(x_cr, color=\"black\", linestyle=\"--\")\n",
    "\n",
    "            ##xx = (xran[0] - x_cr) / 2 + x_cr\n",
    "            ##yy = stats.t.pdf(xx, df=df) / 2\n",
    "            plt.annotate(\"$1-F_{one}(\"+str(np.around(x_cr, decimals=3))+\")=\"+str(1-pr)+\"$\", fontsize=14, xycoords='data',\n",
    "                        xytext=(-1.5, 0.1), xy=(-2.6, 0.01)) #, arrowprops=dict(arrowstyle=\"->\", connectionstyle=\"arc3\"))            \n",
    "        else:\n",
    "            plt.axvspan(xran[0], x_cr, color=\"g\", alpha=0.1)\n",
    "            plt.plot(x, y, lw=2, color=\"green\")\n",
    "            plt.title(\"t-distribution\")\n",
    "            plt.fill_between(x, 0, y, where=x<= x_cr, facecolor='green', alpha=0.5)\n",
    "            plt.axvline(x_cr, color=\"black\", linestyle=\"--\")\n",
    "\n",
    "            ##xx = (xran[0] - x_cr) / 2 + x_cr\n",
    "            ##yy = stats.t.pdf(xx, df=df) / 2\n",
    "            plt.annotate(\"$F_{one}(\"+str(np.around(x_cr, decimals=3))+\")=\"+str(pr)+\"$\", fontsize=14, xycoords='data',\n",
    "                        xytext=(-1.5, 0.1), xy=(-2.6, 0.01)) #, arrowprops=dict(arrowstyle=\"->\", connectionstyle=\"arc3\"))\n",
    "        \n",
    "\n",
    "    else:\n",
    "        y = stats.norm.pdf(x, loc=0, scale=1)\n",
    "        pr = np.around(stats.norm.cdf(x_cr, loc=0, scale=1), decimals=3)\n",
    "    \n",
    "        if lm == 1:\n",
    "            plt.axvspan(x_cr, xran[1], color=\"g\", alpha=0.1)\n",
    "            plt.plot(x, y, lw=2, color=\"green\")\n",
    "            plt.title(\"Standard Normal Distribution\")\n",
    "\n",
    "            plt.fill_between(x, 0, y, where=x>x_cr, facecolor='green', alpha=0.5)\n",
    "            plt.axvline(x_cr, color=\"black\", linestyle=\"--\")\n",
    "\n",
    "            plt.annotate(\"$1-\\Phi_N(\"+str(np.around(x_cr, decimals=3))+\")=\"+str(1-pr)+\"$\", (0.35,0.4), \n",
    "                         fontsize=14, xycoords='axes fraction')\n",
    "\n",
    "        else:\n",
    "            plt.axvspan(xran[0], x_cr, color=\"g\", alpha=0.1)\n",
    "            plt.plot(x, y, lw=2, color=\"green\")\n",
    "            plt.title(\"Standard Normal Distribution\")\n",
    "\n",
    "            plt.fill_between(x, 0, y, where=x<=x_cr, facecolor='green', alpha=0.5)\n",
    "            plt.axvline(x_cr, color=\"black\", linestyle=\"--\")\n",
    "\n",
    "            plt.annotate(\"$\\Phi_N(\"+str(np.around(x_cr, decimals=3))+\")=\"+str(pr)+\"$\", (0.35,0.4), \n",
    "                         fontsize=14, xycoords='axes fraction')\n",
    "    \n",
    "    plt.grid(True)\n",
    "    \n",
    "def getGraphTwo(xran, x_cr, typefunc=0, df=5, lm=0):\n",
    "    x = np.linspace(xran[0], xran[1], 1000)\n",
    "    y = []\n",
    "    \n",
    "    sdFunc = {0: stats.norm(loc=0, scale=1), 1: stats.t(df=df)}\n",
    "    x_cr = abs(x_cr) \n",
    "    y = sdFunc[typefunc].pdf(x)   \n",
    "    \n",
    "    if lm == 0:\n",
    "        pr = np.around(sdFunc[typefunc].cdf(x_cr) - sdFunc[typefunc].cdf(-x_cr), decimals=3)\n",
    "        plt.axvspan(-x_cr, x_cr, color=\"g\", alpha=0.1)\n",
    "        plt.plot(x, y, lw=2, color=\"green\")\n",
    "        plt.title(\"Standard Normal Distribution\") if typefunc==0 else plt.title(\"t-distribution\")\n",
    "        \n",
    "        plt.fill_between(x, 0, y, where=y>sdFunc[typefunc].pdf(x_cr), facecolor='green', alpha=0.5)\n",
    "        plt.axvline(-x_cr, color=\"black\", linestyle=\"--\")\n",
    "        plt.axvline(x_cr, color=\"black\", linestyle=\"--\")\n",
    "        \n",
    "        plt.annotate(\"$\\gamma(\"+str(np.around(x_cr, decimals=3))+\")=\"+str(pr)+\"$\", (0.35,0.4), \n",
    "                     fontsize=14, xycoords='axes fraction')     \n",
    "    \n",
    "    elif lm == 1:\n",
    "        pr = np.around(2*sdFunc[typefunc].cdf(-abs(x_cr)), decimals=3)\n",
    "        plt.plot(x, y, lw=2, color=\"green\")\n",
    "        plt.axvspan(xran[0], -x_cr, color=\"g\", alpha=0.1)\n",
    "        plt.axvspan(x_cr, xran[1], color=\"g\", alpha=0.1)\n",
    "        plt.title(\"Standard Normal Distribution\") if typefunc==0 else plt.title(\"t-distribution\")\n",
    "        \n",
    "        plt.fill_between(x, 0, y, where=y<sdFunc[typefunc].pdf(x_cr), facecolor='green', alpha=0.5)\n",
    "        plt.axvline(-x_cr, color=\"black\", linestyle=\"--\")\n",
    "        plt.axvline(x_cr, color=\"black\", linestyle=\"--\")\n",
    "        \n",
    "        if typefunc == 1: \n",
    "            plt.annotate(\"$F_{two}(\"+str(np.around(x_cr, decimals=3))+\")=\"+str(pr)+\"$\", fontsize=14, \n",
    "                     xy=(-2.6, 0.01), xycoords='data', xytext=(-1.5, 0.1))#, \n",
    "                             #arrowprops=dict(arrowstyle=\"->\", connectionstyle=\"arc3\"))\n",
    "                #plt.annotate(\"\", fontsize=14, xy=(2.6, 0.01), xycoords='data',\n",
    "                #            xytext=(0.5, 0.09))#, arrowprops=dict(arrowstyle=\"->\", connectionstyle=\"arc3\"))\n",
    "        else:\n",
    "            plt.annotate(\"$2\\cdot(1 - \\Phi(\"+str(np.around(x_cr, decimals=3))+\"))=\"+str(pr)+\"$\", \n",
    "                         (0.35,0.4), fontsize=14, xycoords='axes fraction')\n",
    "\n",
    "        #plt.annotate(\"$\\gamma=0.95$\", (0.35,0.2), fontsize=14, xycoords='axes fraction')\n",
    "        \n",
    "    plt.grid(True)"
   ]
  },
  {
   "cell_type": "code",
   "execution_count": 40,
   "metadata": {
    "collapsed": false
   },
   "outputs": [
    {
     "data": {
      "image/png": "[encoded data removed]",
      "text/plain": [
       "<matplotlib.figure.Figure at 0x10ce1e630>"
      ]
     },
     "metadata": {},
     "output_type": "display_data"
    }
   ],
   "source": [
    "plt.figure(1, figsize=[12, 4])\n",
    "\n",
    "plt.subplot(1,2,1)\n",
    "xx = abs(stats.norm.ppf(alpha/2, loc=0, scale=1))\n",
    "plt.axvline(-xx, lw=2, color=\"orange\", linestyle=\"-\")\n",
    "plt.axvline(xx, lw=2, color=\"orange\", linestyle=\"-\")\n",
    "plt.axvspan(-xx, xx, color=\"orange\", alpha=0.1)\n",
    "getGraphTwo([-4,4], z, lm=0)\n",
    "\n",
    "plt.subplot(1,2,2)\n",
    "plt.axvline(-xx, lw=2, color=\"orange\", linestyle=\"-\")\n",
    "plt.axvline(xx, lw=2, color=\"orange\", linestyle=\"-\")\n",
    "plt.axvspan(-xx, xx, color=\"orange\", alpha=0.1)\n",
    "getGraphTwo([-4,4], z, lm=1)\n",
    "\n",
    "plt.show()"
   ]
  },
  {
   "cell_type": "code",
   "execution_count": null,
   "metadata": {
    "collapsed": true
   },
   "outputs": [],
   "source": []
  },
  {
   "cell_type": "code",
   "execution_count": null,
   "metadata": {
    "collapsed": true
   },
   "outputs": [],
   "source": []
  }
 ],
 "metadata": {
  "kernelspec": {
   "display_name": "Python 3",
   "language": "python",
   "name": "python3"
  },
  "language_info": {
   "codemirror_mode": {
    "name": "ipython",
    "version": 3
   },
   "file_extension": ".py",
   "mimetype": "text/x-python",
   "name": "python",
   "nbconvert_exporter": "python",
   "pygments_lexer": "ipython3",
   "version": "3.5.1"
  }
 },
 "nbformat": 4,
 "nbformat_minor": 0
}

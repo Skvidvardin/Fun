{
 "cells": [
  {
   "cell_type": "markdown",
   "metadata": {},
   "source": [
    "<div style=\"font-size:18pt; padding-top:20px; text-align:center\">ЗАДАНИЕ 4. <b>Статистика и </b> <span style=\"font-weight:bold; color:green\">NumPy/SciPy</span></div><hr>\n",
    "<div style=\"text-align:center;\">Вариант - 1 </div><div style=\"text-align:right;\">Першин М.А. <span style=\"font-style: italic;font-weight: bold;\">(max_pershin@bk.ru)</span></div>"
   ]
  },
  {
   "cell_type": "markdown",
   "metadata": {},
   "source": [
    "<a name=\"2\"></a>\n",
    "<div style=\"display:table; width:100%; padding-top:10px; padding-bottom:10px; border-bottom:1px solid lightgrey\">\n",
    "    <div style=\"display:table-row\">\n",
    "        <div style=\"display:table-cell; width:80%; font-size:14pt; font-weight:bold\">Домашняя работа</div>\n",
    "    </div>\n",
    "</div>"
   ]
  },
  {
   "cell_type": "code",
   "execution_count": 1,
   "metadata": {
    "collapsed": true
   },
   "outputs": [],
   "source": [
    "import pandas as pnd\n",
    "import numpy as np\n",
    "from scipy import stats\n",
    "import matplotlib.pyplot as plt\n",
    "%matplotlib inline\n",
    "\n",
    "\n",
    "def getSE(sigma, n):\n",
    "    return sigma / np.sqrt(n)\n",
    "\n",
    "def getSE2(sigma1, n1, sigma2, n2):\n",
    "    return np.sqrt(sigma1**2 / n1 + sigma2**2 / n2)\n",
    "\n",
    "def getZ(x, mu, se):\n",
    "    return (x - mu) / se\n",
    "\n",
    "def getPrByX(x, mu, se):\n",
    "    return stats.norm.cdf(x, loc=mu, scale=se)\n",
    "\n",
    "def getPrByZ(z):\n",
    "    return stats.norm.cdf(z, loc=0, scale=1)\n",
    "\n",
    "def getZbyPr2Tail(pr):\n",
    "    return stats.norm.ppf((1-pr)/2, loc=0, scale=1)\n",
    "\n",
    "def getZbyPr1Tail(pr):\n",
    "    return stats.norm.ppf(1-pr, loc=0, scale=1)\n",
    "\n",
    "def getPValue1Tail_Norm(z):\n",
    "    return 1 - stats.norm.cdf(z, loc=0, scale=1)\n",
    "\n",
    "def getPValue2Tail_Norm(z):\n",
    "    return 2 * (stats.norm.cdf(-abs(z), loc=0, scale=1))\n",
    "\n",
    "def getPValue2Tail_T(t, df):\n",
    "    return 2 * stats.t.cdf(-abs(t), df=df)\n",
    "\n",
    "def getPValue1Tail_T(t, df):\n",
    "    return 1 - stats.t.cdf(t, df=df)"
   ]
  },
  {
   "cell_type": "markdown",
   "metadata": {},
   "source": [
    "<p><b>Задача 1.</b> Доверительный интервал</p>"
   ]
  },
  {
   "cell_type": "markdown",
   "metadata": {},
   "source": [
    "<p>После присоединения Криптона было решено оценить в рублях среднюю стоимость бензина в его административном центре. Для этого случайно выбрали 50 заправок (далее - АЗС) из 1000 (значения приведены в файле oil_price_Krypton.csv). Определить с уверенностью в 95% границы, в которых заключено среднее значение стоимости бензина в административном центре, т.е. построить 95% доверительный интерал для средней цены на бензин? Постройте график по данным выборки с доверительным интервалом.</p>"
   ]
  },
  {
   "cell_type": "code",
   "execution_count": 30,
   "metadata": {
    "collapsed": false
   },
   "outputs": [
    {
     "name": "stdout",
     "output_type": "stream",
     "text": [
      "OilPrice_Krypton    109.952\n",
      "dtype: float64\n",
      "Доверительный интервал для уровня доверия 95%: (107.386567, 112.517433)\n"
     ]
    }
   ],
   "source": [
    "dfOil = pnd.read_csv(\"oil_price_Krypton.csv\")\n",
    "x = dfOil.mean()\n",
    "var = dfOil.var(ddof=1)\n",
    "s = dfOil.std(ddof=1)\n",
    "prs = np.array([0.95])\n",
    "se = getSE(s, 50)\n",
    "lowers, uppers = stats.norm.interval(prs, loc=x, scale=se)\n",
    "for i in range(len(prs)):\n",
    "    print(\"Доверительный интервал для уровня доверия %i%%: (%f, %f)\" % (prs[i]*100, lowers[i], uppers[i]))"
   ]
  },
  {
   "cell_type": "code",
   "execution_count": 3,
   "metadata": {
    "collapsed": false
   },
   "outputs": [
    {
     "data": {
      "image/png": "[encoded data removed]",
      "text/plain": [
       "<matplotlib.figure.Figure at 0xe04d6ab630>"
      ]
     },
     "metadata": {},
     "output_type": "display_data"
    }
   ],
   "source": [
    "plt.plot(dfOil, np.zeros(len(dfOil)), \"o\", color=\"orange\")\n",
    "plt.axvline(107.386567, lw=2, color=\"orange\", linestyle=\"-\")\n",
    "plt.axvline(112.517433, lw=2, color=\"orange\", linestyle=\"-\")\n",
    "plt.grid(True)"
   ]
  },
  {
   "cell_type": "markdown",
   "metadata": {},
   "source": [
    "<p><b>Задача 2.</b> Гипотеза</p>"
   ]
  },
  {
   "cell_type": "markdown",
   "metadata": {},
   "source": [
    "<p>Решить двумя способами, как показано в Class_6_Examples_CI_Hyp.ipnb, т.е. самостоятельно по формулам и с использованием stats.ttest</p>"
   ]
  },
  {
   "cell_type": "markdown",
   "metadata": {},
   "source": [
    "<p><b><i>Вариант 1</i></b></p>"
   ]
  },
  {
   "cell_type": "markdown",
   "metadata": {},
   "source": [
    "<p>До присоединения Криптона в его административном центре средняя цена бензина в переводе на рубли была 90 рублей. Используя данные предыдущей выборки (значения приведены в файле oil_price_Krypton.csv), изменилась ли средняя цена после, т.е. постройте и оцените нулевую гипотезу при уровне значимости 0.05? Постройте график по данным выборки с указанием p-value и уровня значимости.</p>"
   ]
  },
  {
   "cell_type": "code",
   "execution_count": 33,
   "metadata": {
    "collapsed": false
   },
   "outputs": [
    {
     "name": "stdout",
     "output_type": "stream",
     "text": [
      "z = [  1.82921749e-52]\n",
      "p-value = [  1.82921749e-52]\n",
      "alpha = 0.05\n",
      "alpha > p-value\n",
      "Отказываемся от нулевой гипотезы: полагаем, что средняя цена бензина изменилась после присоединения Криптона\n"
     ]
    }
   ],
   "source": [
    "n = 50\n",
    "mu = 90\n",
    "x_bar = x-mu\n",
    "alpha = 0.05\n",
    "se = getSE(s, n)\n",
    "z = getZ(x_bar, 0, se)\n",
    "print(\"z =\", pvalue)\n",
    "\n",
    "pvalue = getPValue2Tail_Norm(z)\n",
    "print(\"p-value =\", pvalue)\n",
    "print(\"alpha =\", alpha)\n",
    "\n",
    "if alpha > pvalue:\n",
    "    print(\"alpha > p-value\")\n",
    "    print(\"Отказываемся от нулевой гипотезы: полагаем, что средняя цена бензина изменилась после присоединения Криптона\")\n",
    "else:\n",
    "    print(\"alpha <= p-value\")\n",
    "    print(\"Принимаем нулевую гипотезу: нет достаточных доказательств, что средняя цена бензина изменилась после присоединения Криптона\")"
   ]
  },
  {
   "cell_type": "code",
   "execution_count": 5,
   "metadata": {
    "collapsed": true
   },
   "outputs": [],
   "source": [
    "def getGraphTwo(xran, x_cr, typefunc=0, df=5, lm=0):\n",
    "    x = np.linspace(xran[0], xran[1], 1000)\n",
    "    y = []\n",
    "    \n",
    "    sdFunc = {0: stats.norm(loc=0, scale=1), 1: stats.t(df=df)}\n",
    "    x_cr = abs(x_cr) \n",
    "    y = sdFunc[typefunc].pdf(x)   \n",
    "    \n",
    "    if lm == 0:\n",
    "        pr = np.around(sdFunc[typefunc].cdf(x_cr) - sdFunc[typefunc].cdf(-x_cr), decimals=3)\n",
    "        plt.axvspan(-x_cr, x_cr, color=\"g\", alpha=0.1)\n",
    "        plt.plot(x, y, lw=2, color=\"green\")\n",
    "        plt.title(\"Standard Normal Distribution\") if typefunc==0 else plt.title(\"t-distribution\")\n",
    "        \n",
    "        plt.fill_between(x, 0, y, where=y>sdFunc[typefunc].pdf(x_cr), facecolor='green', alpha=0.5)\n",
    "        plt.axvline(-x_cr, color=\"black\", linestyle=\"--\")\n",
    "        plt.axvline(x_cr, color=\"black\", linestyle=\"--\")\n",
    "        \n",
    "        plt.annotate(\"$\\gamma(\"+str(np.around(x_cr, decimals=3))+\")=\"+str(pr)+\"$\", (0.35,0.4), \n",
    "                     fontsize=14, xycoords='axes fraction')     \n",
    "    \n",
    "    elif lm == 1:\n",
    "        pr = np.around(2*sdFunc[typefunc].cdf(-abs(x_cr)), decimals=3)\n",
    "        plt.plot(x, y, lw=2, color=\"green\")\n",
    "        plt.axvspan(xran[0], -x_cr, color=\"g\", alpha=0.1)\n",
    "        plt.axvspan(x_cr, xran[1], color=\"g\", alpha=0.1)\n",
    "        plt.title(\"Standard Normal Distribution\") if typefunc==0 else plt.title(\"t-distribution\")\n",
    "        \n",
    "        plt.fill_between(x, 0, y, where=y<sdFunc[typefunc].pdf(x_cr), facecolor='green', alpha=0.5)\n",
    "        plt.axvline(-x_cr, color=\"black\", linestyle=\"--\")\n",
    "        plt.axvline(x_cr, color=\"black\", linestyle=\"--\")\n",
    "        \n",
    "        if typefunc == 1: \n",
    "            plt.annotate(\"$F_{two}(\"+str(np.around(x_cr, decimals=3))+\")=\"+str(pr)+\"$\", fontsize=14, \n",
    "                     xy=(-2.6, 0.01), xycoords='data', xytext=(-1.5, 0.1))#, \n",
    "                             #arrowprops=dict(arrowstyle=\"->\", connectionstyle=\"arc3\"))\n",
    "                #plt.annotate(\"\", fontsize=14, xy=(2.6, 0.01), xycoords='data',\n",
    "                #            xytext=(0.5, 0.09))#, arrowprops=dict(arrowstyle=\"->\", connectionstyle=\"arc3\"))\n",
    "        else:\n",
    "            plt.annotate(\"$2\\cdot(1 - \\Phi(\"+str(np.around(x_cr, decimals=3))+\"))=\"+str(pr)+\"$\", \n",
    "                         (0.35,0.4), fontsize=14, xycoords='axes fraction')\n",
    "\n",
    "        #plt.annotate(\"$\\gamma=0.95$\", (0.35,0.2), fontsize=14, xycoords='axes fraction')\n",
    "        \n",
    "    plt.grid(True)"
   ]
  },
  {
   "cell_type": "code",
   "execution_count": 22,
   "metadata": {
    "collapsed": false
   },
   "outputs": [
    {
     "data": {
      "image/png": "[encoded data removed]",
      "text/plain": [
       "<matplotlib.figure.Figure at 0xe04ee1c358>"
      ]
     },
     "metadata": {},
     "output_type": "display_data"
    }
   ],
   "source": [
    "plt.figure(1, figsize=[12, 4])\n",
    "\n",
    "plt.subplot(1,2,1)\n",
    "xx = abs(stats.norm.ppf(alpha/2, loc=0, scale=1))\n",
    "plt.axvline(-xx, lw=2, color=\"orange\", linestyle=\"-\")\n",
    "plt.axvline(xx, lw=2, color=\"orange\", linestyle=\"-\")\n",
    "plt.axvspan(-xx, xx, color=\"orange\", alpha=0.1)\n",
    "getGraphTwo([-4,4], 1.829, lm=0)\n",
    "\n",
    "plt.subplot(1,2,2)\n",
    "plt.axvline(-xx, lw=2, color=\"orange\", linestyle=\"-\")\n",
    "plt.axvline(xx, lw=2, color=\"orange\", linestyle=\"-\")\n",
    "plt.axvspan(-xx, xx, color=\"orange\", alpha=0.1)\n",
    "getGraphTwo([-4,4], 1.829, lm=1)\n",
    "\n",
    "plt.show()"
   ]
  },
  {
   "cell_type": "code",
   "execution_count": 62,
   "metadata": {
    "collapsed": false
   },
   "outputs": [
    {
     "ename": "SyntaxError",
     "evalue": "EOF while scanning triple-quoted string literal (<ipython-input-62-5bb486e5354a>, line 13)",
     "output_type": "error",
     "traceback": [
      "\u001b[1;36m  File \u001b[1;32m\"<ipython-input-62-5bb486e5354a>\"\u001b[1;36m, line \u001b[1;32m13\u001b[0m\n\u001b[1;33m    print(\"Принимаем нулевую гипотезу: нет достаточных доказательств, что средняя цена бензина изменилась после присоединения Криптона\")\u001b[0m\n\u001b[1;37m                                                                                                                                        \n^\u001b[0m\n\u001b[1;31mSyntaxError\u001b[0m\u001b[1;31m:\u001b[0m EOF while scanning triple-quoted string literal\n"
     ]
    }
   ],
   "source": [
    "\"\"\"\n",
    "для одномерной выборки мы знаем как найти pvalue двумя способанми только для t-распределения!\n",
    "\n",
    "x = dfOil.values.astype(np.float32)\n",
    "tvalue, pvalue_t = stats.ttest_1samp(x, 90)\n",
    "pvalue_t\n",
    "\n",
    "if alpha > pvalue_t:\n",
    "    print(\"alpha > p-value\")\n",
    "    print(\"Отказываемся от нулевой гипотезы: полагаем, что средняя цена бензина изменилась после присоединения Криптона\")\n",
    "else:\n",
    "    print(\"alpha <= p-value\")\n",
    "    print(\"Принимаем нулевую гипотезу: нет достаточных доказательств, что средняя цена бензина изменилась после присоединения Криптона\")"
   ]
  },
  {
   "cell_type": "code",
   "execution_count": null,
   "metadata": {
    "collapsed": true
   },
   "outputs": [],
   "source": []
  }
 ],
 "metadata": {
  "kernelspec": {
   "display_name": "Python 3",
   "language": "python",
   "name": "python3"
  },
  "language_info": {
   "codemirror_mode": {
    "name": "ipython",
    "version": 3
   },
   "file_extension": ".py",
   "mimetype": "text/x-python",
   "name": "python",
   "nbconvert_exporter": "python",
   "pygments_lexer": "ipython3",
   "version": "3.5.1"
  }
 },
 "nbformat": 4,
 "nbformat_minor": 0
}

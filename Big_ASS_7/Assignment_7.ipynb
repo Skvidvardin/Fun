{
 "cells": [
  {
   "cell_type": "markdown",
   "metadata": {},
   "source": [
    "<div style=\"font-size:18pt; padding-top:20px; text-align:center\">ЗАДАНИЕ 7. <b>Дерево решений и </b> <span style=\"font-weight:bold; color:green\">NumPy/SciPy</span></div><hr>\n",
    "<div style=\"text-align:right;\">Папулин С.Ю. <span style=\"font-style: italic;font-weight: bold;\">(papulin_hse@mail.ru)</span></div>"
   ]
  },
  {
   "cell_type": "markdown",
   "metadata": {},
   "source": [
    "<a name=\"0\"></a>\n",
    "<div><span style=\"font-size:14pt; font-weight:bold\">Содержание</span>\n",
    "    <ol>\n",
    "        <li><a href=\"#1\">Варианты</a></li>\n",
    "        <li><a href=\"#2\">Задание</a></li>\n",
    "    </ol>\n",
    "</div>"
   ]
  },
  {
   "cell_type": "markdown",
   "metadata": {},
   "source": [
    "<a name=\"1\"></a>\n",
    "<div style=\"display:table; width:100%; padding-top:10px; padding-bottom:10px; border-bottom:1px solid lightgrey\">\n",
    "    <div style=\"display:table-row\">\n",
    "        <div style=\"display:table-cell; width:80%; font-size:14pt; font-weight:bold\">1. Варианты</div>\n",
    "    \t<div style=\"display:table-cell; width:20%; text-align:center; background-color:whitesmoke; border:1px solid lightgrey\"><a href=\"#0\">К содержанию</a></div>\n",
    "    </div>\n",
    "</div>"
   ]
  },
  {
   "cell_type": "markdown",
   "metadata": {},
   "source": [
    "<p>Чтобы узнать свой вариант, введите Вашу фамилию в соответвующее поле ниже и запустите ячейку:</p>"
   ]
  },
  {
   "cell_type": "code",
   "execution_count": 85,
   "metadata": {
    "collapsed": false
   },
   "outputs": [
    {
     "name": "stdout",
     "output_type": "stream",
     "text": [
      "Ваш вариант -  1\n",
      "Задача № 1\n",
      "Задача № 2\n"
     ]
    }
   ],
   "source": [
    "surname = \"Першин\" #Ваша фамилия\n",
    "\n",
    "alp = 'абвгдеёжзийклмнопрстуфхцчшщъыьэюя'\n",
    "w = [1, 42, 21, 21, 34,  6, 44, 26, 18, 44, 38, 26, 14, 43,  4, 49, 45,\n",
    "        7, 42, 29,  4,  9, 36, 34, 31, 29,  5, 30,  4, 19, 28, 25, 33]\n",
    "\n",
    "d = dict(zip(alp, w))\n",
    "variant =  sum([d[el] for el in surname.lower()]) % 15 + 1\n",
    "print(\"Ваш вариант - \", variant)\n",
    "\n",
    "import itertools\n",
    "comb = list(itertools.combinations(range(1, 7), 2))\n",
    "print(\"Задача №\", comb[variant-1][0])\n",
    "print(\"Задача №\", comb[variant-1][1])"
   ]
  },
  {
   "cell_type": "markdown",
   "metadata": {},
   "source": [
    "<p><span style=\"color:red; font-weight:bold\">ВНИМАНИЕ!</span> Варианты могут не совпадать с предыдущими ДЗ</p>"
   ]
  },
  {
   "cell_type": "markdown",
   "metadata": {},
   "source": [
    "<a name=\"2\"></a>\n",
    "<div style=\"display:table; width:100%; padding-top:10px; padding-bottom:10px; border-bottom:1px solid lightgrey\">\n",
    "    <div style=\"display:table-row\">\n",
    "        <div style=\"display:table-cell; width:80%; font-size:14pt; font-weight:bold\">2. Задание</div>\n",
    "    \t<div style=\"display:table-cell; width:20%; text-align:center; background-color:whitesmoke; border:1px solid lightgrey\"><a href=\"#0\">К содержанию</a></div>\n",
    "    </div>\n",
    "</div>"
   ]
  },
  {
   "cell_type": "code",
   "execution_count": 86,
   "metadata": {
    "collapsed": true
   },
   "outputs": [],
   "source": [
    "import pandas as pnd\n",
    "import matplotlib.pyplot as plt\n",
    "import numpy as np\n",
    "from scipy import stats\n",
    "from sklearn import cross_validation\n",
    "from sklearn import datasets\n",
    "from sklearn import svm\n",
    "from sklearn.linear_model import LinearRegression\n",
    "%matplotlib inline\n",
    "from sklearn.preprocessing import PolynomialFeatures\n",
    "from sklearn.pipeline import Pipeline\n",
    "from numpy.polynomial.polynomial import polyval\n",
    "from sklearn.metrics import mean_squared_error\n",
    "from sklearn import tree"
   ]
  },
  {
   "cell_type": "markdown",
   "metadata": {},
   "source": [
    "<ol>\n",
    "    <li>Загрузить исходные данные</li>\n",
    "    <li>Отобразить исходные данные</li>\n",
    "    <li>Разделить исходные данные на обучающее (train_init) и тестовое подмножества (test) - см. ДЗ 5-6</li>\n",
    "    <li>Разделить обучающее подмножество (train_init) на 4 folds - см. ДЗ 5-6</li>\n",
    "    <li>Выбрать модель: построить график MSE/Accuracy-Max_depth, выбрать наилучшую модель</li>\n",
    "    <li>Повторить обучение лучшей модели на train_init</li>\n",
    "    <li>Проверить на тестовом подмножестве</li>\n",
    "    <li>Построить итоговые графики регрессии/классификации для train_init и test</li>\n",
    "</ol>"
   ]
  },
  {
   "cell_type": "markdown",
   "metadata": {},
   "source": [
    "<p><span style=\"color:green; font-weight:bold\">ПРИМЕЧАНИЕ!</span> Везде random_state=0</p>"
   ]
  },
  {
   "cell_type": "markdown",
   "metadata": {},
   "source": [
    "<p><b>Задача 1.</b> Регрессия и Decision Tree - набор <b><i>\"Reg_A5.csv\"</i></b></p>"
   ]
  },
  {
   "cell_type": "code",
   "execution_count": 87,
   "metadata": {
    "collapsed": false
   },
   "outputs": [
    {
     "data": {
      "text/html": [
       "<div>\n",
       "<table border=\"1\" class=\"dataframe\">\n",
       "  <thead>\n",
       "    <tr style=\"text-align: right;\">\n",
       "      <th></th>\n",
       "      <th>X</th>\n",
       "      <th>Y</th>\n",
       "    </tr>\n",
       "  </thead>\n",
       "  <tbody>\n",
       "    <tr>\n",
       "      <th>1</th>\n",
       "      <td>0.103760</td>\n",
       "      <td>10.409240</td>\n",
       "    </tr>\n",
       "    <tr>\n",
       "      <th>2</th>\n",
       "      <td>3.168241</td>\n",
       "      <td>7.643742</td>\n",
       "    </tr>\n",
       "    <tr>\n",
       "      <th>3</th>\n",
       "      <td>3.744019</td>\n",
       "      <td>8.453341</td>\n",
       "    </tr>\n",
       "    <tr>\n",
       "      <th>4</th>\n",
       "      <td>2.492535</td>\n",
       "      <td>9.317824</td>\n",
       "    </tr>\n",
       "    <tr>\n",
       "      <th>5</th>\n",
       "      <td>1.123983</td>\n",
       "      <td>9.882790</td>\n",
       "    </tr>\n",
       "  </tbody>\n",
       "</table>\n",
       "</div>"
      ],
      "text/plain": [
       "          X          Y\n",
       "1  0.103760  10.409240\n",
       "2  3.168241   7.643742\n",
       "3  3.744019   8.453341\n",
       "4  2.492535   9.317824\n",
       "5  1.123983   9.882790"
      ]
     },
     "execution_count": 87,
     "metadata": {},
     "output_type": "execute_result"
    }
   ],
   "source": [
    "df = pnd.read_csv(\"Reg_A5.csv\")\n",
    "x = df.X.values\n",
    "y = df.Y.values\n",
    "df[1:6]"
   ]
  },
  {
   "cell_type": "code",
   "execution_count": 88,
   "metadata": {
    "collapsed": false
   },
   "outputs": [],
   "source": [
    "x_train_init, x_test, y_train_init, y_test = cross_validation.train_test_split(x, y, test_size=0.3, random_state=0)\n",
    "kf = cross_validation.KFold(n = len(x_train_init), n_folds = 4, shuffle = True, random_state = 0)"
   ]
  },
  {
   "cell_type": "code",
   "execution_count": 89,
   "metadata": {
    "collapsed": false
   },
   "outputs": [
    {
     "name": "stdout",
     "output_type": "stream",
     "text": [
      "[ 4.49012154  1.7582632   4.65457918  1.69339566  4.26966875  4.22192897\n",
      "  4.58887061  1.68877323  3.07350856  4.24254591  2.14746089  1.28651444\n",
      "  1.55141853  0.45053367  2.18059128  1.31107831  1.14391167  2.98685824\n",
      "  2.71732519  1.49864936  0.71085024  3.00519477  0.74266726  3.60877659\n",
      "  0.21548678  2.81595342  0.10582596  0.18778838  2.49253506  4.88540363\n",
      "  1.925568    4.5141588   1.52729959  2.29362115  0.04610551  2.73793078\n",
      "  4.29324508  2.56096132  0.18547207  3.74401941  2.94673856  2.20916587\n",
      "  4.02611598  3.81620294  3.91982143  1.06593283  3.57287892  4.10608238\n",
      "  0.23369614  3.02788782  3.16824117  0.61254991  3.90974559  2.56561354\n",
      "  3.42679909  0.46720188  4.06310481  4.00034375  1.96264622  1.52286678\n",
      "  3.7230162   4.06658042  2.08449204  0.12216322  3.22163308  1.31701582\n",
      "  4.28425151  0.07430012  0.92313419  0.52309872  3.36733463  1.59136403\n",
      "  0.24597579  4.89409573  0.12631973  0.56992181  2.29257103  3.85660322\n",
      "  1.69853922  1.86014451  3.00477104  0.61167961  1.50105306  3.86915148\n",
      "  0.82507949  1.62755819  0.12699891  3.95878498  3.37066808  2.846357\n",
      "  3.46945033  4.39048321  1.92015384  2.71204258  4.76321968  0.28314101\n",
      "  3.27863371  0.99031432  1.65359656  4.32239597  2.86514452  0.56980154\n",
      "  2.8077868   1.46398988  2.98918324  4.70353519  1.82682486  0.34048637\n",
      "  1.50350028  2.99525899  3.97154531  1.78590879  0.10375975  4.13951588\n",
      "  0.9947377   1.13386672  2.08754572  1.45938034  4.8740625   4.22309431\n",
      "  0.2344816   1.90705767  4.69257099  3.22536063  3.25198591  2.265525\n",
      "  0.83101074  0.92433775  1.96709556  2.60823576  0.92017411  3.71337289\n",
      "  3.19017541  2.99468225  2.14225369  3.83280063  0.88021067  2.59898493\n",
      "  2.06138039  1.57463436  0.29411184  3.07868438  3.13143574  1.02975129\n",
      "  2.78789094  0.19979604  1.21037938  3.96636617  1.60571016  4.47854474\n",
      "  0.44169907  1.46915778  1.8401334   0.38542702  0.89451404  4.4196824\n",
      "  3.01581488]\n",
      "[ 2.53489315  0.99050329  1.92057224  0.73810096  4.28415521  4.20123658\n",
      "  2.02689644  1.59618044  0.84036399  4.93812737  3.92433359  2.66735442\n",
      "  1.75606751  1.28737712  2.99127836  1.98220939  0.46730187  1.5153128\n",
      "  4.13061422  4.09643498  2.69073759  2.67278974  1.24306254  0.25238835\n",
      "  4.39233089  0.30025103  0.1534242   0.79596867  2.47524315  3.22613873\n",
      "  3.68191352  4.38667621  2.42010445  2.89068215  1.50435654  3.91357409\n",
      "  3.76248085  1.37397566  3.00525946  4.76696673  2.28152274  1.09384675\n",
      "  2.28348768  3.59301405  0.7557601   0.07317438  4.5432444   4.01784174\n",
      "  1.68907944  0.96626866  2.17006997  2.78647703  0.6508777 ]\n",
      "[ 4.49012154  1.7582632   1.69339566  2.53489315  0.99050329  4.26966875\n",
      "  1.92057224  4.58887061  3.07350856  0.73810096  4.24254591  4.28415521\n",
      "  4.20123658  1.28651444  2.02689644  2.18059128  1.59618044  1.31107831\n",
      "  2.98685824  0.84036399  1.49864936  0.71085024  0.74266726  3.60877659\n",
      "  4.93812737  0.21548678  2.81595342  0.10582596  3.92433359  0.18778838\n",
      "  2.49253506  1.925568    4.5141588   2.66735442  1.75606751  0.04610551\n",
      "  2.73793078  4.29324508  2.56096132  1.28737712  3.74401941  2.99127836\n",
      "  4.02611598  3.81620294  1.98220939  0.23369614  3.02788782  0.46730187\n",
      "  3.16824117  0.61254991  3.90974559  2.56561354  1.5153128   3.42679909\n",
      "  4.13061422  4.09643498  4.00034375  1.96264622  1.52286678  2.69073759\n",
      "  3.7230162   4.06658042  2.67278974  2.08449204  0.12216322  1.24306254\n",
      "  3.22163308  1.31701582  0.25238835  0.07430012  4.39233089  0.92313419\n",
      "  0.52309872  3.36733463  0.30025103  0.24597579  4.89409573  0.12631973\n",
      "  0.1534242   0.56992181  2.29257103  0.79596867  3.85660322  2.47524315\n",
      "  0.82507949  1.62755819  0.12699891  3.22613873  3.95878498  3.68191352\n",
      "  3.37066808  2.846357    3.46945033  4.38667621  4.39048321  2.42010445\n",
      "  2.89068215  2.71204258  4.76321968  0.99031432  1.65359656  4.32239597\n",
      "  1.50435654  3.91357409  3.76248085  2.86514452  1.37397566  2.8077868\n",
      "  3.00525946  1.46398988  4.76696673  1.82682486  0.34048637  1.50350028\n",
      "  2.28152274  3.97154531  1.09384675  4.13951588  2.28348768  3.59301405\n",
      "  1.13386672  2.08754572  1.45938034  4.8740625   4.22309431  1.90705767\n",
      "  0.7557601   4.69257099  3.25198591  0.07317438  2.265525    0.83101074\n",
      "  1.96709556  2.60823576  4.5432444   0.92017411  3.71337289  3.19017541\n",
      "  2.99468225  2.14225369  2.59898493  4.01784174  1.68907944  0.96626866\n",
      "  2.17006997  2.78647703  0.29411184  3.07868438  0.6508777   3.13143574\n",
      "  2.78789094  1.21037938  3.96636617  4.47854474  0.89451404  4.4196824\n",
      "  3.01581488]\n",
      "[ 4.65457918  4.22192897  1.68877323  2.14746089  1.55141853  0.45053367\n",
      "  1.14391167  2.71732519  3.00519477  4.88540363  1.52729959  2.29362115\n",
      "  0.18547207  2.94673856  2.20916587  3.91982143  1.06593283  3.57287892\n",
      "  4.10608238  0.46720188  4.06310481  4.28425151  1.59136403  1.69853922\n",
      "  1.86014451  3.00477104  0.61167961  1.50105306  3.86915148  1.92015384\n",
      "  0.28314101  3.27863371  0.56980154  2.98918324  4.70353519  2.99525899\n",
      "  1.78590879  0.10375975  0.9947377   0.2344816   3.22536063  0.92433775\n",
      "  3.83280063  0.88021067  2.06138039  1.57463436  1.02975129  0.19979604\n",
      "  1.60571016  0.44169907  1.46915778  1.8401334   0.38542702]\n",
      "[ 4.65457918  2.53489315  0.99050329  1.92057224  4.22192897  4.58887061\n",
      "  1.68877323  0.73810096  2.14746089  4.28415521  4.20123658  2.02689644\n",
      "  1.55141853  0.45053367  2.18059128  1.59618044  1.14391167  2.98685824\n",
      "  0.84036399  2.71732519  1.49864936  0.71085024  3.00519477  0.74266726\n",
      "  3.60877659  4.93812737  0.21548678  0.10582596  3.92433359  2.49253506\n",
      "  4.88540363  1.52729959  2.66735442  1.75606751  2.29362115  0.04610551\n",
      "  0.18547207  1.28737712  3.74401941  2.94673856  2.99127836  2.20916587\n",
      "  3.81620294  3.91982143  1.06593283  3.57287892  4.10608238  1.98220939\n",
      "  0.46730187  3.16824117  2.56561354  1.5153128   3.42679909  0.46720188\n",
      "  4.13061422  4.09643498  4.06310481  4.00034375  1.52286678  2.69073759\n",
      "  3.7230162   4.06658042  2.67278974  1.24306254  3.22163308  1.31701582\n",
      "  4.28425151  0.25238835  4.39233089  0.30025103  1.59136403  4.89409573\n",
      "  0.1534242   2.29257103  0.79596867  1.69853922  1.86014451  2.47524315\n",
      "  3.00477104  0.61167961  1.50105306  3.86915148  1.62755819  0.12699891\n",
      "  3.22613873  3.95878498  3.68191352  4.38667621  2.42010445  2.89068215\n",
      "  1.92015384  2.71204258  4.76321968  0.28314101  3.27863371  4.32239597\n",
      "  1.50435654  3.91357409  3.76248085  1.37397566  0.56980154  2.8077868\n",
      "  3.00525946  1.46398988  2.98918324  4.70353519  4.76696673  0.34048637\n",
      "  1.50350028  2.28152274  2.99525899  3.97154531  1.78590879  0.10375975\n",
      "  1.09384675  2.28348768  0.9947377   3.59301405  1.45938034  4.22309431\n",
      "  0.2344816   1.90705767  0.7557601   4.69257099  3.22536063  0.07317438\n",
      "  2.265525    0.83101074  0.92433775  1.96709556  2.60823576  4.5432444\n",
      "  0.92017411  2.99468225  3.83280063  0.88021067  2.59898493  4.01784174\n",
      "  2.06138039  1.68907944  0.96626866  1.57463436  2.17006997  2.78647703\n",
      "  0.29411184  3.07868438  0.6508777   3.13143574  1.02975129  2.78789094\n",
      "  0.19979604  1.21037938  1.60571016  4.47854474  0.44169907  1.46915778\n",
      "  1.8401334   0.38542702]\n",
      "[ 4.49012154  1.7582632   1.69339566  4.26966875  3.07350856  4.24254591\n",
      "  1.28651444  1.31107831  2.81595342  0.18778838  1.925568    4.5141588\n",
      "  2.73793078  4.29324508  2.56096132  4.02611598  0.23369614  3.02788782\n",
      "  0.61254991  3.90974559  1.96264622  2.08449204  0.12216322  0.07430012\n",
      "  0.92313419  0.52309872  3.36733463  0.24597579  0.12631973  0.56992181\n",
      "  3.85660322  0.82507949  3.37066808  2.846357    3.46945033  4.39048321\n",
      "  0.99031432  1.65359656  2.86514452  1.82682486  4.13951588  1.13386672\n",
      "  2.08754572  4.8740625   3.25198591  3.71337289  3.19017541  2.14225369\n",
      "  3.96636617  0.89451404  4.4196824   3.01581488]\n",
      "[ 4.49012154  1.7582632   4.65457918  1.69339566  2.53489315  0.99050329\n",
      "  4.26966875  1.92057224  4.22192897  1.68877323  3.07350856  0.73810096\n",
      "  4.24254591  2.14746089  4.28415521  4.20123658  1.28651444  2.02689644\n",
      "  1.55141853  0.45053367  1.59618044  1.31107831  1.14391167  0.84036399\n",
      "  2.71732519  3.00519477  4.93812737  2.81595342  3.92433359  0.18778838\n",
      "  4.88540363  1.925568    4.5141588   1.52729959  2.66735442  1.75606751\n",
      "  2.29362115  2.73793078  4.29324508  2.56096132  0.18547207  1.28737712\n",
      "  2.94673856  2.99127836  2.20916587  4.02611598  3.91982143  1.06593283\n",
      "  3.57287892  4.10608238  1.98220939  0.23369614  3.02788782  0.46730187\n",
      "  0.61254991  3.90974559  1.5153128   0.46720188  4.13061422  4.09643498\n",
      "  4.06310481  1.96264622  2.69073759  2.67278974  2.08449204  0.12216322\n",
      "  1.24306254  4.28425151  0.25238835  0.07430012  4.39233089  0.92313419\n",
      "  0.52309872  3.36733463  0.30025103  1.59136403  0.24597579  0.12631973\n",
      "  0.1534242   0.56992181  0.79596867  3.85660322  1.69853922  1.86014451\n",
      "  2.47524315  3.00477104  0.61167961  1.50105306  3.86915148  0.82507949\n",
      "  3.22613873  3.68191352  3.37066808  2.846357    3.46945033  4.38667621\n",
      "  4.39048321  2.42010445  2.89068215  1.92015384  0.28314101  3.27863371\n",
      "  0.99031432  1.65359656  1.50435654  3.91357409  3.76248085  2.86514452\n",
      "  1.37397566  0.56980154  3.00525946  2.98918324  4.70353519  4.76696673\n",
      "  1.82682486  2.28152274  2.99525899  1.78590879  0.10375975  1.09384675\n",
      "  4.13951588  2.28348768  0.9947377   3.59301405  1.13386672  2.08754572\n",
      "  4.8740625   0.2344816   0.7557601   3.22536063  3.25198591  0.07317438\n",
      "  0.92433775  4.5432444   3.71337289  3.19017541  2.14225369  3.83280063\n",
      "  0.88021067  4.01784174  2.06138039  1.68907944  0.96626866  1.57463436\n",
      "  2.17006997  2.78647703  0.6508777   1.02975129  0.19979604  3.96636617\n",
      "  1.60571016  0.44169907  1.46915778  1.8401334   0.38542702  0.89451404\n",
      "  4.4196824   3.01581488]\n",
      "[ 4.58887061  2.18059128  2.98685824  1.49864936  0.71085024  0.74266726\n",
      "  3.60877659  0.21548678  0.10582596  2.49253506  0.04610551  3.74401941\n",
      "  3.81620294  3.16824117  2.56561354  3.42679909  4.00034375  1.52286678\n",
      "  3.7230162   4.06658042  3.22163308  1.31701582  4.89409573  2.29257103\n",
      "  1.62755819  0.12699891  3.95878498  2.71204258  4.76321968  4.32239597\n",
      "  2.8077868   1.46398988  0.34048637  1.50350028  3.97154531  1.45938034\n",
      "  4.22309431  1.90705767  4.69257099  2.265525    0.83101074  1.96709556\n",
      "  2.60823576  0.92017411  2.99468225  2.59898493  0.29411184  3.07868438\n",
      "  3.13143574  2.78789094  1.21037938  4.47854474]\n"
     ]
    }
   ],
   "source": [
    "for TI, VI in kf:\n",
    "    print(x_train_init[TI])\n",
    "    print(x_train_init[VI])"
   ]
  },
  {
   "cell_type": "code",
   "execution_count": 104,
   "metadata": {
    "collapsed": false
   },
   "outputs": [
    {
     "ename": "ValueError",
     "evalue": "could not broadcast input array from shape (157,1) into shape (157)",
     "output_type": "error",
     "traceback": [
      "\u001b[1;31m---------------------------------------------------------------------------\u001b[0m",
      "\u001b[1;31mValueError\u001b[0m                                Traceback (most recent call last)",
      "\u001b[1;32m<ipython-input-104-c607cd99c786>\u001b[0m in \u001b[0;36m<module>\u001b[1;34m()\u001b[0m\n\u001b[0;32m     22\u001b[0m     \u001b[0mxx\u001b[0m \u001b[1;33m=\u001b[0m \u001b[0mnp\u001b[0m\u001b[1;33m.\u001b[0m\u001b[0marange\u001b[0m\u001b[1;33m(\u001b[0m\u001b[0mx\u001b[0m\u001b[1;33m.\u001b[0m\u001b[0mmin\u001b[0m\u001b[1;33m(\u001b[0m\u001b[1;33m)\u001b[0m\u001b[1;33m,\u001b[0m \u001b[0mx\u001b[0m\u001b[1;33m.\u001b[0m\u001b[0mmax\u001b[0m\u001b[1;33m(\u001b[0m\u001b[1;33m)\u001b[0m\u001b[1;33m,\u001b[0m \u001b[1;36m0.01\u001b[0m\u001b[1;33m)\u001b[0m\u001b[1;33m[\u001b[0m\u001b[1;33m:\u001b[0m\u001b[1;33m,\u001b[0m \u001b[0mnp\u001b[0m\u001b[1;33m.\u001b[0m\u001b[0mnewaxis\u001b[0m\u001b[1;33m]\u001b[0m\u001b[1;33m\u001b[0m\u001b[0m\n\u001b[0;32m     23\u001b[0m     \u001b[0mplt\u001b[0m\u001b[1;33m.\u001b[0m\u001b[0mplot\u001b[0m\u001b[1;33m(\u001b[0m\u001b[0mxx\u001b[0m\u001b[1;33m,\u001b[0m \u001b[0mReg\u001b[0m\u001b[1;33m[\u001b[0m\u001b[0mi\u001b[0m\u001b[1;33m]\u001b[0m\u001b[1;33m.\u001b[0m\u001b[0mpredict\u001b[0m\u001b[1;33m(\u001b[0m\u001b[0mxx\u001b[0m\u001b[1;33m)\u001b[0m\u001b[1;33m,\u001b[0m \u001b[0mc\u001b[0m\u001b[1;33m=\u001b[0m\u001b[1;34m\"r\"\u001b[0m\u001b[1;33m,\u001b[0m \u001b[0mlabel\u001b[0m\u001b[1;33m=\u001b[0m\u001b[1;34m\"max_depth=5\"\u001b[0m\u001b[1;33m,\u001b[0m \u001b[0mlinewidth\u001b[0m\u001b[1;33m=\u001b[0m\u001b[1;36m2\u001b[0m\u001b[1;33m)\u001b[0m\u001b[1;33m\u001b[0m\u001b[0m\n\u001b[1;32m---> 24\u001b[1;33m     \u001b[0mplt\u001b[0m\u001b[1;33m.\u001b[0m\u001b[0mvlines\u001b[0m\u001b[1;33m(\u001b[0m\u001b[0mx_train\u001b[0m\u001b[1;33m,\u001b[0m \u001b[0mymin\u001b[0m\u001b[1;33m=\u001b[0m\u001b[0my_train\u001b[0m\u001b[1;33m,\u001b[0m \u001b[0mymax\u001b[0m\u001b[1;33m=\u001b[0m\u001b[0mReg\u001b[0m\u001b[1;33m[\u001b[0m\u001b[0mi\u001b[0m\u001b[1;33m]\u001b[0m\u001b[1;33m.\u001b[0m\u001b[0mpredict\u001b[0m\u001b[1;33m(\u001b[0m\u001b[0mx_train\u001b[0m\u001b[1;33m)\u001b[0m\u001b[1;33m,\u001b[0m \u001b[0mcolors\u001b[0m\u001b[1;33m=\u001b[0m\u001b[1;34m\"black\"\u001b[0m\u001b[1;33m,\u001b[0m \u001b[0mlinestyles\u001b[0m\u001b[1;33m=\u001b[0m\u001b[1;34m\"dotted\"\u001b[0m\u001b[1;33m)\u001b[0m\u001b[1;33m\u001b[0m\u001b[0m\n\u001b[0m\u001b[0;32m     25\u001b[0m     \u001b[0mplt\u001b[0m\u001b[1;33m.\u001b[0m\u001b[0mplot\u001b[0m\u001b[1;33m(\u001b[0m\u001b[0mx_val\u001b[0m\u001b[1;33m,\u001b[0m \u001b[0mReg\u001b[0m\u001b[1;33m[\u001b[0m\u001b[0mi\u001b[0m\u001b[1;33m]\u001b[0m\u001b[1;33m.\u001b[0m\u001b[0mpredict\u001b[0m\u001b[1;33m(\u001b[0m\u001b[0mx_val\u001b[0m\u001b[1;33m)\u001b[0m\u001b[1;33m,\u001b[0m \u001b[1;34m\"o\"\u001b[0m\u001b[1;33m,\u001b[0m \u001b[0mcolor\u001b[0m\u001b[1;33m=\u001b[0m\u001b[1;34m\"red\"\u001b[0m\u001b[1;33m,\u001b[0m \u001b[0mlw\u001b[0m\u001b[1;33m=\u001b[0m\u001b[1;36m2\u001b[0m\u001b[1;33m)\u001b[0m\u001b[1;33m\u001b[0m\u001b[0m\n\u001b[0;32m     26\u001b[0m     \u001b[0mplt\u001b[0m\u001b[1;33m.\u001b[0m\u001b[0mgrid\u001b[0m\u001b[1;33m(\u001b[0m\u001b[1;33m)\u001b[0m\u001b[1;33m\u001b[0m\u001b[0m\n",
      "\u001b[1;32mC:\\Users\\Пользователь\\Anaconda3\\lib\\site-packages\\sklearn\\tree\\tree.py\u001b[0m in \u001b[0;36mpredict\u001b[1;34m(self, X, check_input)\u001b[0m\n\u001b[0;32m    402\u001b[0m         \"\"\"\n\u001b[0;32m    403\u001b[0m \u001b[1;33m\u001b[0m\u001b[0m\n\u001b[1;32m--> 404\u001b[1;33m         \u001b[0mX\u001b[0m \u001b[1;33m=\u001b[0m \u001b[0mself\u001b[0m\u001b[1;33m.\u001b[0m\u001b[0m_validate_X_predict\u001b[0m\u001b[1;33m(\u001b[0m\u001b[0mX\u001b[0m\u001b[1;33m,\u001b[0m \u001b[0mcheck_input\u001b[0m\u001b[1;33m)\u001b[0m\u001b[1;33m\u001b[0m\u001b[0m\n\u001b[0m\u001b[0;32m    405\u001b[0m         \u001b[0mproba\u001b[0m \u001b[1;33m=\u001b[0m \u001b[0mself\u001b[0m\u001b[1;33m.\u001b[0m\u001b[0mtree_\u001b[0m\u001b[1;33m.\u001b[0m\u001b[0mpredict\u001b[0m\u001b[1;33m(\u001b[0m\u001b[0mX\u001b[0m\u001b[1;33m)\u001b[0m\u001b[1;33m\u001b[0m\u001b[0m\n\u001b[0;32m    406\u001b[0m         \u001b[0mn_samples\u001b[0m \u001b[1;33m=\u001b[0m \u001b[0mX\u001b[0m\u001b[1;33m.\u001b[0m\u001b[0mshape\u001b[0m\u001b[1;33m[\u001b[0m\u001b[1;36m0\u001b[0m\u001b[1;33m]\u001b[0m\u001b[1;33m\u001b[0m\u001b[0m\n",
      "\u001b[1;32mC:\\Users\\Пользователь\\Anaconda3\\lib\\site-packages\\sklearn\\tree\\tree.py\u001b[0m in \u001b[0;36m_validate_X_predict\u001b[1;34m(self, X, check_input)\u001b[0m\n\u001b[0;32m    363\u001b[0m \u001b[1;33m\u001b[0m\u001b[0m\n\u001b[0;32m    364\u001b[0m         \u001b[1;32mif\u001b[0m \u001b[0mcheck_input\u001b[0m\u001b[1;33m:\u001b[0m\u001b[1;33m\u001b[0m\u001b[0m\n\u001b[1;32m--> 365\u001b[1;33m             \u001b[0mX\u001b[0m \u001b[1;33m=\u001b[0m \u001b[0mcheck_array\u001b[0m\u001b[1;33m(\u001b[0m\u001b[0mX\u001b[0m\u001b[1;33m,\u001b[0m \u001b[0mdtype\u001b[0m\u001b[1;33m=\u001b[0m\u001b[0mDTYPE\u001b[0m\u001b[1;33m,\u001b[0m \u001b[0maccept_sparse\u001b[0m\u001b[1;33m=\u001b[0m\u001b[1;34m\"csr\"\u001b[0m\u001b[1;33m)\u001b[0m\u001b[1;33m\u001b[0m\u001b[0m\n\u001b[0m\u001b[0;32m    366\u001b[0m             if issparse(X) and (X.indices.dtype != np.intc or\n\u001b[0;32m    367\u001b[0m                                 X.indptr.dtype != np.intc):\n",
      "\u001b[1;32mC:\\Users\\Пользователь\\Anaconda3\\lib\\site-packages\\sklearn\\utils\\validation.py\u001b[0m in \u001b[0;36mcheck_array\u001b[1;34m(array, accept_sparse, dtype, order, copy, force_all_finite, ensure_2d, allow_nd, ensure_min_samples, ensure_min_features, warn_on_dtype, estimator)\u001b[0m\n\u001b[0;32m    371\u001b[0m                                       force_all_finite)\n\u001b[0;32m    372\u001b[0m     \u001b[1;32melse\u001b[0m\u001b[1;33m:\u001b[0m\u001b[1;33m\u001b[0m\u001b[0m\n\u001b[1;32m--> 373\u001b[1;33m         \u001b[0marray\u001b[0m \u001b[1;33m=\u001b[0m \u001b[0mnp\u001b[0m\u001b[1;33m.\u001b[0m\u001b[0marray\u001b[0m\u001b[1;33m(\u001b[0m\u001b[0marray\u001b[0m\u001b[1;33m,\u001b[0m \u001b[0mdtype\u001b[0m\u001b[1;33m=\u001b[0m\u001b[0mdtype\u001b[0m\u001b[1;33m,\u001b[0m \u001b[0morder\u001b[0m\u001b[1;33m=\u001b[0m\u001b[0morder\u001b[0m\u001b[1;33m,\u001b[0m \u001b[0mcopy\u001b[0m\u001b[1;33m=\u001b[0m\u001b[0mcopy\u001b[0m\u001b[1;33m)\u001b[0m\u001b[1;33m\u001b[0m\u001b[0m\n\u001b[0m\u001b[0;32m    374\u001b[0m \u001b[1;33m\u001b[0m\u001b[0m\n\u001b[0;32m    375\u001b[0m         \u001b[1;32mif\u001b[0m \u001b[0mensure_2d\u001b[0m\u001b[1;33m:\u001b[0m\u001b[1;33m\u001b[0m\u001b[0m\n",
      "\u001b[1;31mValueError\u001b[0m: could not broadcast input array from shape (157,1) into shape (157)"
     ]
    },
    {
     "data": {
      "image/png": "[encoded data removed]",
      "text/plain": [
       "<matplotlib.figure.Figure at 0x58f3a45d68>"
      ]
     },
     "metadata": {},
     "output_type": "display_data"
    }
   ],
   "source": [
    "mse1=[0 for x in range(4)]\n",
    "mse2=[0 for x in range(4)]\n",
    "pf = [PolynomialFeatures(degree = i) for i in range(4)]\n",
    "\n",
    "\n",
    "for TI, VI in kf:\n",
    "    x_train = x_train_init[TI]\n",
    "    x_val = x_train_init[VI]\n",
    "    y_train = y_train_init[TI] \n",
    "    y_val =  y_train_init[VI]\n",
    "    x_train = [p.fit_transform(x_train.reshape(-1, 1)) for p in pf]\n",
    "    x_val = [p.fit_transform(x_val.reshape(-1, 1)) for p in pf]\n",
    "    Reg = [tree.DecisionTreeRegressor(criterion=\"mse\", max_depth=100, random_state=0).fit(q, y_train) for q in x_train]\n",
    "    y_pr_train = [Reg[i].predict(x_train[i]) for i in range(4)]\n",
    "    y_pr_val = [Reg[i].predict(x_val[i]) for i in range(4)]\n",
    "    \n",
    "    mse_train = np.array([((t - y_train)**2).sum() for t in y_pr_train]) / len(y_train)\n",
    "    mse_val = np.array([((t - y_val)**2).sum() for t in y_pr_val]) / len(y_val)\n",
    "    mse1 = mse1 + 0.25 * mse_train\n",
    "    mse2 = mse2 + 0.25 * mse_val\n",
    "    \n",
    "    xx = np.arange(x.min(), x.max(), 0.01)[:, np.newaxis]\n",
    "    plt.plot(xx, Reg[i].predict(xx), c=\"r\", label=\"max_depth=5\", linewidth=2)\n",
    "    plt.plot(x_val, y_val, \"o\")\n",
    "    plt.vlines(x_train, ymin=y_train, ymax=Reg[i].predict(x_train), colors=\"black\", linestyles=\"dotted\")\n",
    "    plt.plot(x_val, Reg[i].predict(x_val), \"o\", color=\"red\", lw=2)\n",
    "    plt.grid()\n",
    "    plt.show()\n",
    "    \n",
    "table = pnd.DataFrame([mse1, mse2]).T\n",
    "table.columns = ['train data MSE', 'val data MSE']\n",
    "table.index = list(range(4))\n",
    "table"
   ]
  },
  {
   "cell_type": "code",
   "execution_count": 97,
   "metadata": {
    "collapsed": false
   },
   "outputs": [
    {
     "data": {
      "image/png": "[encoded data removed]",
      "text/plain": [
       "<matplotlib.figure.Figure at 0x58f33e95f8>"
      ]
     },
     "metadata": {},
     "output_type": "display_data"
    }
   ],
   "source": [
    "plt.figure(1, figsize=[12, 10])\n",
    "\n",
    "plt.subplot(2,2,1)\n",
    "plt.title(\"Train data\")\n",
    "plt.plot(mse1_y, \"-o\")\n",
    "plt.grid(True)\n",
    "\n",
    "plt.subplot(2,2,2)\n",
    "plt.title(\"Test data\")\n",
    "plt.plot(mse2_y, \"-o\", color = \"green\")\n",
    "plt.grid(True)\n",
    "\n",
    "plt.subplot(2,2,3)\n",
    "plt.title(\"Both\")\n",
    "plt.plot(mse1_y, \"-o\")\n",
    "plt.plot(mse2_y, \"-o\", color = \"green\")\n",
    "plt.grid(True)\n",
    "plt.show()"
   ]
  },
  {
   "cell_type": "code",
   "execution_count": null,
   "metadata": {
    "collapsed": true
   },
   "outputs": [],
   "source": [
    "DecisionTreeRegressor(criterion=\"mse\", max_depth=i, random_state=0)"
   ]
  },
  {
   "cell_type": "markdown",
   "metadata": {},
   "source": [
    "<p><b>Задача 2.</b> Регрессия и Random Forest - набор <b><i>\"Reg_A5.csv\"</i></b></p>"
   ]
  },
  {
   "cell_type": "code",
   "execution_count": null,
   "metadata": {
    "collapsed": true
   },
   "outputs": [],
   "source": [
    "RandomForestRegressor(n_estimators=50, max_depth=i, criterion=\"mse\", bootstrap=True,\n",
    "                                    oob_score=False, random_state=0)"
   ]
  }
 ],
 "metadata": {
  "kernelspec": {
   "display_name": "Python 3",
   "language": "python",
   "name": "python3"
  },
  "language_info": {
   "codemirror_mode": {
    "name": "ipython",
    "version": 3
   },
   "file_extension": ".py",
   "mimetype": "text/x-python",
   "name": "python",
   "nbconvert_exporter": "python",
   "pygments_lexer": "ipython3",
   "version": "3.5.1"
  }
 },
 "nbformat": 4,
 "nbformat_minor": 0
}

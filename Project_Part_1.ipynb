{
 "cells": [
  {
   "cell_type": "markdown",
   "metadata": {},
   "source": [
    "<div style=\"font-size:18pt; padding-top:20px; text-align:center\">ПРОЕКТ. <b>Часть 1</b></div><hr>\n",
    "<p style = \"text-align:center; font-style:italic; font-weight:bold; font-size:16pt\">\n",
    "            Вариант 3. Фильтрация спама.</p><br>\n",
    "<div style=\"text-align:right;\">Выполнили:<span style=\"font-style: italic;font-weight: bold;\"></span></div>\n",
    "<div style=\"text-align:right;\">Абдуллаев С.<span style=\"font-style: italic;font-weight: bold;\"></span></div>\n",
    "<div style=\"text-align:right;\">Платонов О.<span style=\"font-style: italic;font-weight: bold;\"></span></div>\n",
    "<div style=\"text-align:right;\">Першин М.<span style=\"font-style: italic;font-weight: bold;\"></span></div>"
   ]
  },
  {
   "cell_type": "markdown",
   "metadata": {},
   "source": [
    "<div>\n",
    "<p>Примеры</p>\n",
    "<ol style = \"list-style-type:lower-alpha\">\n",
    "<li><a href=\"http://radimrehurek.com/data_science_python/\">Practical Data Science in Python</a></li>\n",
    "<li><a href=\"http://zacstewart.com/2015/04/28/document-classification-with-scikit-learn.html\">Document Classification with scikit-learn</a></li>\n",
    "<li><a href=\"http://www.panggi.com/articles/sms-spam-filter-using-scikit-learn-and-textblob/\">SMS Spam Filter using scikit-learn and TextBlob</a></li>\n",
    "<li><a href=\"http://www.bogotobogo.com/python/scikit-learn/scikit_learn_Support_Vector_Machines_SVM_spam_filtermachine_learning_.php\">scikit-learn : Spam comment filter using SVM</a></li>\n",
    "<li><a href=\"http://scikit-learn.org/stable/modules/generated/sklearn.datasets.load_boston.html\">Examples using sklearn.datasets.load_boston</a></li>\n",
    "</ol>\n",
    "\n",
    "<p>Набор данных</p>\n",
    "<ul>\n",
    "  <li><a href=\"https://archive.ics.uci.edu/ml/datasets/SMS+Spam+Collection\">SMS Spam Collection Data Set</a></li>\n",
    "</ul></div>"
   ]
  },
  {
   "cell_type": "markdown",
   "metadata": {},
   "source": [
    "<a name=\"3\"></a>\n",
    "<div style=\"display:table; width:100%; padding-top:10px; padding-bottom:10px; border-bottom:1px solid lightgrey\">\n",
    "    <div style=\"display:table-row\">\n",
    "        <div style=\"display:table-cell; width:80%; font-size:14pt; font-weight:bold\">3. Задание</div>\n",
    "    \t<div style=\"display:table-cell; width:20%; text-align:center; background-color:whitesmoke; border:1px solid lightgrey\"><a href=\"#0\">К содержанию</a></div>\n",
    "    </div>\n",
    "</div>"
   ]
  },
  {
   "cell_type": "markdown",
   "metadata": {},
   "source": [
    "<div>\n",
    "<p><b>В проекте</b> необходимо выполнить следующие <b>этапы</b>:</p>\n",
    "<ol>\n",
    "  <li>Подготовительный этап - постановка задачи, изучение существующих решений, выбор и сбор иходных данных, выбор исследуемых методов, общая схема решения поставленной задачи</li>\n",
    "  <li>Этап реализации - алгоритмы, диаграммы + сам код на python с использованием различных библиотек по анализу данных и машинному обучению </li>\n",
    "  <li>Этап тестирования - оценка результа работы и при необходиомсти корректировка/настройка методов, алгоритмов</li>\n",
    "  <li>Заключение - что было сделано, какие результаты получили</li>\n",
    "</ol>\n",
    "</div>"
   ]
  },
  {
   "cell_type": "markdown",
   "metadata": {},
   "source": [
    "<p><b>Первая часть проекта</b> представляет из себя подготовительный этап.</p>"
   ]
  },
  {
   "cell_type": "markdown",
   "metadata": {},
   "source": [
    "<p><b>Задание</b> на первую чаcть проекта:</p>"
   ]
  },
  {
   "cell_type": "markdown",
   "metadata": {},
   "source": [
    "<p>1. Изучить примеры</p>"
   ]
  },
  {
   "cell_type": "markdown",
   "metadata": {
    "collapsed": true
   },
   "source": [
    "<p>Examples</p>\n",
    "<ol style = \"list-style-type:lower-alpha\">\n",
    "<li><a href=\"https://pypi.python.org/pypi/redisbayes/0.1.3\">https://pypi.python.org/pypi/redisbayes/0.1.3</a></li>\n",
    "<li><a href=\"https://blog.cambridgecoding.com/2016/01/25/implementing-your-own-spam-filter/\">https://blog.cambridgecoding.com/2016/01/25/implementing-your-own-spam-filter/</a></li>\n",
    "<li><a href=\"http://www.panggi.com/articles/sms-spam-filter-using-scikit-learn-and-textblob/\">Shttp://www.panggi.com/articles/sms-spam-filter-using-scikit-learn-and-textblob/</a></li>\n",
    "<li><a href=\"http://radimrehurek.com/data_science_python/\">href=\"http://radimrehurek.com/data_science_python/</a></li>\n",
    "<li><a href=\"http://www.bogotobogo.com/python/scikit-learn/scikit_learn_Support_Vector_Machines_SVM_spam_filtermachine_learning_.php\">http://www.bogotobogo.com/python/scikit-learn/scikit_learn_Support_Vector_Machines_SVM_spam_filtermachine_learning_.php</a></li>\n",
    "</ol>\n",
    "\n",
    "<p>Descriptions</p><br>\n",
    "В данных проимерах предложены к рассмотрению аналогичные задачи. Сразу стоит выделить основные шаги которым следует большинство представленных работ:\n",
    "<ol style = \"list-style-type:lower-alpha\">\n",
    "<li>Выбор анализируеммых данныз</li>\n",
    "<li>Предварительная обработка данных</li>\n",
    "<li>Перевод данных в удобную для обработки форму</li>\n",
    "<li>Обучение модели, обнаружения спама</li>\n",
    "<li>Настройка параметров</li>\n",
    "</ol><br>\n",
    "Также стоит отметить, что все предшествующие работы используют такие инструменты в анализе данных, как наивный Байесовский классификатор,  term frequency–inverse document frequency и метод опорных векторов, что позволяет судить о наиболее предпочтительном использовании данных методов в решении данной задачи.\n"
   ]
  },
  {
   "cell_type": "markdown",
   "metadata": {},
   "source": [
    "<p>2. Изучить набор данных и указать параметры</p>"
   ]
  },
  {
   "cell_type": "markdown",
   "metadata": {
    "collapsed": true
   },
   "source": [
    "<p>Параметры, которые могут использоваться для решения данной задачи:</p>\n",
    "<ol style = \"list-style-type:lower-alpha\">\n",
    "<li>Длинна сообщений</li>\n",
    "<li>Набор определенных слов</li>\n",
    "<li>Набор определенных фраз</li>\n",
    "<li>Регистр букв</li>\n",
    "<li>Наличие цифр</li>\n",
    "</ol><br>\n",
    "Однако не все параметры будут подходить в наилучшей степени, поэтому согласно нашему мнению, мы можем ограничится только частотой использования определенных слов. Однако наш алгоритм будет нормализован при помощи term frequency–inverse document frequency для повышения точности определения типа сообщения. "
   ]
  },
  {
   "cell_type": "markdown",
   "metadata": {},
   "source": [
    "<p>3. Выбрать параметры для модели</p>"
   ]
  },
  {
   "cell_type": "code",
   "execution_count": null,
   "metadata": {
    "collapsed": true
   },
   "outputs": [],
   "source": [
    "#Выбранные параметры + объяснение\n",
    "\n",
    "#TF - term frequency - частота терма/слова\n",
    "#Полагаем, что категория текстового документа зависит от содержащихся в нем термов/слов и от их частоты\n",
    "#Набор частот термов/слов или связанных с ними показателей можно представить как входной вектор для обучения модели \n",
    "\n",
    "#C - category - категория текстового документа\n",
    "#Параметр будем использовать в качестве действительного значения категории документа при обучении модели"
   ]
  },
  {
   "cell_type": "markdown",
   "metadata": {},
   "source": [
    "<p>4. Выбрать исследуемые методы регрессии/классификации</p>"
   ]
  },
  {
   "cell_type": "code",
   "execution_count": null,
   "metadata": {
    "collapsed": true
   },
   "outputs": [],
   "source": [
    "#Методы, которые используют в существующих решениях (см. примеры к своему варианту), и/или другие методы, которые вы хотите \n",
    "#протестировать для поставленной задачи\n",
    "\n",
    "#Байесовский классификатор\n",
    "#Метод опорных векторов\n",
    "#и др."
   ]
  },
  {
   "cell_type": "markdown",
   "metadata": {},
   "source": [
    "<p>5. Построить общую схему решения с указанием последовательности этапов</p>"
   ]
  },
  {
   "cell_type": "code",
   "execution_count": null,
   "metadata": {
    "collapsed": true
   },
   "outputs": [],
   "source": [
    "#Ваша схема (рисунок) с учетом множества выбранных методов\n",
    "\n",
    "#Представить последовательность действий от обработки исходных данных до тестирования решений с использованием различных метрик"
   ]
  },
  {
   "cell_type": "code",
   "execution_count": null,
   "metadata": {
    "collapsed": true
   },
   "outputs": [],
   "source": []
  }
 ],
 "metadata": {
  "kernelspec": {
   "display_name": "Python 3",
   "language": "python",
   "name": "python3"
  },
  "language_info": {
   "codemirror_mode": {
    "name": "ipython",
    "version": 3
   },
   "file_extension": ".py",
   "mimetype": "text/x-python",
   "name": "python",
   "nbconvert_exporter": "python",
   "pygments_lexer": "ipython3",
   "version": "3.5.1"
  }
 },
 "nbformat": 4,
 "nbformat_minor": 0
}

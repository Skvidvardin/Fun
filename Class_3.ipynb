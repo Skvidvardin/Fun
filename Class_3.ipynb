{
 "cells": [
  {
   "cell_type": "markdown",
   "metadata": {},
   "source": [
    "<div style=\"font-size:18pt; padding-top:20px; text-align:center\">СЕМИНАР 3. <b>Линейная алгебра и </b> <span style=\"font-weight:bold; color:green\">NumPy</span></div><hr>\n",
    "<div style=\"text-align:right;\">Папулин С.Ю. <span style=\"font-style: italic;font-weight: bold;\">(papulin_hse@mail.ru)</span></div>"
   ]
  },
  {
   "cell_type": "markdown",
   "metadata": {},
   "source": [
    "<a name=\"0\"></a>\n",
    "<div><span style=\"font-size:14pt; font-weight:bold\">Содержание</span>\n",
    "    <ol>\n",
    "        <li><a href=\"#1\">Вектор и NumPy</a>\n",
    "            <ol style = \"list-style-type:lower-alpha\">\n",
    "                <li><a href=\"#1a\">Вектор: обозначение, операции, свойства</a></li>\n",
    "                <li><a href=\"#1b\">Дополнительные возможности NumPy</a></li>\n",
    "            </ol>\n",
    "        </li>\n",
    "        <li><a href=\"#2\">Матрица и NumPy</a>\n",
    "            <ol style = \"list-style-type:lower-alpha\">\n",
    "                <li><a href=\"#2a\">Матрица: обозначение, операции, свойства</a></li>\n",
    "                <li><a href=\"#2b\">Дополнительные возможности NumPy</a></li>\n",
    "            </ol>\n",
    "        </li>\n",
    "        <li><a href=\"#3\">Пример использования матрицы</a></li> \n",
    "        <li><a href=\"#4\">Задание</a>\n",
    "        <li><a href=\"#5\">Источники</a>\n",
    "        </li>\n",
    "    </ol>\n",
    "</div>"
   ]
  },
  {
   "cell_type": "markdown",
   "metadata": {},
   "source": [
    "<a name=\"1\"></a>\n",
    "<div style=\"display:table; width:100%; padding-top:10px; padding-bottom:10px; border-bottom:1px solid lightgrey\">\n",
    "    <div style=\"display:table-row\">\n",
    "        <div style=\"display:table-cell; width:80%; font-size:14pt; font-weight:bold\">1. Вектор и <span style=\"font-weight:bold; color:green\">NumPy</span></div>\n",
    "    \t<div style=\"display:table-cell; width:20%; text-align:center; background-color:whitesmoke; border:1px solid lightgrey\"><a href=\"#0\">К содержанию</a></div>\n",
    "    </div>\n",
    "</div>"
   ]
  },
  {
   "cell_type": "markdown",
   "metadata": {},
   "source": [
    "<a name = \"1a\"></a>\n",
    "<div style = \"display:table; width:100%\">\n",
    "    <div style = \"display:table-row\">\n",
    "        <div style = \"display:table-cell; width:80%; font-style:italic; font-weight:bold; font-size:12pt\">\n",
    "            a. Вектор: обозначение, операции, свойства\n",
    "        </div>\n",
    "        <div style=\"display:table-cell; border:1px solid lightgrey; width:20%\">\n",
    "            <div style = \"display:table-cell; width:10%; text-align:center; background-color:whitesmoke;\">\n",
    "                <a href=\"#1\">Назад</a>\n",
    "            </div>\n",
    "            <div style = \"display:table-cell; width:10%; text-align:center;\">\n",
    "                <a href=\"#1b\">Далее</a>\n",
    "            </div>\n",
    "        </div>\n",
    "    </div>\n",
    "</div>"
   ]
  },
  {
   "cell_type": "markdown",
   "metadata": {},
   "source": [
    "<p><b>Обозначение</b></p>"
   ]
  },
  {
   "cell_type": "markdown",
   "metadata": {},
   "source": [
    "<div>\n",
    "<p>$$\\mathbf{x}=\\left( x_{1}, x_{2}, \\cdots, x_{n} \\right)$$</p>\n",
    "<p style=\"text-align:center\">или</p>\n",
    "<p>$$\\mathbf{x}=\\left( \\begin{array}{c} x_{1} \\\\ x_{2} \\\\ \\vdots \\\\ x_{n}  \\end{array}\\ \\right)$$</p>\n",
    "</div>"
   ]
  },
  {
   "cell_type": "code",
   "execution_count": null,
   "metadata": {
    "collapsed": true
   },
   "outputs": [],
   "source": [
    "#Подключение модуля numpy\n",
    "import numpy as np"
   ]
  },
  {
   "cell_type": "code",
   "execution_count": null,
   "metadata": {
    "collapsed": false
   },
   "outputs": [],
   "source": [
    "#NumPy\n",
    "x = np.array([1,2,3]) #Одномерный массив\n",
    "x"
   ]
  },
  {
   "cell_type": "code",
   "execution_count": null,
   "metadata": {
    "collapsed": false
   },
   "outputs": [],
   "source": [
    "#Стандартный Python\n",
    "xOld = [1,2,3]\n",
    "xOld"
   ]
  },
  {
   "cell_type": "markdown",
   "metadata": {},
   "source": [
    "<div>\n",
    "<p><b>Сложение двух векторов:</b></p>\n",
    "<p>$$\\mathbf{x}+\\mathbf{y}=\\left( \\begin{array}{c} x_{1} \\\\ x_{2} \\\\ \\vdots \\\\ x_{n}  \\end{array}\\ \\right)+\\left( \\begin{array}{c} y_{1} \\\\ y_{2} \\\\ \\vdots \\\\ y_{n}  \\end{array}\\ \\right) = \\left( \\begin{array}{c} x_{1} + y_{1}  \\\\ x_{2}+y_{2} \\\\ \\vdots \\\\ x_{n}+y_{n}  \\end{array}\\ \\right)$$\n",
    "</p>\n",
    "</div>"
   ]
  },
  {
   "cell_type": "markdown",
   "metadata": {},
   "source": [
    "<p><b>Свойства:</b><br>\n",
    "<ol>\n",
    "<li>коммутативность: \n",
    "$\\mathbf{x} + \\mathbf{y} = \\mathbf{y} + \\mathbf{x}$</li>\n",
    "<li>ассоциативность: \n",
    "$\\left( \\mathbf{x}+ \\mathbf{y} \\right) + \\mathbf{z} =  \\mathbf{x} + \\left(\\mathbf{y}+ \\mathbf{z}\\right) $</li>\n",
    "</ol>\n",
    "</p>"
   ]
  },
  {
   "cell_type": "code",
   "execution_count": null,
   "metadata": {
    "collapsed": false
   },
   "outputs": [],
   "source": [
    "#NumPy\n",
    "x = np.array([1,2,3])\n",
    "y = np.array([4,5,6])\n",
    "x + y"
   ]
  },
  {
   "cell_type": "code",
   "execution_count": null,
   "metadata": {
    "collapsed": false
   },
   "outputs": [],
   "source": [
    "#Стандартный Python\n",
    "xOld = [1,2,3]\n",
    "yOld = [4,5,6]\n",
    "[xOld[i] + xOld[i] for i in range(len(xOld))]"
   ]
  },
  {
   "cell_type": "code",
   "execution_count": null,
   "metadata": {
    "collapsed": false
   },
   "outputs": [],
   "source": [
    "#Стандартный Python\n",
    "xOld = [1,2,3]\n",
    "yOld = [4,5,6]\n",
    "xOld + yOld"
   ]
  },
  {
   "cell_type": "markdown",
   "metadata": {},
   "source": [
    "<p><b>Умножение вектора на число</b></p>"
   ]
  },
  {
   "cell_type": "markdown",
   "metadata": {},
   "source": [
    "$$k\\mathbf{x}=\\left( kx_{1}, kx_{2}, \\cdots, kx_{n} \\right)$$"
   ]
  },
  {
   "cell_type": "code",
   "execution_count": null,
   "metadata": {
    "collapsed": false
   },
   "outputs": [],
   "source": [
    "#NumPy\n",
    "k = 5\n",
    "x = np.array([1,2,3])\n",
    "k * x"
   ]
  },
  {
   "cell_type": "code",
   "execution_count": null,
   "metadata": {
    "collapsed": false
   },
   "outputs": [],
   "source": [
    "#Стандартный Python\n",
    "k = 5\n",
    "xOld = [1,2,3]\n",
    "k * xOld"
   ]
  },
  {
   "cell_type": "markdown",
   "metadata": {},
   "source": [
    "<p><b>Транспонирование:</b></p>"
   ]
  },
  {
   "cell_type": "markdown",
   "metadata": {},
   "source": [
    "$$\\mathbf{x}^{\\mathrm T}=\\left( \\begin{array}{c} x_{1} \\hspace{0.2cm} x_{2} \\hspace{0.2cm} \\cdots \\hspace{0.2cm} x_{n}  \\end{array}\\ \\right)$$"
   ]
  },
  {
   "cell_type": "code",
   "execution_count": null,
   "metadata": {
    "collapsed": false
   },
   "outputs": [],
   "source": [
    "#NumPy\n",
    "x.T"
   ]
  },
  {
   "cell_type": "code",
   "execution_count": null,
   "metadata": {
    "collapsed": false
   },
   "outputs": [],
   "source": [
    "#NumPy\n",
    "x = np.array([[1],[2],[3]])\n",
    "x.T"
   ]
  },
  {
   "cell_type": "code",
   "execution_count": null,
   "metadata": {
    "collapsed": false
   },
   "outputs": [],
   "source": [
    "#Стандартный Python\n",
    "xOld = [[1],[2],[3]]\n",
    "xOldT = [[xOld[i][j] for i in range(len(xOld))] for j in range(len(xOld[0]))]\n",
    "xOldT"
   ]
  },
  {
   "cell_type": "code",
   "execution_count": null,
   "metadata": {
    "collapsed": false
   },
   "outputs": [],
   "source": [
    "#Функция для транспонирования\n",
    "funcT = lambda matrix: [[matrix[i][j] for i in range(len(matrix))] for j in range(len(matrix[0]))]\n",
    "\n",
    "xOldT = funcT(xOld)\n",
    "xOldTT = funcT(xOldT)\n",
    "\n",
    "print(xOldT)\n",
    "print(xOldTT)"
   ]
  },
  {
   "cell_type": "markdown",
   "metadata": {},
   "source": [
    "<p><b>Модуль (длина) вектора</b></p>"
   ]
  },
  {
   "cell_type": "markdown",
   "metadata": {},
   "source": [
    "$$| \\mathbf{x} |=\\sqrt{\\mathbf{x}^{\\mathrm T}\\mathbf{x}}=\\sqrt{x_{1}^2+x_{2}^2+ \\ldots +x_{n}^2}$$"
   ]
  },
  {
   "cell_type": "code",
   "execution_count": null,
   "metadata": {
    "collapsed": false
   },
   "outputs": [],
   "source": [
    "#NumPy\n",
    "np.linalg.norm(x)"
   ]
  },
  {
   "cell_type": "code",
   "execution_count": null,
   "metadata": {
    "collapsed": false
   },
   "outputs": [],
   "source": [
    "#NumPy\n",
    "x = np.array([1,2,3])\n",
    "np.sqrt(sum(np.power(x, 2)))"
   ]
  },
  {
   "cell_type": "code",
   "execution_count": null,
   "metadata": {
    "collapsed": false
   },
   "outputs": [],
   "source": [
    "#Стандартный Python\n",
    "xOld = [1,2,3]\n",
    "sum([(xOld[i])**2 for i in range(len(xOld))])**0.5"
   ]
  },
  {
   "cell_type": "markdown",
   "metadata": {},
   "source": [
    "<p><b>Скалярное произведение векторов (<i>inner product</i>)</b></p>"
   ]
  },
  {
   "cell_type": "markdown",
   "metadata": {},
   "source": [
    "$$\\langle \\mathbf{x},\\mathbf{y} \\rangle=\\mathbf{x}^{\\mathrm T}\\mathbf{y}=\\left( \\begin{array}{c} x_{1} \\hspace{0.2cm} x_{2} \\hspace{0.2cm} \\cdots \\hspace{0.2cm} x_{n}  \\end{array}\\ \\right) \\left( \\begin{array}{c} y_{1} \\\\ y_{2} \\\\ \\vdots \\\\ y_{n}  \\end{array}\\ \\right)= x_{1}y_{1}+x_{2}y_{2}+\\cdots+x_{n}y_{n}$$"
   ]
  },
  {
   "cell_type": "markdown",
   "metadata": {},
   "source": [
    "<p><b>Свойства:</b><br>\n",
    "<ol>\n",
    "<li>коммутативность: \n",
    "$\\mathbf{x}  \\mathbf{y} = \\mathbf{y}  \\mathbf{x}$</li>\n",
    "<li>дистрибутивность: \n",
    "$\\mathbf{x} \\left( \\mathbf{y} + \\mathbf{z} \\right) =  \\mathbf{x} \\mathbf{y}+ \\mathbf{x} \\mathbf{z} $</li>\n",
    "<li>ассоциативность скалярного произведения и чисел: \n",
    "$ \\left(\\lambda \\mathbf{x}\\right)  \\left(\\mu \\mathbf{y} \\right) = \\lambda \\mu \\left( \\mathbf{x}\\mathbf{y}  \\right)$</li>\n",
    "</ol>\n",
    "</p>"
   ]
  },
  {
   "cell_type": "code",
   "execution_count": null,
   "metadata": {
    "collapsed": false
   },
   "outputs": [],
   "source": [
    "#NumPy\n",
    "x = np.array([1,2,3])\n",
    "y = np.array([4,5,6])\n",
    "z1 = np.inner(x, y)\n",
    "z1"
   ]
  },
  {
   "cell_type": "code",
   "execution_count": null,
   "metadata": {
    "collapsed": false
   },
   "outputs": [],
   "source": [
    "#NumPy\n",
    "z2 = np.dot(x, y)\n",
    "z2"
   ]
  },
  {
   "cell_type": "code",
   "execution_count": null,
   "metadata": {
    "collapsed": false
   },
   "outputs": [],
   "source": [
    "#NumPy\n",
    "x * y #поэлементное перемножение"
   ]
  },
  {
   "cell_type": "code",
   "execution_count": null,
   "metadata": {
    "collapsed": false
   },
   "outputs": [],
   "source": [
    "#Стандартный Python\n",
    "xOld = [1,2,3]\n",
    "yOld = [4,5,6]\n",
    "zOld = sum([xOld[i] * yOld[i] for i in range(len(xOld))])\n",
    "zOld"
   ]
  },
  {
   "cell_type": "markdown",
   "metadata": {},
   "source": [
    "<p><b>Косунис угла между векторами</b></p>"
   ]
  },
  {
   "cell_type": "markdown",
   "metadata": {},
   "source": [
    "$$\\cos\\theta = \\frac{\\langle \\mathbf{x},\\mathbf{y} \\rangle}{|\\mathbf{x}||\\mathbf{y}|}$$\n",
    "<img src = \"vectors.PNG\">"
   ]
  },
  {
   "cell_type": "code",
   "execution_count": null,
   "metadata": {
    "collapsed": false
   },
   "outputs": [],
   "source": [
    "#NumPy\n",
    "x = np.array([1,2,3])\n",
    "y = np.array([4,5,6])\n",
    "thetaRad = np.dot(x, y) / (np.linalg.norm(x) * np.linalg.norm(y))\n",
    "theta = thetaRad * 180 / np.pi\n",
    "theta"
   ]
  },
  {
   "cell_type": "code",
   "execution_count": null,
   "metadata": {
    "collapsed": false
   },
   "outputs": [],
   "source": [
    "np.pi"
   ]
  },
  {
   "cell_type": "markdown",
   "metadata": {},
   "source": [
    "<p><i>Ортогональные (orthogonal) векторы</i></p>"
   ]
  },
  {
   "cell_type": "markdown",
   "metadata": {},
   "source": [
    "$$\\mathbf{x}^{\\mathrm T}\\mathbf{y}=0$$"
   ]
  },
  {
   "cell_type": "markdown",
   "metadata": {},
   "source": [
    "<p><i>Ортонормальные (orthonormal) векторы</i></p>"
   ]
  },
  {
   "cell_type": "markdown",
   "metadata": {},
   "source": [
    "<center>$\\mathbf{x}^{\\mathrm T}\\mathbf{y}=0$ и $| \\mathbf{x} | = 1$, $| \\mathbf{y} |=1$</center>"
   ]
  },
  {
   "cell_type": "markdown",
   "metadata": {},
   "source": [
    "<p><b>Внешнее произведение векторов (outer product) $\\mathbf{x}$ и $\\mathbf{y}$:</b></p>\n",
    "$$\\mathbf{x} \\otimes \\mathbf{y}=\\mathbf{x}\\mathbf{y}^{\\mathrm T}=\n",
    "\\left( \\begin{array}{c} x_{1} \\\\ x_{2} \\\\ \\vdots \\\\ x_{n}  \\end{array}\\ \\right)\n",
    "\\left( \\begin{array}{c} y_{1} \\hspace{0.2cm} y_{2} \\hspace{0.2cm} \\cdots \\hspace{0.2cm} y_{m}  \\end{array}\\ \\right)= \n",
    " \\begin{pmatrix}\n",
    "  x_{1}y_{1} & x_{1}y_{2} & \\cdots & x_{1}y_{m} \\\\\n",
    "  x_{2}y_{1} & x_{2}y_{2} & \\cdots & x_{2}y_{m} \\\\\n",
    "  \\vdots  & \\vdots  & \\ddots & \\vdots  \\\\\n",
    "  x_{n}y_{1} & x_{n}y_{2} & \\cdots & x_{n}y_{m} \\\\\n",
    " \\end{pmatrix}$$"
   ]
  },
  {
   "cell_type": "markdown",
   "metadata": {},
   "source": [
    "$$\\mathbf{x}\\mathbf{y}^{\\mathrm T}= \n",
    "\\left( \\begin{array}{c} 1 \\\\ 2 \\\\ 3  \\end{array}\\ \\right)\n",
    "\\left( \\begin{array}{c} 4 \\hspace{0.2cm} 5 \\hspace{0.2cm} 6  \\end{array}\\ \\right)=\n",
    "\\begin{pmatrix}\n",
    "  1 \\cdot 4 & 1 \\cdot 5 & 1 \\cdot 6 \\\\\n",
    "  2 \\cdot 4 & 2 \\cdot 5 & 2 \\cdot 6 \\\\\n",
    "  3 \\cdot 4 & 3 \\cdot 5 & 3 \\cdot 6 \\\\\n",
    " \\end{pmatrix}=\\begin{pmatrix}\n",
    "  4 & 5 & 6 \\\\\n",
    "  8 & 10 & 12 \\\\\n",
    "  12 & 15 & 18 \\\\\n",
    " \\end{pmatrix}$$"
   ]
  },
  {
   "cell_type": "code",
   "execution_count": null,
   "metadata": {
    "collapsed": false
   },
   "outputs": [],
   "source": [
    "#NumPy\n",
    "x = np.array([1,2,3])\n",
    "y = np.array([4,5,6])\n",
    "z = np.outer(x, y)\n",
    "z"
   ]
  },
  {
   "cell_type": "code",
   "execution_count": null,
   "metadata": {
    "collapsed": false
   },
   "outputs": [],
   "source": [
    "#Стандартный Python\n",
    "xOld = [1,2,3]\n",
    "yOld = [4,5,6]\n",
    "zOld = [[xOld[i]*yOld[j] for j in range(len(xOld))] for i in range(len(xOld))]\n",
    "zOld"
   ]
  },
  {
   "cell_type": "markdown",
   "metadata": {},
   "source": [
    "<p><b>Расстояние</b> между двумя точками в векторном пространстве:</p>"
   ]
  },
  {
   "cell_type": "markdown",
   "metadata": {},
   "source": [
    "$$d \\left( \\mathbf{x},\\mathbf{y} \\right) = \\left( \\displaystyle\\sum_{i=1}^{n} \\left (x_i - y_i \\right)^2 \\right)^{\\frac{1}{2}}$$"
   ]
  },
  {
   "cell_type": "code",
   "execution_count": null,
   "metadata": {
    "collapsed": false
   },
   "outputs": [],
   "source": [
    "#NumPy\n",
    "x = np.array([1,2,3])\n",
    "y = np.array([4,5,6])\n",
    "\n",
    "d = np.linalg.norm(x - y)\n",
    "d"
   ]
  },
  {
   "cell_type": "code",
   "execution_count": null,
   "metadata": {
    "collapsed": false
   },
   "outputs": [],
   "source": [
    "#NumPy\n",
    "x = np.array([1,2,3])\n",
    "y = np.array([4,5,6])\n",
    "\n",
    "d = np.sqrt(sum((x - y)**2))\n",
    "d"
   ]
  },
  {
   "cell_type": "code",
   "execution_count": null,
   "metadata": {
    "collapsed": false
   },
   "outputs": [],
   "source": [
    "xOld = [1,2,3]\n",
    "yOld = [4,5,6]\n",
    "sum([(x[i]-y[i])**2 for i in range(len(x))])**0.5"
   ]
  },
  {
   "cell_type": "markdown",
   "metadata": {},
   "source": [
    "<a name = \"1b\"></a>\n",
    "<div style = \"display:table; width:100%\">\n",
    "    <div style = \"display:table-row\">\n",
    "        <div style = \"display:table-cell; width:80%; font-style:italic; font-weight:bold; font-size:12pt\">\n",
    "            b. Дополнительные возможности NumPy\n",
    "        </div>\n",
    "        <div style=\"display:table-cell; border:1px solid lightgrey; width:20%\">\n",
    "            <div style = \"display:table-cell; width:10%; text-align:center; background-color:whitesmoke;\">\n",
    "                <a href=\"#1a\">Назад</a>\n",
    "            </div>\n",
    "            <div style = \"display:table-cell; width:10%; text-align:center;\">\n",
    "                <a href=\"#2\">Далее</a>\n",
    "            </div>\n",
    "        </div>\n",
    "    </div>\n",
    "</div>"
   ]
  },
  {
   "cell_type": "markdown",
   "metadata": {},
   "source": [
    "<p><b>Срезы</p></p>"
   ]
  },
  {
   "cell_type": "code",
   "execution_count": null,
   "metadata": {
    "collapsed": true
   },
   "outputs": [],
   "source": [
    "#NumPy\n",
    "x = np.array([1,2,3,4,5,6,7])\n",
    "x[2:5]"
   ]
  },
  {
   "cell_type": "code",
   "execution_count": null,
   "metadata": {
    "collapsed": true
   },
   "outputs": [],
   "source": [
    "#Стандартный Python\n",
    "x = [1,2,3,4,5,6,7]\n",
    "x[2:5]"
   ]
  },
  {
   "cell_type": "markdown",
   "metadata": {},
   "source": [
    "<p>Добавление элементов</p>"
   ]
  },
  {
   "cell_type": "code",
   "execution_count": null,
   "metadata": {
    "collapsed": true
   },
   "outputs": [],
   "source": [
    "x = np.array([1,2,3])\n",
    "x"
   ]
  },
  {
   "cell_type": "code",
   "execution_count": null,
   "metadata": {
    "collapsed": false
   },
   "outputs": [],
   "source": [
    "y = np.append(x, [3,4,5])\n",
    "y"
   ]
  },
  {
   "cell_type": "code",
   "execution_count": null,
   "metadata": {
    "collapsed": false
   },
   "outputs": [],
   "source": [
    "y = np.insert(x, 1, 10)\n",
    "y"
   ]
  },
  {
   "cell_type": "code",
   "execution_count": null,
   "metadata": {
    "collapsed": false
   },
   "outputs": [],
   "source": [
    "y = np.insert(x, [1, 2], [10, 11])\n",
    "y"
   ]
  },
  {
   "cell_type": "code",
   "execution_count": null,
   "metadata": {
    "collapsed": false
   },
   "outputs": [],
   "source": [
    "y = np.concatenate((x, [3,4,5]), axis=0)\n",
    "y"
   ]
  },
  {
   "cell_type": "code",
   "execution_count": null,
   "metadata": {
    "collapsed": false
   },
   "outputs": [],
   "source": [
    "y = np.hstack((x,[3,4,5]))\n",
    "y"
   ]
  },
  {
   "cell_type": "markdown",
   "metadata": {},
   "source": [
    "<p>Удаление элементов</p>"
   ]
  },
  {
   "cell_type": "code",
   "execution_count": null,
   "metadata": {
    "collapsed": false
   },
   "outputs": [],
   "source": [
    "x = np.array([1,2,3,4,5,6,7])\n",
    "y = np.delete(x, 1, axis=0)\n",
    "y"
   ]
  },
  {
   "cell_type": "code",
   "execution_count": null,
   "metadata": {
    "collapsed": false
   },
   "outputs": [],
   "source": [
    "y = np.delete(x, range(1,4), axis=0)\n",
    "y"
   ]
  },
  {
   "cell_type": "markdown",
   "metadata": {},
   "source": [
    "<p>Массив нулей</p>"
   ]
  },
  {
   "cell_type": "code",
   "execution_count": null,
   "metadata": {
    "collapsed": false
   },
   "outputs": [],
   "source": [
    "n = np.zeros(5)\n",
    "n"
   ]
  },
  {
   "cell_type": "markdown",
   "metadata": {},
   "source": [
    "<p>Массив единиц</p>"
   ]
  },
  {
   "cell_type": "code",
   "execution_count": null,
   "metadata": {
    "collapsed": false
   },
   "outputs": [],
   "source": [
    "o = np.ones(5)\n",
    "o"
   ]
  },
  {
   "cell_type": "markdown",
   "metadata": {},
   "source": [
    "<div>\n",
    "<p>Сумма элементов вектора:</p>\n",
    "<p>$$x_{\\Sigma}=\\displaystyle\\sum_{i=1}^{n} {x_i}$$</p>\n",
    "</div>"
   ]
  },
  {
   "cell_type": "code",
   "execution_count": null,
   "metadata": {
    "collapsed": true
   },
   "outputs": [],
   "source": [
    "#NumPy\n",
    "x = np.array([1,2,3])\n",
    "x.sum()"
   ]
  },
  {
   "cell_type": "code",
   "execution_count": null,
   "metadata": {
    "collapsed": true
   },
   "outputs": [],
   "source": [
    "#Стандартный Python\n",
    "xOld = [1,2,3]\n",
    "sum(xOld)"
   ]
  },
  {
   "cell_type": "markdown",
   "metadata": {},
   "source": [
    "<p>Поэлементное умножение</p>"
   ]
  },
  {
   "cell_type": "code",
   "execution_count": null,
   "metadata": {
    "collapsed": false
   },
   "outputs": [],
   "source": [
    "#NumPy\n",
    "x = np.array([1,2,3])\n",
    "y = np.array([4,5,6])\n",
    "x * y"
   ]
  },
  {
   "cell_type": "markdown",
   "metadata": {},
   "source": [
    "<p>Поэлементное деление</p>"
   ]
  },
  {
   "cell_type": "code",
   "execution_count": null,
   "metadata": {
    "collapsed": false
   },
   "outputs": [],
   "source": [
    "#NumPy\n",
    "x = np.array([1,2,3])\n",
    "y = np.array([4,5,6])\n",
    "x / y"
   ]
  },
  {
   "cell_type": "markdown",
   "metadata": {},
   "source": [
    "<p>Поэлементный модуль</p>"
   ]
  },
  {
   "cell_type": "code",
   "execution_count": null,
   "metadata": {
    "collapsed": false
   },
   "outputs": [],
   "source": [
    "#NumPy\n",
    "x = np.array([1,2,3])\n",
    "y = np.array([2,2,2])\n",
    "x % y"
   ]
  },
  {
   "cell_type": "markdown",
   "metadata": {},
   "source": [
    "<p>Поэлементное возведение в степень</p>"
   ]
  },
  {
   "cell_type": "code",
   "execution_count": null,
   "metadata": {
    "collapsed": true
   },
   "outputs": [],
   "source": [
    "#NumPy\n",
    "n = 2\n",
    "x = np.array([1,2,3])\n",
    "np.power(x, n)"
   ]
  },
  {
   "cell_type": "code",
   "execution_count": null,
   "metadata": {
    "collapsed": true
   },
   "outputs": [],
   "source": [
    "#Стандартный Python\n",
    "n = 2\n",
    "xOld = [1,2,3]\n",
    "xOld ** n"
   ]
  },
  {
   "cell_type": "code",
   "execution_count": null,
   "metadata": {
    "collapsed": true
   },
   "outputs": [],
   "source": [
    "#Стандартный Python\n",
    "n = 2\n",
    "xOld = [1,2,3]\n",
    "[el**n for el in xOld]"
   ]
  },
  {
   "cell_type": "markdown",
   "metadata": {},
   "source": [
    "<p>Среднее значение</p>"
   ]
  },
  {
   "cell_type": "code",
   "execution_count": null,
   "metadata": {
    "collapsed": false
   },
   "outputs": [],
   "source": [
    "x = np.array([1,2,3])\n",
    "x.mean()"
   ]
  },
  {
   "cell_type": "markdown",
   "metadata": {},
   "source": [
    "<p>Стандартное отклонение</p>"
   ]
  },
  {
   "cell_type": "code",
   "execution_count": null,
   "metadata": {
    "collapsed": false
   },
   "outputs": [],
   "source": [
    "x = np.array([1,2,3])\n",
    "x.std()"
   ]
  },
  {
   "cell_type": "markdown",
   "metadata": {},
   "source": [
    "<p>Произведение Конекера</p>"
   ]
  },
  {
   "cell_type": "code",
   "execution_count": null,
   "metadata": {
    "collapsed": false
   },
   "outputs": [],
   "source": [
    "#NumPy\n",
    "x = np.array([1,2,3])\n",
    "y = np.array([4,5,6])\n",
    "np.kron(x, y)"
   ]
  },
  {
   "cell_type": "markdown",
   "metadata": {},
   "source": [
    "<a name=\"2\"></a>\n",
    "<div style=\"display:table; width:100%; padding-top:10px; padding-bottom:10px; border-bottom:1px solid lightgrey\">\n",
    "    <div style=\"display:table-row\">\n",
    "        <div style=\"display:table-cell; width:80%; font-size:14pt; font-weight:bold\">2. Матрица</div>\n",
    "    \t<div style=\"display:table-cell; width:20%; text-align:center; background-color:whitesmoke; border:1px solid lightgrey\"><a href=\"#0\">К содержанию</a></div>\n",
    "    </div>\n",
    "</div>"
   ]
  },
  {
   "cell_type": "markdown",
   "metadata": {},
   "source": [
    "<a name = \"2a\"></a>\n",
    "<div style = \"display:table; width:100%\">\n",
    "    <div style = \"display:table-row\">\n",
    "        <div style = \"display:table-cell; width:80%; font-style:italic; font-weight:bold; font-size:12pt\">\n",
    "            a. Матрица: обозначение, операции, свойства\n",
    "        </div>\n",
    "        <div style=\"display:table-cell; border:1px solid lightgrey; width:20%\">\n",
    "            <div style = \"display:table-cell; width:10%; text-align:center; background-color:whitesmoke;\">\n",
    "                <a href=\"#2\">Назад</a>\n",
    "            </div>\n",
    "            <div style = \"display:table-cell; width:10%; text-align:center;\">\n",
    "                <a href=\"#2b\">Далее</a>\n",
    "            </div>\n",
    "        </div>\n",
    "    </div>\n",
    "</div>"
   ]
  },
  {
   "cell_type": "markdown",
   "metadata": {},
   "source": [
    "<p><b>Обозначение матрицы</b></p>"
   ]
  },
  {
   "cell_type": "markdown",
   "metadata": {},
   "source": [
    "$$A_{n,m} = \n",
    " \\begin{pmatrix}\n",
    "  a_{1,1} & a_{1,2} & \\cdots & a_{1,m} \\\\\n",
    "  a_{2,1} & a_{2,2} & \\cdots & a_{2,m} \\\\\n",
    "  \\vdots  & \\vdots  & \\ddots & \\vdots  \\\\\n",
    "  a_{n,1} & a_{n,2} & \\cdots & a_{n,m} \n",
    " \\end{pmatrix}$$"
   ]
  },
  {
   "cell_type": "markdown",
   "metadata": {},
   "source": [
    "<p><i>Квадратная матрица</i> - матрица из $n$ строк и $n$ столбцов</p>"
   ]
  },
  {
   "cell_type": "markdown",
   "metadata": {},
   "source": [
    "$$A_{n,n} = \n",
    " \\begin{pmatrix}\n",
    "  a_{1,1} & a_{1,2} & \\cdots & a_{1,n} \\\\\n",
    "  a_{2,1} & a_{2,2} & \\cdots & a_{2,n} \\\\\n",
    "  \\vdots  & \\vdots  & \\ddots & \\vdots  \\\\\n",
    "  a_{n,1} & a_{n,2} & \\cdots & a_{n,n} \n",
    " \\end{pmatrix}$$"
   ]
  },
  {
   "cell_type": "code",
   "execution_count": null,
   "metadata": {
    "collapsed": false
   },
   "outputs": [],
   "source": [
    "#NumPy\n",
    "A = np.array([[1,2,3],[4,5,6]])\n",
    "A"
   ]
  },
  {
   "cell_type": "code",
   "execution_count": null,
   "metadata": {
    "collapsed": false
   },
   "outputs": [],
   "source": [
    "#NumPy\n",
    "A = np.matrix([[1,2,3],[4,5,6]])\n",
    "A"
   ]
  },
  {
   "cell_type": "code",
   "execution_count": null,
   "metadata": {
    "collapsed": false
   },
   "outputs": [],
   "source": [
    "#Стандартный Python\n",
    "AOld = [[1,2,3],[4,5,6]]\n",
    "AOld"
   ]
  },
  {
   "cell_type": "code",
   "execution_count": null,
   "metadata": {
    "collapsed": false
   },
   "outputs": [],
   "source": [
    "#NumPy\n",
    "A = np.matrix([[1,2,3],[4,5,6]]) #аналогично для np.array()\n",
    "A.ndim #размерность массива"
   ]
  },
  {
   "cell_type": "code",
   "execution_count": null,
   "metadata": {
    "collapsed": false
   },
   "outputs": [],
   "source": [
    "#NumPy\n",
    "A = np.matrix([[1,2,3],[4,5,6]]) #аналогично для np.array()\n",
    "A.shape #размер матрицы"
   ]
  },
  {
   "cell_type": "markdown",
   "metadata": {},
   "source": [
    "<p><b>Транспонирование матрицы</b></p>"
   ]
  },
  {
   "cell_type": "markdown",
   "metadata": {},
   "source": [
    "$$A_{n,m}^{T} = \n",
    " \\begin{pmatrix}\n",
    "  a_{1,1} & a_{2,1} & \\cdots & a_{n,1} \\\\\n",
    "  a_{1,2} & a_{2,2} & \\cdots & a_{n,2} \\\\\n",
    "  \\vdots  & \\vdots  & \\ddots & \\vdots  \\\\\n",
    "  a_{1,m} & a_{2,m} & \\cdots & a_{n,m} \n",
    " \\end{pmatrix}$$"
   ]
  },
  {
   "cell_type": "code",
   "execution_count": null,
   "metadata": {
    "collapsed": false
   },
   "outputs": [],
   "source": [
    "#NumPy\n",
    "A = np.array([[1,2,3],[4,5,6]])\n",
    "A.T"
   ]
  },
  {
   "cell_type": "code",
   "execution_count": null,
   "metadata": {
    "collapsed": false
   },
   "outputs": [],
   "source": [
    "#NumPy\n",
    "A = np.matrix([[1,2,3],[4,5,6]])\n",
    "A.T"
   ]
  },
  {
   "cell_type": "code",
   "execution_count": null,
   "metadata": {
    "collapsed": false
   },
   "outputs": [],
   "source": [
    "#Стандартный Python\n",
    "AOld = [[1,2,3],[4,5,6]]\n",
    "AOldT = [[AOld[i][j] for i in range(len(AOld))] for j in range(len(AOld[0]))]\n",
    "AOldT"
   ]
  },
  {
   "cell_type": "code",
   "execution_count": null,
   "metadata": {
    "collapsed": false
   },
   "outputs": [],
   "source": [
    "#Стандартный Python\n",
    "#Функция для транспонирования\n",
    "funcT = lambda matrix: [[matrix[i][j] for i in range(len(matrix))] for j in range(len(matrix[0]))]\n",
    "\n",
    "AOldT = funcT(AOld)\n",
    "\n",
    "AOldT"
   ]
  },
  {
   "cell_type": "markdown",
   "metadata": {},
   "source": [
    "<p><b>Сложение матриц</b></p>"
   ]
  },
  {
   "cell_type": "markdown",
   "metadata": {},
   "source": [
    "$$A_{n,m}+B_{n,m} = \n",
    " \\begin{pmatrix}\n",
    "  a_{1,1} & a_{1,2} & \\cdots & a_{1,m} \\\\\n",
    "  a_{2,1} & a_{2,2} & \\cdots & a_{2,m} \\\\\n",
    "  \\vdots  & \\vdots  & \\ddots & \\vdots  \\\\\n",
    "  a_{n,1} & a_{n,2} & \\cdots & a_{n,m} \n",
    " \\end{pmatrix}\n",
    " +\n",
    "  \\begin{pmatrix}\n",
    "  b_{1,1} & b_{1,2} & \\cdots & b_{1,m} \\\\\n",
    "  b_{2,1} & b_{2,2} & \\cdots & b_{2,m} \\\\\n",
    "  \\vdots  & \\vdots  & \\ddots & \\vdots  \\\\\n",
    "  b_{n,1} & b_{n,2} & \\cdots & b_{n,m} \n",
    " \\end{pmatrix}\n",
    " =\n",
    "  \\begin{pmatrix}\n",
    "  a_{1,1}+b_{1,1} & a_{1,2}+b_{1,2} & \\cdots & a_{1,m}+b_{1,m} \\\\\n",
    "  a_{2,1}+b_{2,1} & a_{2,2}+b_{2,2} & \\cdots & a_{2,m}+b_{2,m} \\\\\n",
    "  \\vdots  & \\vdots  & \\ddots & \\vdots  \\\\\n",
    "  a_{n,1}+b_{n,1} & a_{n,2}+b_{n,2} & \\cdots & a_{n,m}+b_{n,m}\n",
    " \\end{pmatrix}\n",
    " $$"
   ]
  },
  {
   "cell_type": "markdown",
   "metadata": {},
   "source": [
    "$$A_{2,2} = \n",
    " \\begin{pmatrix}\n",
    "  1 & 2 \\\\\n",
    "  3 & 4 \\\\\n",
    " \\end{pmatrix}+\\begin{pmatrix}\n",
    "  5 & 6 \\\\\n",
    "  7 & 8 \\\\\n",
    " \\end{pmatrix} =\n",
    " \\begin{pmatrix}\n",
    "  1+5 & 2+6 \\\\\n",
    "  3+7 & 4+8 \\\\\n",
    " \\end{pmatrix} =\n",
    " \\begin{pmatrix}\n",
    "  6 & 8 \\\\\n",
    "  10 & 12 \\\\\n",
    " \\end{pmatrix}$$"
   ]
  },
  {
   "cell_type": "code",
   "execution_count": null,
   "metadata": {
    "collapsed": false
   },
   "outputs": [],
   "source": [
    "#NumPy\n",
    "A = np.array([[1,2],[3,4]])\n",
    "B = np.array([[5,6],[7,8]])\n",
    "A + B"
   ]
  },
  {
   "cell_type": "code",
   "execution_count": null,
   "metadata": {
    "collapsed": false
   },
   "outputs": [],
   "source": [
    "#NumPy\n",
    "A = np.matrix([[1,2],[3,4]])\n",
    "B = np.matrix([[5,6],[7,8]])\n",
    "A + B"
   ]
  },
  {
   "cell_type": "code",
   "execution_count": null,
   "metadata": {
    "collapsed": false
   },
   "outputs": [],
   "source": [
    "#Стандартный Python\n",
    "AOld = [[1,2],[3,4]]\n",
    "BOld = [[5,6],[7,8]]\n",
    "[[AOld[i][j] + BOld[i][j] for j in range(len(AOld[0]))] for i in range(len(AOld))]"
   ]
  },
  {
   "cell_type": "markdown",
   "metadata": {},
   "source": [
    "<p><b>Умножение матрицы на число</b></p>"
   ]
  },
  {
   "cell_type": "markdown",
   "metadata": {},
   "source": [
    "$$kA_{n,m} = \n",
    " \\begin{pmatrix}\n",
    "  ka_{1,1} & ka_{1,2} & \\cdots & ka_{1,m} \\\\\n",
    "  ka_{2,1} & ka_{2,2} & \\cdots & ka_{2,m} \\\\\n",
    "  \\vdots  & \\vdots  & \\ddots & \\vdots  \\\\\n",
    "  ka_{n,1} & ka_{n,2} & \\cdots & ka_{n,m} \n",
    " \\end{pmatrix}$$"
   ]
  },
  {
   "cell_type": "code",
   "execution_count": null,
   "metadata": {
    "collapsed": false
   },
   "outputs": [],
   "source": [
    "#NumPy\n",
    "k = 2\n",
    "A = np.array([[1,2],[3,4]])\n",
    "k * A"
   ]
  },
  {
   "cell_type": "code",
   "execution_count": null,
   "metadata": {
    "collapsed": false
   },
   "outputs": [],
   "source": [
    "#NumPy\n",
    "k = 2\n",
    "A = np.matrix([[1,2],[3,4]])\n",
    "k * A"
   ]
  },
  {
   "cell_type": "code",
   "execution_count": null,
   "metadata": {
    "collapsed": false
   },
   "outputs": [],
   "source": [
    "#Стандартный Python\n",
    "k = 2\n",
    "AOld = [[1,2],[3,4]]\n",
    "[[k * AOld[i][j] for j in range(len(AOld[0]))] for i in range(len(AOld))]"
   ]
  },
  {
   "cell_type": "markdown",
   "metadata": {},
   "source": [
    "<p><b>Умножение матриц</b></p>"
   ]
  },
  {
   "cell_type": "markdown",
   "metadata": {},
   "source": [
    "$$A_{nxp}B_{pxm} = \\begin{pmatrix}\n",
    "  a_{1,1} & a_{1,2} & \\cdots & a_{1,p} \\\\\n",
    "  a_{2,1} & a_{2,2} & \\cdots & a_{2,p} \\\\\n",
    "  \\vdots  & \\vdots  & \\ddots & \\vdots  \\\\\n",
    "  a_{n,1} & a_{n,2} & \\cdots & a_{n,p} \n",
    " \\end{pmatrix} \\begin{pmatrix}\n",
    "  b_{1,1} & b_{1,2} & \\cdots & b_{1,m} \\\\\n",
    "  b_{2,1} & b_{2,2} & \\cdots & b_{2,m} \\\\\n",
    "  \\vdots  & \\vdots  & \\ddots & \\vdots  \\\\\n",
    "  b_{p,1} & b_{p,2} & \\cdots & b_{p,m} \n",
    " \\end{pmatrix} = \\begin{pmatrix}\n",
    "  c_{1,1} & c_{1,2} & \\cdots & c_{1,m} \\\\\n",
    "  c_{2,1} & c_{2,2} & \\cdots & c_{2,m} \\\\\n",
    "  \\vdots  & \\vdots  & \\ddots & \\vdots  \\\\\n",
    "  c_{n,1} & c_{n,2} & \\cdots & c_{n,m} \n",
    " \\end{pmatrix},$$\n",
    " \n",
    " <p style = \"text-align:center\">где $c_{i,j}=\\displaystyle\\sum_{i=1}^{p} a_{i,k}b_{k,j}$</p>"
   ]
  },
  {
   "cell_type": "markdown",
   "metadata": {},
   "source": [
    "<p><b>Свойства:</b><br>\n",
    "<ol>\n",
    "<li>коммутативность: в общем случае \n",
    "$AB \\neq BA$</li>\n",
    "<li>ассоциативность: \n",
    "$A\\left(BC\\right) =  \\left(AB\\right)C $</li>\n",
    "<li>дистрибутивность по сложению: \n",
    "$A\\left(B+C\\right) =  AB+AC $ и $\\left(A+B\\right)C =  AC+BC $</li>\n",
    "</ol>\n",
    "</p>"
   ]
  },
  {
   "cell_type": "markdown",
   "metadata": {},
   "source": [
    "$$A_{2,2} = \n",
    " \\begin{pmatrix}\n",
    "  1 & 2 \\\\\n",
    "  3 & 4 \\\\\n",
    " \\end{pmatrix}\\begin{pmatrix}\n",
    "  5 & 6 \\\\\n",
    "  7 & 8 \\\\\n",
    " \\end{pmatrix} = \\begin{pmatrix} 1 \\cdot 5 + 2 \\cdot 7 & 1 \\cdot 6 + 2 \\cdot 8 \\\\\n",
    " 3 \\cdot 5 + 4 \\cdot 7 & 3 \\cdot 6 + 4 \\cdot 8 \\end{pmatrix}$$"
   ]
  },
  {
   "cell_type": "code",
   "execution_count": null,
   "metadata": {
    "collapsed": false
   },
   "outputs": [],
   "source": [
    "#NumPy\n",
    "A = np.array([[1,2],[3,4]])\n",
    "B = np.array([[5,6],[7,8]])\n",
    "np.dot(A, B)"
   ]
  },
  {
   "cell_type": "code",
   "execution_count": null,
   "metadata": {
    "collapsed": false
   },
   "outputs": [],
   "source": [
    "A.dot(B)"
   ]
  },
  {
   "cell_type": "code",
   "execution_count": null,
   "metadata": {
    "collapsed": false
   },
   "outputs": [],
   "source": [
    "A * B #поэлементное перемножение"
   ]
  },
  {
   "cell_type": "code",
   "execution_count": null,
   "metadata": {
    "collapsed": false
   },
   "outputs": [],
   "source": [
    "#NumPy\n",
    "A = np.matrix([[1,2],[3,4]])\n",
    "B = np.matrix([[5,6],[7,8]])\n",
    "np.dot(A, B)"
   ]
  },
  {
   "cell_type": "code",
   "execution_count": null,
   "metadata": {
    "collapsed": false
   },
   "outputs": [],
   "source": [
    "A.dot(B)"
   ]
  },
  {
   "cell_type": "code",
   "execution_count": null,
   "metadata": {
    "collapsed": false
   },
   "outputs": [],
   "source": [
    "A * B #перемножение матриц"
   ]
  },
  {
   "cell_type": "markdown",
   "metadata": {},
   "source": [
    "<p><b>Умножение матриц через внешнее произведение</b></p>"
   ]
  },
  {
   "cell_type": "markdown",
   "metadata": {},
   "source": [
    "$$A_{nxp}B_{pxm} = \\begin{pmatrix}\n",
    "  a_{1,1} & a_{1,2} & \\cdots & a_{1,p} \\\\\n",
    "  a_{2,1} & a_{2,2} & \\cdots & a_{2,p} \\\\\n",
    "  \\vdots  & \\vdots  & \\ddots & \\vdots  \\\\\n",
    "  a_{n,1} & a_{n,2} & \\cdots & a_{n,p} \n",
    " \\end{pmatrix} \\begin{pmatrix}\n",
    "  b_{1,1} & b_{1,2} & \\cdots & b_{1,m} \\\\\n",
    "  b_{2,1} & b_{2,2} & \\cdots & b_{2,m} \\\\\n",
    "  \\vdots  & \\vdots  & \\ddots & \\vdots  \\\\\n",
    "  b_{p,1} & b_{p,2} & \\cdots & b_{p,m} \n",
    " \\end{pmatrix} = \\begin{pmatrix}\n",
    "  a_{1,1}b_{1,1}  & a_{1,1}b_{1,2} & \\cdots & a_{1,1}b_{1,m} \\\\\n",
    "  a_{2,1}b_{1,1}  & a_{2,1}b_{1,2} & \\cdots & a_{2,1}b_{1,m} \\\\\n",
    "  \\vdots  & \\vdots  & \\ddots & \\vdots  \\\\\n",
    "  a_{n,1}b_{1,1}  & a_{n,1}b_{1,2} & \\cdots & a_{n,1}b_{1,m} \\\\\n",
    " \\end{pmatrix} + \n",
    " \\begin{pmatrix}\n",
    "  a_{1,2}b_{2,1}  & a_{1,2}b_{2,2} & \\cdots & a_{1,2}b_{2,m} \\\\\n",
    "  a_{2,2}b_{2,1}  & a_{2,2}b_{2,2} & \\cdots & a_{2,2}b_{2,m} \\\\\n",
    "  \\vdots  & \\vdots  & \\ddots & \\vdots  \\\\\n",
    "  a_{n,2}b_{2,1}  & a_{n,2}b_{2,2} & \\cdots & a_{n,2}b_{2,m} \\\\\n",
    " \\end{pmatrix} + \\cdots +\n",
    "  \\begin{pmatrix}\n",
    "  a_{1,p}b_{p,1}  & a_{1,p}b_{p,2} & \\cdots & a_{1,p}b_{p,m} \\\\\n",
    "  a_{2,p}b_{p,1}  & a_{2,p}b_{p,2} & \\cdots & a_{2,p}b_{p,m} \\\\\n",
    "  \\vdots  & \\vdots  & \\ddots & \\vdots  \\\\\n",
    "  a_{n,p}b_{p,1}  & a_{n,p}b_{p,2} & \\cdots & a_{n,p}b_{p,m} \\\\\n",
    " \\end{pmatrix}\n",
    " $$"
   ]
  },
  {
   "cell_type": "markdown",
   "metadata": {},
   "source": [
    "<p>Пример</p>"
   ]
  },
  {
   "cell_type": "markdown",
   "metadata": {},
   "source": [
    "$$A_{2x2} = \n",
    " \\begin{pmatrix}\n",
    "  1 & 2 \\\\\n",
    "  3 & 4 \\\\\n",
    " \\end{pmatrix}\\begin{pmatrix}\n",
    "  5 & 6 \\\\\n",
    "  7 & 8 \\\\\n",
    " \\end{pmatrix} = \n",
    " \\begin{pmatrix} \n",
    "  1 \\cdot 5 & 1 \\cdot 6 \\\\\n",
    "  3 \\cdot 5 & 3 \\cdot 6 \\end{pmatrix}+\n",
    "   \\begin{pmatrix} \n",
    "  2 \\cdot 7 & 2 \\cdot 8 \\\\\n",
    "  4 \\cdot 7 & 4 \\cdot 8 \\end{pmatrix}$$"
   ]
  },
  {
   "cell_type": "code",
   "execution_count": null,
   "metadata": {
    "collapsed": false
   },
   "outputs": [],
   "source": [
    "#NumPy\n",
    "A = np.array([[1,2],[3,4]])\n",
    "B = np.array([[5,6],[7,8]])\n",
    "\n",
    "C = np.zeros([A.shape[0], B.shape[1]])\n",
    "\n",
    "for i in range(A.shape[1]):\n",
    "    C += np.outer(A[:,i], B[i,:])\n",
    "C"
   ]
  },
  {
   "cell_type": "code",
   "execution_count": null,
   "metadata": {
    "collapsed": true
   },
   "outputs": [],
   "source": [
    "sum([np.outer(A[:,i], B[i,:]) for i in range(A.shape[1])])"
   ]
  },
  {
   "cell_type": "markdown",
   "metadata": {},
   "source": [
    "<p><i>Матрица в степени $n$</i></p>"
   ]
  },
  {
   "cell_type": "code",
   "execution_count": null,
   "metadata": {
    "collapsed": false
   },
   "outputs": [],
   "source": [
    "#NumPy\n",
    "n = 2\n",
    "A = np.array([[1,2],[3,4]])\n",
    "np.linalg.matrix_power(A, n)"
   ]
  },
  {
   "cell_type": "code",
   "execution_count": null,
   "metadata": {
    "collapsed": false
   },
   "outputs": [],
   "source": [
    "#NumPy\n",
    "np.dot(A,A)"
   ]
  },
  {
   "cell_type": "code",
   "execution_count": null,
   "metadata": {
    "collapsed": false
   },
   "outputs": [],
   "source": [
    "A**n #поэлементное возведение в степень"
   ]
  },
  {
   "cell_type": "code",
   "execution_count": null,
   "metadata": {
    "collapsed": false
   },
   "outputs": [],
   "source": [
    "#NumPy\n",
    "n = 2\n",
    "A = np.matrix([[1,2],[3,4]])\n",
    "A**n #возведение матрицы в степень n"
   ]
  },
  {
   "cell_type": "markdown",
   "metadata": {},
   "source": [
    "<p><b>Ранг матрицы</b></p>"
   ]
  },
  {
   "cell_type": "code",
   "execution_count": null,
   "metadata": {
    "collapsed": false
   },
   "outputs": [],
   "source": [
    "#NumPy\n",
    "A = np.array([[1,0,2],[2,1,0],[1,1,1],[4,1,7]])\n",
    "np.linalg.matrix_rank(A)"
   ]
  },
  {
   "cell_type": "code",
   "execution_count": null,
   "metadata": {
    "collapsed": false
   },
   "outputs": [],
   "source": [
    "#NumPy\n",
    "A = np.array([[1,4,3],[-2,0,-1],[0,8,5]])\n",
    "np.linalg.matrix_rank(A)"
   ]
  },
  {
   "cell_type": "code",
   "execution_count": null,
   "metadata": {
    "collapsed": false
   },
   "outputs": [],
   "source": [
    "#NumPy\n",
    "A = np.matrix([[1,0,2],[2,1,0],[1,1,1],[4,1,7]])\n",
    "np.linalg.matrix_rank(A)"
   ]
  },
  {
   "cell_type": "markdown",
   "metadata": {},
   "source": [
    "<p><b>Определитель матрицы</b></p>"
   ]
  },
  {
   "cell_type": "markdown",
   "metadata": {},
   "source": [
    "$$\\left|A_{nxn}\\right| = \\displaystyle\\sum_{k=1}^{n} a_{i,k} \\left| M_{i,k}\\right| (-1)^{k+i}$$\n",
    "$M_{i,k}$ - минор (матрица, полученная вычеркиванием i-ой строки и k-го столбца из $A_{nxn}$)"
   ]
  },
  {
   "cell_type": "markdown",
   "metadata": {},
   "source": [
    "$$A_{3x3} = \n",
    " \\begin{pmatrix}\n",
    "  a_{1,1} & a_{1,2} & a_{1,3} \\\\\n",
    "  a_{2,1} & a_{2,2} & a_{2,3} \\\\\n",
    "  a_{3,1} & a_{3,2} & a_{3,3} \\\\\n",
    " \\end{pmatrix}$$\n",
    " $$M_{1,1} = \n",
    " \\begin{pmatrix}\n",
    "a_{2,2} & a_{2,3} \\\\\n",
    "a_{3,2} & a_{3,3} \\\\\n",
    " \\end{pmatrix}$$\n",
    "  $$M_{1,2} = \n",
    " \\begin{pmatrix}\n",
    "  a_{2,1} & a_{2,3} \\\\\n",
    "  a_{3,1}  & a_{3,3} \\\\\n",
    " \\end{pmatrix}$$\n",
    "   $$M_{1,3} = \n",
    " \\begin{pmatrix}\n",
    "  a_{2,1} & a_{2,2}  \\\\\n",
    "  a_{3,1} & a_{3,2}  \\\\\n",
    " \\end{pmatrix}$$"
   ]
  },
  {
   "cell_type": "markdown",
   "metadata": {},
   "source": [
    " $$\\left|A_{3x3}\\right| = \n",
    " a_{1,1} \n",
    " \\left| M_{1,1} \\right| + (-1)\\cdot\n",
    " a_{1,2} \n",
    " \\left| M_{1,2} \\right| +\n",
    "  a_{1,3} \n",
    " \\left| M_{1,3} \\right| $$\n",
    " \n",
    "  $$\\left|A_{3x3}\\right| = a_{1,1} \n",
    " \\left| \\begin{matrix}\n",
    "  a_{2,2} & a_{2,3} \\\\\n",
    "  a_{3,2}  & a_{3,3} \\\\\n",
    " \\end{matrix} \\right| + (-1)\\cdot\n",
    " a_{1,2} \n",
    " \\left| \\begin{matrix}\n",
    "  a_{2,1} & a_{2,3} \\\\\n",
    "  a_{3,1}  & a_{3,3} \\\\\n",
    " \\end{matrix} \\right| +\n",
    "  a_{1,3} \n",
    " \\left| \\begin{matrix}\n",
    "  a_{2,1} & a_{2,2} \\\\\n",
    "  a_{3,1}  & a_{3,2} \\\\\n",
    " \\end{matrix} \\right|\n",
    " $$"
   ]
  },
  {
   "cell_type": "code",
   "execution_count": null,
   "metadata": {
    "collapsed": false
   },
   "outputs": [],
   "source": [
    "#NumPy\n",
    "A = np.array([[1,2],[3,4]])\n",
    "np.linalg.det(A)"
   ]
  },
  {
   "cell_type": "code",
   "execution_count": null,
   "metadata": {
    "collapsed": true
   },
   "outputs": [],
   "source": [
    "#NumPy\n",
    "A = np.matrix([[1,2],[3,4]])\n",
    "np.linalg.det(A)"
   ]
  },
  {
   "cell_type": "markdown",
   "metadata": {},
   "source": [
    "<p><b>Обратная квадратная матрица</b></p>"
   ]
  },
  {
   "cell_type": "markdown",
   "metadata": {},
   "source": [
    "$$AA^{-1} = A^{-1}A = I$$"
   ]
  },
  {
   "cell_type": "markdown",
   "metadata": {},
   "source": [
    "$$A_{nxm}I_{mxm}=I_{nxn}A_{nxm}=A_{nxm}$$"
   ]
  },
  {
   "cell_type": "markdown",
   "metadata": {},
   "source": [
    "$$I = \n",
    " \\begin{pmatrix}\n",
    "  1 & 0 & \\cdots & 0 \\\\\n",
    "  0 & 1 & \\cdots & 0 \\\\\n",
    "  \\vdots  & \\vdots  & \\ddots & \\vdots  \\\\\n",
    "  0 & 0 & \\cdots & 1 \n",
    " \\end{pmatrix}$$"
   ]
  },
  {
   "cell_type": "code",
   "execution_count": null,
   "metadata": {
    "collapsed": false
   },
   "outputs": [],
   "source": [
    "a = np.array([[1,3,5],[2,5,1],[2,3,8]])\n",
    "np.linalg.inv(a)"
   ]
  },
  {
   "cell_type": "markdown",
   "metadata": {},
   "source": [
    "<p>Решение уравнений</p>"
   ]
  },
  {
   "cell_type": "markdown",
   "metadata": {},
   "source": [
    "$$AX=B$$"
   ]
  },
  {
   "cell_type": "markdown",
   "metadata": {},
   "source": [
    "<p>Для квадратной матрицы</p>"
   ]
  },
  {
   "cell_type": "markdown",
   "metadata": {},
   "source": [
    "$$X=A^{-1}B$$"
   ]
  },
  {
   "cell_type": "markdown",
   "metadata": {},
   "source": [
    "<p><b>Пример.</b> Дана следующая система уравнений:</p>"
   ]
  },
  {
   "cell_type": "markdown",
   "metadata": {},
   "source": [
    "<p style=\"text-align:center\">$\\begin{cases} \n",
    "2 x_1 + 4 x_2 -3 x_3 = 14 \\\\\n",
    "5 x_1 + x_2 + 2 x_3 = 5 \\\\\n",
    "3 x_1 - 7 x_2 + 5 x_3 = 11\n",
    "\\end{cases}$</p>"
   ]
  },
  {
   "cell_type": "markdown",
   "metadata": {},
   "source": [
    "<p>Найти $x_1$, $x_2$ и $x_3$?</p>"
   ]
  },
  {
   "cell_type": "markdown",
   "metadata": {},
   "source": [
    "<p style=\"text-align:center\">\n",
    "$A_{3x3} = \n",
    " \\begin{pmatrix}\n",
    "  2 & 4 & -3 \\\\\n",
    "  5 & 1 & 2 \\\\\n",
    "  3 & -7 & 5\n",
    " \\end{pmatrix}$, \n",
    "$B =  \\begin{pmatrix}\n",
    "  14 \\\\\n",
    "  5 \\\\\n",
    "  11\n",
    " \\end{pmatrix}$,\n",
    "$X = \\begin{pmatrix}\n",
    "  x_1 \\\\\n",
    "  x_2 \\\\\n",
    "  x_3\n",
    " \\end{pmatrix} = ?$\n",
    "</p>\n"
   ]
  },
  {
   "cell_type": "code",
   "execution_count": null,
   "metadata": {
    "collapsed": false
   },
   "outputs": [],
   "source": [
    "A = np.array([[2,4,-3],[5,1,2],[3,-7,5]])\n",
    "B = np.array([14,5,11])"
   ]
  },
  {
   "cell_type": "code",
   "execution_count": null,
   "metadata": {
    "collapsed": false
   },
   "outputs": [],
   "source": [
    "#Для квадратной матрицы\n",
    "np.linalg.solve(A, B)"
   ]
  },
  {
   "cell_type": "code",
   "execution_count": null,
   "metadata": {
    "collapsed": false
   },
   "outputs": [],
   "source": [
    "#Для квадратной матрицы\n",
    "np.dot(np.linalg.inv(A), B)"
   ]
  },
  {
   "cell_type": "code",
   "execution_count": null,
   "metadata": {
    "collapsed": false
   },
   "outputs": [],
   "source": [
    "#Матрицы произвольного размера\n",
    "np.linalg.lstsq(A, B)[0]"
   ]
  },
  {
   "cell_type": "markdown",
   "metadata": {},
   "source": [
    "<p>Решение для зависимых уравнений</p>"
   ]
  },
  {
   "cell_type": "code",
   "execution_count": null,
   "metadata": {
    "collapsed": true
   },
   "outputs": [],
   "source": [
    "A = np.array([[1,4,3],[-2,0,-1],[0,8,5]])\n",
    "B = np.array([0,0,0])"
   ]
  },
  {
   "cell_type": "code",
   "execution_count": null,
   "metadata": {
    "collapsed": true
   },
   "outputs": [],
   "source": [
    "np.linalg.det(a)"
   ]
  },
  {
   "cell_type": "code",
   "execution_count": null,
   "metadata": {
    "collapsed": false
   },
   "outputs": [],
   "source": [
    "np.linalg.solve(A,B) #Выдаст ошибку, т.к. матрица вырожденная (singular)"
   ]
  },
  {
   "cell_type": "code",
   "execution_count": null,
   "metadata": {
    "collapsed": false
   },
   "outputs": [],
   "source": [
    "np.linalg.lstsq(A,B)[0]"
   ]
  },
  {
   "cell_type": "markdown",
   "metadata": {},
   "source": [
    "<a name = \"2b\"></a>\n",
    "<div style = \"display:table; width:100%\">\n",
    "    <div style = \"display:table-row\">\n",
    "        <div style = \"display:table-cell; width:80%; font-style:italic; font-weight:bold; font-size:12pt\">\n",
    "            b. Дополнительные возможности NumPy\n",
    "        </div>\n",
    "        <div style=\"display:table-cell; border:1px solid lightgrey; width:20%\">\n",
    "            <div style = \"display:table-cell; width:10%; text-align:center; background-color:whitesmoke;\">\n",
    "                <a href=\"#2a\">Назад</a>\n",
    "            </div>\n",
    "            <div style = \"display:table-cell; width:10%; text-align:center;\">\n",
    "                <a href=\"#3\">Далее</a>\n",
    "            </div>\n",
    "        </div>\n",
    "    </div>\n",
    "</div>"
   ]
  },
  {
   "cell_type": "markdown",
   "metadata": {},
   "source": [
    "<p>Обращение к элементам матрицы</p>"
   ]
  },
  {
   "cell_type": "code",
   "execution_count": null,
   "metadata": {
    "collapsed": false
   },
   "outputs": [],
   "source": [
    "A = np.array([[1,2,3],[4,5,6]])\n",
    "A[1,2]"
   ]
  },
  {
   "cell_type": "markdown",
   "metadata": {},
   "source": [
    "<p>Добавление элементов</p>"
   ]
  },
  {
   "cell_type": "code",
   "execution_count": null,
   "metadata": {
    "collapsed": false
   },
   "outputs": [],
   "source": [
    "A = np.array([[1,2,3],[5,6,7]])\n",
    "B = np.array([[3,4,5]])\n",
    "C1 = np.append(A, B, axis=0)\n",
    "C1"
   ]
  },
  {
   "cell_type": "code",
   "execution_count": null,
   "metadata": {
    "collapsed": false
   },
   "outputs": [],
   "source": [
    "A = np.matrix([[1,2,3],[5,6,7]])\n",
    "B = np.array([[3,4,5]])\n",
    "C1 = np.append(A, B, axis=0)\n",
    "C1"
   ]
  },
  {
   "cell_type": "code",
   "execution_count": null,
   "metadata": {
    "collapsed": false
   },
   "outputs": [],
   "source": [
    "A = np.matrix([[1,2,3],[5,6,7]])\n",
    "B = np.array([[3,4,5],[11,22,33]])\n",
    "C2 = np.append(A, B, axis=1)\n",
    "C2"
   ]
  },
  {
   "cell_type": "code",
   "execution_count": null,
   "metadata": {
    "collapsed": false
   },
   "outputs": [],
   "source": [
    "A = np.array([[1,2,3],[4,5,6]])\n",
    "B = np.insert(x, 1, [10,11], axis=1)\n",
    "B"
   ]
  },
  {
   "cell_type": "code",
   "execution_count": null,
   "metadata": {
    "collapsed": false
   },
   "outputs": [],
   "source": [
    "A = np.array([[1,2,3],[4,5,6]])\n",
    "B = np.insert(x, 1, [10,11,12], axis=0)\n",
    "B"
   ]
  },
  {
   "cell_type": "markdown",
   "metadata": {},
   "source": [
    "<p>Удаление строки</p>"
   ]
  },
  {
   "cell_type": "code",
   "execution_count": null,
   "metadata": {
    "collapsed": false
   },
   "outputs": [],
   "source": [
    "A = np.array([[1,2,3],[4,5,6],[7,8,9]])\n",
    "np.delete(A, 2, axis=0)"
   ]
  },
  {
   "cell_type": "code",
   "execution_count": null,
   "metadata": {
    "collapsed": false
   },
   "outputs": [],
   "source": [
    "A = np.array([[1,2,3],[4,5,6],[7,8,9]])\n",
    "np.delete(A, np.s_[0:2], axis=0)"
   ]
  },
  {
   "cell_type": "code",
   "execution_count": null,
   "metadata": {
    "collapsed": false
   },
   "outputs": [],
   "source": [
    "A = np.array([[1,2,3],[4,5,6],[7,8,9]])\n",
    "np.delete(A, [0,1], axis=0)"
   ]
  },
  {
   "cell_type": "markdown",
   "metadata": {},
   "source": [
    "<p>Удаление столбца</p>"
   ]
  },
  {
   "cell_type": "code",
   "execution_count": null,
   "metadata": {
    "collapsed": false
   },
   "outputs": [],
   "source": [
    "A = np.array([[1,2,3],[4,5,6],[7,8,9]])\n",
    "np.delete(A, 2, axis=1)"
   ]
  },
  {
   "cell_type": "code",
   "execution_count": null,
   "metadata": {
    "collapsed": false
   },
   "outputs": [],
   "source": [
    "A = np.array([[1,2,3],[4,5,6],[7,8,9]])\n",
    "np.delete(A, np.s_[0:2], axis=1)"
   ]
  },
  {
   "cell_type": "code",
   "execution_count": null,
   "metadata": {
    "collapsed": false
   },
   "outputs": [],
   "source": [
    "A = np.array([[1,2,3],[4,5,6],[7,8,9]])\n",
    "np.delete(A, [0,1], axis=1)"
   ]
  },
  {
   "cell_type": "markdown",
   "metadata": {},
   "source": [
    "<p>След матрицы</p>"
   ]
  },
  {
   "cell_type": "markdown",
   "metadata": {},
   "source": [
    "<p>$$tr(A_{n,n})=\\displaystyle\\sum_{i=1}^{n} a_{i,i} $$</p>"
   ]
  },
  {
   "cell_type": "code",
   "execution_count": null,
   "metadata": {
    "collapsed": false
   },
   "outputs": [],
   "source": [
    "A = np.array([[1,2,3],[4,5,6],[7,8,9]])\n",
    "A.trace()"
   ]
  },
  {
   "cell_type": "markdown",
   "metadata": {},
   "source": [
    "<p>Комплексно-сопряженная матрица</p>"
   ]
  },
  {
   "cell_type": "markdown",
   "metadata": {},
   "source": [
    "$$A = \n",
    " \\begin{pmatrix}\n",
    "  1+i & 2-4i \\\\\n",
    "  3 & 4+5i\\\\\n",
    " \\end{pmatrix}$$\n",
    "$$\\overline{A} = \n",
    " \\begin{pmatrix}\n",
    "  1-i & 2+4i \\\\\n",
    "  3 & 4-5i\\\\\n",
    " \\end{pmatrix}$$"
   ]
  },
  {
   "cell_type": "code",
   "execution_count": null,
   "metadata": {
    "collapsed": false
   },
   "outputs": [],
   "source": [
    "A = np.matrix([[1+1j, 2-4j],[3, 4+5j]])\n",
    "A"
   ]
  },
  {
   "cell_type": "code",
   "execution_count": null,
   "metadata": {
    "collapsed": false
   },
   "outputs": [],
   "source": [
    "np.conj(A)"
   ]
  },
  {
   "cell_type": "markdown",
   "metadata": {},
   "source": [
    "<p>Сопряженно-транспонированная матрица</p>"
   ]
  },
  {
   "cell_type": "markdown",
   "metadata": {},
   "source": [
    "$$A^* = \\left( \\overline{A} \\right)^T =\n",
    " \\begin{pmatrix}\n",
    "1-i & 3 \\\\\n",
    "  2+4i & 4-5i\\\\\n",
    " \\end{pmatrix}$$"
   ]
  },
  {
   "cell_type": "code",
   "execution_count": null,
   "metadata": {
    "collapsed": false
   },
   "outputs": [],
   "source": [
    "A.H"
   ]
  },
  {
   "cell_type": "markdown",
   "metadata": {},
   "source": [
    "<p>Элементы диагонали матрицы</p>"
   ]
  },
  {
   "cell_type": "code",
   "execution_count": null,
   "metadata": {
    "collapsed": false
   },
   "outputs": [],
   "source": [
    "A = np.array([[1,2,3],[4,5,6],[7,8,9]])\n",
    "A.diagonal()"
   ]
  },
  {
   "cell_type": "markdown",
   "metadata": {},
   "source": [
    "<p>Максимальный элемент матрицы</p>"
   ]
  },
  {
   "cell_type": "code",
   "execution_count": null,
   "metadata": {
    "collapsed": false
   },
   "outputs": [],
   "source": [
    "#NumPy\n",
    "A = np.array([[1,2,3],[4,5,6],[7,8,9]])\n",
    "A.max()"
   ]
  },
  {
   "cell_type": "code",
   "execution_count": null,
   "metadata": {
    "collapsed": false
   },
   "outputs": [],
   "source": [
    "#Стандартный Python\n",
    "A = [[1,2,3],[4,5,6],[7,8,9]]\n",
    "max(A)"
   ]
  },
  {
   "cell_type": "code",
   "execution_count": null,
   "metadata": {
    "collapsed": false
   },
   "outputs": [],
   "source": [
    "#Стандартный Python\n",
    "A = [[1,2,3],[4,5,6],[7,8,9]]\n",
    "max(max(A))"
   ]
  },
  {
   "cell_type": "markdown",
   "metadata": {},
   "source": [
    "<p>Минимальный элемент матрицы</p>"
   ]
  },
  {
   "cell_type": "code",
   "execution_count": null,
   "metadata": {
    "collapsed": false
   },
   "outputs": [],
   "source": [
    "A = np.array([[1,2,3],[4,5,6],[7,8,9]])\n",
    "A.min()"
   ]
  },
  {
   "cell_type": "markdown",
   "metadata": {},
   "source": [
    "<p>Сумма элементов матрицы</p>"
   ]
  },
  {
   "cell_type": "code",
   "execution_count": null,
   "metadata": {
    "collapsed": false
   },
   "outputs": [],
   "source": [
    "#NumPy\n",
    "A = np.array([[1,2,3],[4,5,6],[7,8,9]])\n",
    "A.sum()"
   ]
  },
  {
   "cell_type": "code",
   "execution_count": null,
   "metadata": {
    "collapsed": false
   },
   "outputs": [],
   "source": [
    "#NumPy\n",
    "A = np.array([[1,2,3],[4,5,6],[7,8,9]])\n",
    "A.sum(axis=1)"
   ]
  },
  {
   "cell_type": "code",
   "execution_count": null,
   "metadata": {
    "collapsed": false
   },
   "outputs": [],
   "source": [
    "#Стандартный Python\n",
    "A = [[1,2,3],[4,5,6],[7,8,9]]\n",
    "sum(map(sum, A))"
   ]
  },
  {
   "cell_type": "markdown",
   "metadata": {},
   "source": [
    "<p>Стандартное отклонение</p>"
   ]
  },
  {
   "cell_type": "code",
   "execution_count": null,
   "metadata": {
    "collapsed": false
   },
   "outputs": [],
   "source": [
    "A = np.array([[1,2,3],[4,5,6],[7,8,9]])\n",
    "A.std()"
   ]
  },
  {
   "cell_type": "code",
   "execution_count": null,
   "metadata": {
    "collapsed": false
   },
   "outputs": [],
   "source": [
    "A = np.array([[1,2,3],[4,5,6],[7,8,9]])\n",
    "A.std(axis=1)"
   ]
  },
  {
   "cell_type": "markdown",
   "metadata": {},
   "source": [
    "<a name=\"3\"></a>\n",
    "<div style=\"display:table; width:100%; padding-top:10px; padding-bottom:10px; border-bottom:1px solid lightgrey\">\n",
    "    <div style=\"display:table-row\">\n",
    "        <div style=\"display:table-cell; width:80%; font-size:14pt; font-weight:bold\">3. Пример с регрессией</div>\n",
    "    \t<div style=\"display:table-cell; width:20%; text-align:center; background-color:whitesmoke; border:1px solid lightgrey\"><a href=\"#0\">К содержанию</a></div>\n",
    "    </div>\n",
    "</div>"
   ]
  },
  {
   "cell_type": "code",
   "execution_count": null,
   "metadata": {
    "collapsed": true
   },
   "outputs": [],
   "source": [
    "import pandas as pnd\n",
    "import matplotlib.pyplot as plt\n",
    "%matplotlib inline"
   ]
  },
  {
   "cell_type": "code",
   "execution_count": null,
   "metadata": {
    "collapsed": false
   },
   "outputs": [],
   "source": [
    "df1 = pnd.read_csv(\"SAT_GPA.csv\", sep=\" \")\n",
    "df1.head(5)"
   ]
  },
  {
   "cell_type": "code",
   "execution_count": null,
   "metadata": {
    "collapsed": false
   },
   "outputs": [],
   "source": [
    "#df2 = df1[df1.high_GPA>=3].sort([\"high_GPA\"])\n",
    "df2 = df1.sort([\"high_GPA\"])\n",
    "df2.head(5)"
   ]
  },
  {
   "cell_type": "markdown",
   "metadata": {},
   "source": [
    "<p>Визуализация исходных данных</p>"
   ]
  },
  {
   "cell_type": "code",
   "execution_count": null,
   "metadata": {
    "collapsed": false
   },
   "outputs": [],
   "source": [
    "plt.plot(df2[\"high_GPA\"], df2[\"univ_GPA\"],'o')\n",
    "plt.xlabel(\"High_GPA\")\n",
    "plt.ylabel(\"Univ_GPA\")\n",
    "plt.grid(True)\n",
    "\n",
    "xA = df2.loc[36, \"high_GPA\"]\n",
    "yA = df2.loc[36, \"univ_GPA\"]\n",
    "xyA = \"$(\"+str(xA)+\",\"+str(yA)+\")$\"\n",
    "plt.annotate(xyA, xy=(xA, yA), xytext=(50, -100), xycoords='data', textcoords='offset points', arrowprops=dict(arrowstyle=\"->\",\n",
    "                                connectionstyle=\"arc,angleA=0,armA=0,angleB=-90,armB=15,rad=7\"),)"
   ]
  },
  {
   "cell_type": "code",
   "execution_count": null,
   "metadata": {
    "collapsed": false
   },
   "outputs": [],
   "source": [
    "df2.shape"
   ]
  },
  {
   "cell_type": "code",
   "execution_count": null,
   "metadata": {
    "collapsed": false
   },
   "outputs": [],
   "source": [
    "df2[\"high_GPA\"].head(5)"
   ]
  },
  {
   "cell_type": "code",
   "execution_count": null,
   "metadata": {
    "collapsed": true
   },
   "outputs": [],
   "source": [
    "from scipy import stats"
   ]
  },
  {
   "cell_type": "markdown",
   "metadata": {},
   "source": [
    "<p>Линейная регрессия</p>"
   ]
  },
  {
   "cell_type": "code",
   "execution_count": null,
   "metadata": {
    "collapsed": false
   },
   "outputs": [],
   "source": [
    "m = np.array(list(zip(np.ones(len(df2)), df2[\"high_GPA\"])))\n",
    "m[0:5]"
   ]
  },
  {
   "cell_type": "code",
   "execution_count": null,
   "metadata": {
    "collapsed": false
   },
   "outputs": [],
   "source": [
    "slope, intercept, r_value, p_value, std_err = stats.linregress(df2[\"high_GPA\"], df2[\"univ_GPA\"])\n",
    "print(slope, intercept)"
   ]
  },
  {
   "cell_type": "markdown",
   "metadata": {},
   "source": [
    "<p>Исследуемые модели:</p>"
   ]
  },
  {
   "cell_type": "markdown",
   "metadata": {},
   "source": [
    "$$\\hat{y}_1=f_1 \\left( x \\right)=b_1 + a_1 x = 0.3 + 0.9 x$$\n",
    "$$\\hat{y}_2=f_2 \\left( x \\right)=b_2 + a_2 x = 0.7 + 1.1 x$$\n",
    "$$\\hat{y}_3=f_3 \\left( x \\right)=b_3 + a_3 x = 0.4 + 2.0 x$$"
   ]
  },
  {
   "cell_type": "markdown",
   "metadata": {},
   "source": [
    "<p>Построение графиков моделей</p>"
   ]
  },
  {
   "cell_type": "code",
   "execution_count": null,
   "metadata": {
    "collapsed": false
   },
   "outputs": [],
   "source": [
    "minHGRA = df2[\"high_GPA\"].min()\n",
    "maxHGRA = df2[\"high_GPA\"].max()\n",
    "\n",
    "x = np.arange(minHGRA, maxHGRA + 0.2, maxHGRA-minHGRA)\n",
    "x"
   ]
  },
  {
   "cell_type": "code",
   "execution_count": null,
   "metadata": {
    "collapsed": false
   },
   "outputs": [],
   "source": [
    "def f(x, intercept, slope):\n",
    "    return slope*x+intercept\n",
    "\n",
    "plt.plot(df2[\"high_GPA\"], df2[\"univ_GPA\"],'o', x, f(x, 0.3, 0.9), '-', x,  f(x, 1.1, 0.7), '-', x, f(x, 2, 0.4), '-')\n",
    "plt.xlabel(\"SAT\")\n",
    "plt.ylabel(\"GPA\")\n",
    "plt.title(\"Plot of Models\")\n",
    "plt.grid(True)\n",
    "plt.legend((\"$(x_i,y_i)$\", \"$\\hat{y}_1=0.3+0.9x$\", \"$\\hat{y}_2=0.7+1.1x$\", \"$\\hat{y}_3=0.4+2.0x$\"), loc=\"lower right\")"
   ]
  },
  {
   "cell_type": "code",
   "execution_count": null,
   "metadata": {
    "collapsed": false
   },
   "outputs": [],
   "source": [
    "vM = np.array([[0.3, 0.7, 0.4],[0.9, 1.1, 2]])\n",
    "vM"
   ]
  },
  {
   "cell_type": "code",
   "execution_count": null,
   "metadata": {
    "collapsed": false
   },
   "outputs": [],
   "source": [
    "m1 = np.dot(m, vM)"
   ]
  },
  {
   "cell_type": "code",
   "execution_count": null,
   "metadata": {
    "collapsed": false
   },
   "outputs": [],
   "source": [
    "m1.shape[1]"
   ]
  },
  {
   "cell_type": "code",
   "execution_count": null,
   "metadata": {
    "collapsed": false
   },
   "outputs": [],
   "source": [
    "m1[:,0]"
   ]
  },
  {
   "cell_type": "code",
   "execution_count": null,
   "metadata": {
    "collapsed": false
   },
   "outputs": [],
   "source": [
    "err = np.array([np.sqrt(sum((m1[:,i] - df2[\"univ_GPA\"])**2)) for i in range(m1.shape[1])])\n",
    "err"
   ]
  },
  {
   "cell_type": "code",
   "execution_count": null,
   "metadata": {
    "collapsed": false
   },
   "outputs": [],
   "source": [
    "err = np.array([sum(abs(m1[:,i] - df2[\"univ_GPA\"])) for i in range(m1.shape[1])])\n",
    "err"
   ]
  },
  {
   "cell_type": "markdown",
   "metadata": {},
   "source": [
    "$$\\mathbf{E} = \\{ E_0,E_1, \\ldots,E_{m-1} \\} $$"
   ]
  },
  {
   "cell_type": "markdown",
   "metadata": {},
   "source": [
    "$$E_i= \\displaystyle\\sum_{j=1}^{n} \\left| \\hat{y}_{i,j} - y_{j} \\right| =\\displaystyle\\sum_{j=1}^{n} \\left| f_{i} \\left( x_j \\right) - y_{j} \\right|$$\n",
    "$$E_i= \\displaystyle\\sum_{j=1}^{n} \\left (\\hat{y}_{i,j} - y_{j} \\right)^2 =\\displaystyle\\sum_{j=1}^{n} \\left (f_{i} \\left( x_j \\right) - y_{j} \\right)^2$$"
   ]
  },
  {
   "cell_type": "markdown",
   "metadata": {},
   "source": [
    "$$i^*=\\operatorname*{arg\\,min}_{0 \\leq i<m} \\left( E_i \\right)$$"
   ]
  },
  {
   "cell_type": "code",
   "execution_count": null,
   "metadata": {
    "collapsed": false
   },
   "outputs": [],
   "source": [
    "err.argmin() + 1"
   ]
  },
  {
   "cell_type": "markdown",
   "metadata": {},
   "source": [
    "<a name=\"4\"></a>\n",
    "<div style=\"display:table; width:100%; padding-top:10px; padding-bottom:10px; border-bottom:1px solid lightgrey\">\n",
    "    <div style=\"display:table-row\">\n",
    "        <div style=\"display:table-cell; width:80%; font-size:14pt; font-weight:bold\">4. Задание</div>\n",
    "    \t<div style=\"display:table-cell; width:20%; text-align:center; background-color:whitesmoke; border:1px solid lightgrey\"><a href=\"#0\">К содержанию</a></div>\n",
    "    </div>\n",
    "</div>"
   ]
  },
  {
   "cell_type": "markdown",
   "metadata": {},
   "source": [
    "<p>Необходимо написать код на стандартном python'е, т.е без использования дополнительных библиотек вроде numpy и пр. Всего 5 задач (максимум 13 баллов): 1-4 для всех, 5-ая в соотвествии с вариантом. Код для каждой задачи должен быть оформлен в виде функции.</p>\n",
    "<p>Чтобы узнать свой вариант, введите Вашу фамилию в соответвующее поле ниже и запустите ячейку:</p>"
   ]
  },
  {
   "cell_type": "code",
   "execution_count": null,
   "metadata": {
    "collapsed": false
   },
   "outputs": [],
   "source": [
    "surname = \"Иванов\" #Ваша фамилия\n",
    "\n",
    "alp = 'абвгдеёжзийклмнопрстуфхцчшщъыьэюя'\n",
    "w = [6, 31, 38, 29, 29, 20, 16,  4, 34,  3, 39, 33, 36, 33, 20,  3, 22,\n",
    "       31,  3, 34, 16, 25, 25, 25, 23, 13, 35, 19, 20, 26, 34, 39,  8]\n",
    "d = dict(zip(alp, w))\n",
    "variant =  sum([d[el] for el in surname.lower()]) % 3 + 1\n",
    "print(\"Ваш вариант - \", variant)"
   ]
  },
  {
   "cell_type": "markdown",
   "metadata": {},
   "source": [
    "<p><b>Задача 1.</b> Вычисление определителя матрицы 2x2 - 1 балл</p> "
   ]
  },
  {
   "cell_type": "code",
   "execution_count": null,
   "metadata": {
    "collapsed": true
   },
   "outputs": [],
   "source": [
    "#Ваш код"
   ]
  },
  {
   "cell_type": "markdown",
   "metadata": {},
   "source": [
    "<p><b>Задача 2.</b> Вычисление определителя матрицы 3x3 - 2 балл</p>"
   ]
  },
  {
   "cell_type": "code",
   "execution_count": null,
   "metadata": {
    "collapsed": true
   },
   "outputs": [],
   "source": [
    "#Ваш код"
   ]
  },
  {
   "cell_type": "markdown",
   "metadata": {},
   "source": [
    "<p><b>Задача 3.</b> Умножение матриц через внутреннее произведение векторов - 3 балла</p>"
   ]
  },
  {
   "cell_type": "code",
   "execution_count": null,
   "metadata": {
    "collapsed": true
   },
   "outputs": [],
   "source": [
    "#Ваш код"
   ]
  },
  {
   "cell_type": "markdown",
   "metadata": {},
   "source": [
    "<p><b>Задача 4.</b> Умножение матриц через внешнее произведение векторов - 3 балла</p>"
   ]
  },
  {
   "cell_type": "code",
   "execution_count": null,
   "metadata": {
    "collapsed": true
   },
   "outputs": [],
   "source": [
    "#Ваш код"
   ]
  },
  {
   "cell_type": "markdown",
   "metadata": {},
   "source": [
    "<p><b>Задача 5a.</b> Определение ранга матрицы <i>(вариант 1)</i> - 4 балла</p>"
   ]
  },
  {
   "cell_type": "code",
   "execution_count": null,
   "metadata": {
    "collapsed": true
   },
   "outputs": [],
   "source": [
    "#Вариант 1\n",
    "#Ваш код"
   ]
  },
  {
   "cell_type": "markdown",
   "metadata": {},
   "source": [
    "<p><b>Задача 5b.</b> Вычисление определителя матрицы <i>(вариант 2)</i> - 4 балла</p>"
   ]
  },
  {
   "cell_type": "code",
   "execution_count": null,
   "metadata": {
    "collapsed": true
   },
   "outputs": [],
   "source": [
    "#Вариант 2\n",
    "#Ваш код"
   ]
  },
  {
   "cell_type": "markdown",
   "metadata": {},
   "source": [
    "<p><b>Задача 5c.</b> Вычисление обратной матрицы <i>(вариант 3)</i> - 4 балла</p>"
   ]
  },
  {
   "cell_type": "code",
   "execution_count": null,
   "metadata": {
    "collapsed": true
   },
   "outputs": [],
   "source": [
    "#Вариант 3\n",
    "#Ваш код"
   ]
  },
  {
   "cell_type": "markdown",
   "metadata": {},
   "source": [
    "<a name=\"5\"></a>\n",
    "<div style=\"display:table; width:100%; padding-top:10px; padding-bottom:10px; border-bottom:1px solid lightgrey\">\n",
    "    <div style=\"display:table-row\">\n",
    "        <div style=\"display:table-cell; width:80%; font-size:14pt; font-weight:bold\">6. Источники</div>\n",
    "    \t<div style=\"display:table-cell; width:20%; text-align:center; background-color:whitesmoke; border:1px solid lightgrey\"><a href=\"#0\">К содержанию</a></div>\n",
    "    </div>\n",
    "</div>"
   ]
  },
  {
   "cell_type": "markdown",
   "metadata": {
    "collapsed": true
   },
   "source": [
    "https://www.dropbox.com/sh/scqnaybiipg0ojw/AACdpHC4f5hW4ldOkHetjtSva?dl=0"
   ]
  },
  {
   "cell_type": "code",
   "execution_count": null,
   "metadata": {
    "collapsed": true
   },
   "outputs": [],
   "source": []
  }
 ],
 "metadata": {
  "kernelspec": {
   "display_name": "Python 3",
   "language": "python",
   "name": "python3"
  },
  "language_info": {
   "codemirror_mode": {
    "name": "ipython",
    "version": 3
   },
   "file_extension": ".py",
   "mimetype": "text/x-python",
   "name": "python",
   "nbconvert_exporter": "python",
   "pygments_lexer": "ipython3",
   "version": "3.4.3"
  }
 },
 "nbformat": 4,
 "nbformat_minor": 0
}

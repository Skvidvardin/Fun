{
 "cells": [
  {
   "cell_type": "code",
   "execution_count": 102,
   "metadata": {},
   "outputs": [],
   "source": [
    "import numpy as np\n",
    "import scipy as sp\n",
    "from scipy.sparse import csgraph"
   ]
  },
  {
   "cell_type": "code",
   "execution_count": 103,
   "metadata": {},
   "outputs": [],
   "source": [
    "W = \\\n",
    "np.array([[0.0, np.sqrt(26.0), np.sqrt(17.0), np.sqrt(10.0), np.sqrt(2.0), \\\n",
    "4.0, np.sqrt(20.0), np.sqrt(2.0), 2.0, 1.0],\n",
    "[np.sqrt(26.0), 0.0, 1.0, 2.0, 4.0, \\\n",
    "np.sqrt(2.0), np.sqrt(2.0), 6.0, np.sqrt(26.0), 5.0],\n",
    "[np.sqrt(17.0), 1.0, 0.0, 1.0, 3.0, \\\n",
    "1.0, 1.0, 5.0, np.sqrt(17.0), 4.0],\n",
    "[np.sqrt(10.0), 2.0, 1.0, 0.0, 2.0, \\\n",
    "np.sqrt(2.0), np.sqrt(2.0), 4.0, np.sqrt(10.0), 3.0],\n",
    "[np.sqrt(2.0), 4.0, 3.0, 2.0, 0.0, \\\n",
    "np.sqrt(10.0), np.sqrt(10.0), 2.0, np.sqrt(2.0), 1.0],\n",
    "[4.0, np.sqrt(2.0), 1.0, np.sqrt(2.0), np.sqrt(10.0), \\\n",
    "0.0, 2.0, np.sqrt(26.0), np.sqrt(20.0), np.sqrt(17.0)],\n",
    "[np.sqrt(20.0), np.sqrt(2.0), 1.0, np.sqrt(2.0), np.sqrt(10.0), \\\n",
    "2.0, 0.0, np.sqrt(26.0), 4.0, np.sqrt(17.0)],\n",
    "[np.sqrt(2.0), 6.0, 5.0, 4.0, 2.0, \\\n",
    "np.sqrt(26.0), np.sqrt(26.0), 0.0, np.sqrt(2.0), 1.0],\n",
    "[2.0, np.sqrt(26.0), np.sqrt(17.0), np.sqrt(10.0), np.sqrt(2.0), \\\n",
    "np.sqrt(20.0), 4.0, np.sqrt(2.0), 0.0, 1.0],\n",
    "[1.0, 5.0, 4.0, 3.0, 1.0, \\\n",
    "np.sqrt(17.0), np.sqrt(17.0), 1.0, 1.0, 0.0],])"
   ]
  },
  {
   "cell_type": "code",
   "execution_count": 104,
   "metadata": {},
   "outputs": [],
   "source": [
    "# посчитаем Лапласиан для матрицы весов как: L = D - W\n",
    "L = csgraph.laplacian(W, normed=False) "
   ]
  },
  {
   "cell_type": "code",
   "execution_count": 105,
   "metadata": {},
   "outputs": [],
   "source": [
    "# посчитаем собственные значения Лапласиана\n",
    "eigenvalues = np.linalg.eig(L)[0]\n",
    "# Найдем индекс второго минимального собственного значения Лапласиана\n",
    "second_min_index = np.argwhere(eigenvalues == np.amin(eigenvalues[eigenvalues != np.amin(eigenvalues)]))"
   ]
  },
  {
   "cell_type": "code",
   "execution_count": 107,
   "metadata": {},
   "outputs": [
    {
     "data": {
      "text/plain": [
       "array([[[ 1., -1.,  1., -1., -1., -1., -1., -1.,  1., -1.]]])"
      ]
     },
     "execution_count": 107,
     "metadata": {},
     "output_type": "execute_result"
    }
   ],
   "source": [
    "# В качестве меток классов объектов возмем знак элементов \"второго минимального\" собственного вектора\n",
    "np.sign(np.linalg.eig(L)[1][second_min_index])"
   ]
  }
 ],
 "metadata": {
  "kernelspec": {
   "display_name": "Python 3",
   "language": "python",
   "name": "python3"
  },
  "language_info": {
   "codemirror_mode": {
    "name": "ipython",
    "version": 3
   },
   "file_extension": ".py",
   "mimetype": "text/x-python",
   "name": "python",
   "nbconvert_exporter": "python",
   "pygments_lexer": "ipython3",
   "version": "3.5.2"
  }
 },
 "nbformat": 4,
 "nbformat_minor": 2
}
